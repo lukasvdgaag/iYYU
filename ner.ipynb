{
 "cells": [
  {
   "cell_type": "code",
   "execution_count": 1,
   "metadata": {},
   "outputs": [],
   "source": [
    "train_sentences = [\n",
    "    {\"text\": [\"How\", \"do\", \"I\", \"turn\", \"on\", \"setting_brightness\", \"?\"], \"ner\": [\"O\", \"O\", \"O\", \"state\", \"state\", \"setting_name\", \"O\"]},\n",
    "    {\"text\": [\"I\", \"want\", \"to\", \"turn\", \"setting_volume\", \"off\", \".\"], \"ner\": [\"O\", \"O\", \"O\", \"state\", \"setting_name\", \"state\", \"O\"]},\n",
    "    {\"text\": [\"Can\", \"you\", \"please\", \"turn\", \"setting_wifi\", \"on\", \"?\"], \"ner\": [\"O\", \"O\", \"O\", \"state\", \"setting_name\", \"state\", \"O\"]},\n",
    "    {\"text\": [\"Turn\", \"off\", \"setting_bluetooth\", \"please\", \".\"], \"ner\": [\"state\", \"state\", \"setting_name\", \"O\", \"O\"]},\n",
    "    {\"text\": [\"Enable\", \"setting_notifications\", \"for\", \"me\", \".\"], \"ner\": [\"state\", \"setting_name\", \"O\", \"O\", \"O\"]},\n",
    "    {\"text\": [\"I\", \"would\", \"like\", \"to\", \"disable\", \"setting_location\", \"services\", \".\"], \"ner\": [\"O\", \"O\", \"O\", \"O\", \"state\", \"setting_name\", \"setting_name\", \"O\"]},\n",
    "    {\"text\": [\"How\", \"can\", \"I\", \"change\", \"the\", \"setting_screen_timeout\", \"?\"], \"ner\": [\"O\", \"O\", \"O\", \"O\", \"O\", \"setting_name\", \"O\"]},\n",
    "    {\"text\": [\"I\", \"want\", \"to\", \"switch\", \"setting_vpn\", \"on\", \".\"], \"ner\": [\"O\", \"O\", \"O\", \"state\", \"setting_name\", \"state\", \"O\"]},\n",
    "    {\"text\": [\"Please\", \"turn\", \"setting_autoupdate\", \"off\", \"for\", \"me\", \".\"], \"ner\": [\"O\", \"state\", \"setting_name\", \"state\", \"O\", \"O\", \"O\"]},\n",
    "    {\"text\": [\"Can\", \"I\", \"enable\", \"setting_mobile_data\", \"?\"], \"ner\": [\"O\", \"O\", \"state\", \"setting_name\", \"O\"]},\n",
    "    {\"text\": [\"I\", \"don't\", \"want\", \"setting_autosync\", \"to\", \"be\", \"on\", \"anymore\", \".\"], \"ner\": [\"O\", \"O\", \"O\", \"setting_name\", \"O\", \"O\", \"state\", \"O\", \"O\"]},\n",
    "    {\"text\": [\"Turn\", \"setting_flight_mode\", \"off\", \".\"], \"ner\": [\"state\", \"setting_name\", \"state\", \"O\"]},\n",
    "    {\"text\": [\"How\", \"to\", \"switch\", \"setting_dnd\", \"off\", \"?\"], \"ner\": [\"O\", \"O\", \"state\", \"setting_name\", \"state\", \"O\"]},\n",
    "    {\"text\": [\"Can\", \"I\", \"turn\", \"setting_gps\", \"on\", \"?\"], \"ner\": [\"O\", \"O\", \"state\", \"setting_name\", \"state\", \"O\"]},\n",
    "    {\"text\": [\"Enable\", \"setting_hotspot\", \"please\", \".\"], \"ner\": [\"state\", \"setting_name\", \"O\", \"O\"]},\n",
    "    {\"text\": [\"Please\", \"disable\", \"setting_auto_rotate\", \".\"], \"ner\": [\"O\", \"state\", \"setting_name\", \"O\"]},\n",
    "    {\"text\": [\"How\", \"do\", \"I\", \"turn\", \"setting_data_roaming\", \"off\", \"?\"], \"ner\": [\"O\", \"O\", \"O\", \"state\", \"setting_name\", \"state\", \"O\"]},\n",
    "    {\"text\": [\"Switch\", \"setting_nfc\", \"on\", \".\"], \"ner\": [\"state\", \"setting_name\", \"state\", \"O\"]},\n",
    "    {\"text\": [\"Turn\", \"setting_airplane_mode\", \"off\", \".\"], \"ner\": [\"state\", \"setting_name\", \"state\", \"O\"]},\n",
    "    {\"text\": [\"How\", \"to\", \"enable\", \"setting_dark_mode\", \"?\"], \"ner\": [\"O\", \"O\", \"state\", \"setting_name\", \"O\"]},\n",
    "    {\"text\": [\"Can\", \"you\", \"turn\", \"setting_screen_lock\", \"on\", \"?\"], \"ner\": [\"O\", \"O\", \"state\", \"setting_name\", \"state\", \"O\"]},\n",
    "]\n"
   ]
  },
  {
   "cell_type": "code",
   "execution_count": 3,
   "metadata": {},
   "outputs": [
    {
     "name": "stderr",
     "output_type": "stream",
     "text": [
      "Some weights of the model checkpoint at bert-base-uncased were not used when initializing BertForTokenClassification: ['cls.seq_relationship.weight', 'cls.predictions.transform.dense.bias', 'cls.predictions.bias', 'cls.seq_relationship.bias', 'cls.predictions.transform.LayerNorm.weight', 'cls.predictions.transform.LayerNorm.bias', 'cls.predictions.decoder.weight', 'cls.predictions.transform.dense.weight']\n",
      "- This IS expected if you are initializing BertForTokenClassification from the checkpoint of a model trained on another task or with another architecture (e.g. initializing a BertForSequenceClassification model from a BertForPreTraining model).\n",
      "- This IS NOT expected if you are initializing BertForTokenClassification from the checkpoint of a model that you expect to be exactly identical (initializing a BertForSequenceClassification model from a BertForSequenceClassification model).\n",
      "Some weights of BertForTokenClassification were not initialized from the model checkpoint at bert-base-uncased and are newly initialized: ['classifier.bias', 'classifier.weight']\n",
      "You should probably TRAIN this model on a down-stream task to be able to use it for predictions and inference.\n",
      "/Library/Frameworks/Python.framework/Versions/3.10/lib/python3.10/site-packages/transformers/optimization.py:391: FutureWarning: This implementation of AdamW is deprecated and will be removed in a future version. Use the PyTorch implementation torch.optim.AdamW instead, or set `no_deprecation_warning=True` to disable this warning\n",
      "  warnings.warn(\n"
     ]
    },
    {
     "name": "stdout",
     "output_type": "stream",
     "text": [
      "huggingface/tokenizers: The current process just got forked, after parallelism has already been used. Disabling parallelism to avoid deadlocks...\n",
      "To disable this warning, you can either:\n",
      "\t- Avoid using `tokenizers` before the fork if possible\n",
      "\t- Explicitly set the environment variable TOKENIZERS_PARALLELISM=(true | false)\n"
     ]
    },
    {
     "name": "stderr",
     "output_type": "stream",
     "text": [
      "100%|██████████| 40/40 [02:25<00:00,  3.63s/it]"
     ]
    },
    {
     "name": "stdout",
     "output_type": "stream",
     "text": [
      "{'train_runtime': 145.1018, 'train_samples_per_second': 2.895, 'train_steps_per_second': 0.276, 'train_loss': 0.23427119255065917, 'epoch': 20.0}\n",
      "Predicted entities: [('turn', 'state'), ('on', 'state'), ('setting', 'setting_name')]\n"
     ]
    },
    {
     "name": "stderr",
     "output_type": "stream",
     "text": [
      "\n"
     ]
    }
   ],
   "source": [
    "from transformers import BertForTokenClassification, BertTokenizerFast, TrainingArguments, Trainer\n",
    "import torch\n",
    "\n",
    "# Load pre-trained model and tokenizer\n",
    "model = BertForTokenClassification.from_pretrained('bert-base-uncased', num_labels=3)\n",
    "tokenizer = BertTokenizerFast.from_pretrained('bert-base-uncased')\n",
    "\n",
    "# Define a mapping from label names to indices\n",
    "label_to_index = {\"O\": 0, \"setting_name\": 1, \"state\": 2}\n",
    "index_to_label = {v: k for k, v in label_to_index.items()}\n",
    "\n",
    "# Function to encode the examples\n",
    "def encode_example(sentence):\n",
    "    inputs = tokenizer(sentence['text'], is_split_into_words=True, padding='max_length', truncation=True, max_length=128)\n",
    "    labels = [-100 if token_id==tokenizer.pad_token_id else label_to_index[label] for token_id, label in zip(inputs['input_ids'], sentence['ner'])]  \n",
    "    labels += [-100] * (128 - len(labels))  # pad labels to the max length\n",
    "    inputs['labels'] = labels\n",
    "    return inputs\n",
    "\n",
    "\n",
    "# Encode all examples\n",
    "train_encodings = [encode_example(s) for s in train_sentences]\n",
    "train_encodings = [ {k: torch.tensor(v) for k, v in enc.items()} for enc in train_encodings]\n",
    "\n",
    "# Define the training arguments\n",
    "training_args = TrainingArguments(\n",
    "    output_dir='./results',\n",
    "    num_train_epochs=20,\n",
    "    per_device_train_batch_size=16,\n",
    "    weight_decay=0.01,\n",
    ")\n",
    "\n",
    "# Define the Trainer\n",
    "trainer = Trainer(\n",
    "    model=model,\n",
    "    args=training_args,\n",
    "    train_dataset=train_encodings,\n",
    ")\n",
    "\n",
    "# Train the model\n",
    "trainer.train()\n",
    "\n",
    "# Function to extract settings and states\n",
    "def extract_settings_and_states(sentence):\n",
    "    inputs = tokenizer(sentence, return_tensors=\"pt\", truncation=True, padding=True)\n",
    "    outputs = model(**inputs)\n",
    "    predictions = torch.argmax(outputs.logits, dim=2)\n",
    "\n",
    "    predicted_labels = [index_to_label[p] for p in predictions[0].tolist()]\n",
    "\n",
    "    # Match up the original tokens with their predicted labels\n",
    "    original_tokens = tokenizer.tokenize(sentence)\n",
    "    \n",
    "    # Only include labels that are not 'O'\n",
    "    entities = [(token, label) for token, label in zip(original_tokens, predicted_labels) if label != 'O']\n",
    "\n",
    "    return entities\n",
    "\n",
    "print(\"Predicted entities:\", extract_settings_and_states(\"How do I turn on setting_brightness?\"))\n"
   ]
  },
  {
   "attachments": {},
   "cell_type": "markdown",
   "metadata": {},
   "source": [
    "# Test model"
   ]
  },
  {
   "cell_type": "code",
   "execution_count": 5,
   "metadata": {},
   "outputs": [
    {
     "name": "stdout",
     "output_type": "stream",
     "text": [
      "Predicted entities: [('turn', 'state'), ('on', 'state'), ('brightness', 'setting_name')]\n",
      "Predicted entities: [('turn', 'state'), ('off', 'state'), ('hot', 'setting_name')]\n",
      "Predicted entities: [('turn', 'state'), ('on', 'setting_name'), ('screen', 'setting_name')]\n",
      "Predicted entities: [('turn', 'state'), ('off', 'state'), ('wi', 'setting_name')]\n"
     ]
    }
   ],
   "source": [
    "print(\"Predicted entities:\", extract_settings_and_states(\"How do I turn on brightness?\"))\n",
    "print(\"Predicted entities:\", extract_settings_and_states(\"How do I turn off hotspot?\"))\n",
    "print(\"Predicted entities:\", extract_settings_and_states(\"How do I turn on screen_lock?\"))\n",
    "print(\"Predicted entities:\", extract_settings_and_states(\"How do I turn off wifi?\"))\n"
   ]
  },
  {
   "cell_type": "code",
   "execution_count": null,
   "metadata": {},
   "outputs": [],
   "source": []
  }
 ],
 "metadata": {
  "kernelspec": {
   "display_name": "Python 3",
   "language": "python",
   "name": "python3"
  },
  "language_info": {
   "codemirror_mode": {
    "name": "ipython",
    "version": 3
   },
   "file_extension": ".py",
   "mimetype": "text/x-python",
   "name": "python",
   "nbconvert_exporter": "python",
   "pygments_lexer": "ipython3",
   "version": "3.10.9"
  },
  "orig_nbformat": 4
 },
 "nbformat": 4,
 "nbformat_minor": 2
}
