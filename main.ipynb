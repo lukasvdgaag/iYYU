{
 "cells": [
  {
   "attachments": {},
   "cell_type": "markdown",
   "metadata": {},
   "source": [
    "# Sentiment analysis"
   ]
  },
  {
   "cell_type": "code",
   "execution_count": 20,
   "metadata": {},
   "outputs": [
    {
     "name": "stderr",
     "output_type": "stream",
     "text": [
      "Some weights of the model checkpoint at bert-base-uncased were not used when initializing BertForSequenceClassification: ['cls.predictions.transform.LayerNorm.weight', 'cls.seq_relationship.weight', 'cls.predictions.transform.dense.bias', 'cls.seq_relationship.bias', 'cls.predictions.transform.dense.weight', 'cls.predictions.decoder.weight', 'cls.predictions.bias', 'cls.predictions.transform.LayerNorm.bias']\n",
      "- This IS expected if you are initializing BertForSequenceClassification from the checkpoint of a model trained on another task or with another architecture (e.g. initializing a BertForSequenceClassification model from a BertForPreTraining model).\n",
      "- This IS NOT expected if you are initializing BertForSequenceClassification from the checkpoint of a model that you expect to be exactly identical (initializing a BertForSequenceClassification model from a BertForSequenceClassification model).\n",
      "Some weights of BertForSequenceClassification were not initialized from the model checkpoint at bert-base-uncased and are newly initialized: ['classifier.weight', 'classifier.bias']\n",
      "You should probably TRAIN this model on a down-stream task to be able to use it for predictions and inference.\n"
     ]
    },
    {
     "name": "stdout",
     "output_type": "stream",
     "text": [
      "[('Can you summarize the privacy policy for me?', 'privacy_policy', 'summarization'), ('What information does the privacy policy collect?', 'privacy_policy', 'question_answering'), ('How can I opt out of data sharing?', 'privacy_policy', 'question_answering'), ('Is my personal information shared with third parties?', 'privacy_policy', 'question_answering'), ('What information does the privacy policy collect?', 'privacy_policy', 'collection'), ('How does the company use my personal information?', 'privacy_policy', 'usage'), ('Is my personal information shared with third parties?', 'privacy_policy', 'sharing'), ('How is my personal information stored and secured?', 'privacy_policy', 'storage_security'), ('What are my rights regarding my personal information?', 'privacy_policy', 'rights'), ('How can I request access to my personal information?', 'privacy_policy', 'access'), (\"Can I delete my personal information from the company's records?\", 'privacy_policy', 'deletion'), (\"What are the company's cookie policies?\", 'privacy_policy', 'cookie_policies'), ('Does the company comply with privacy regulations?', 'privacy_policy', 'compliance'), ('How often is the privacy policy updated?', 'privacy_policy', 'updates'), ('Can you summarize the privacy policy for me?', 'privacy_policy', 'summarization'), (\"What is the minimum age requirement for using the company's services?\", 'privacy_policy', 'age_requirement'), ('Can the company collect my geolocation data?', 'privacy_policy', 'geolocation'), ('What happens to my personal information if the company is acquired or merges with another company?', 'privacy_policy', 'mergers_acquisitions'), ('How does the company handle data breaches?', 'privacy_policy', 'data_breach'), ('Can I opt-out of targeted advertising?', 'privacy_policy', 'opt_out'), ('How can I contact the company for privacy-related concerns?', 'privacy_policy', 'contact'), ('What are the consequences of not agreeing to the privacy policy?', 'privacy_policy', 'consequences'), ('Does the company sell my personal information?', 'privacy_policy', 'selling'), ('What happens to my personal information when I terminate my account?', 'privacy_policy', 'account_termination'), ('What are the terms of service for this platform?', 'legal_statement', 'terms_of_service'), ('Can you summarize the liability section of the terms of service?', 'legal_statement', 'summarization'), ('What are the terms of service for this platform?', 'legal_statement', 'terms_of_service'), ('What is the governing law for the legal agreement?', 'legal_statement', 'governing_law'), ('Can you summarize the liability section of the legal agreement?', 'legal_statement', 'liability'), ('What is the dispute resolution process outlined in the legal agreement?', 'legal_statement', 'dispute_resolution'), ('Can I opt-out of arbitration?', 'legal_statement', 'arbitration'), ('How are disputes handled in small claims court?', 'legal_statement', 'small_claims_court'), ('What are my obligations as a user under the legal agreement?', 'legal_statement', 'user_obligations'), ('How does the legal agreement apply to intellectual property rights?', 'legal_statement', 'intellectual_property'), ('What are the restrictions on my use of the platform or service?', 'legal_statement', 'use_restrictions'), ('Can I transfer my account or subscription to someone else?', 'legal_statement', 'transfer'), ('What is the cancellation policy for subscriptions or services?', 'legal_statement', 'cancellation'), ('Are there any warranty disclaimers in the legal agreement?', 'legal_statement', 'warranty_disclaimers'), ('What are the limitations of liability in the legal agreement?', 'legal_statement', 'limitations_of_liability'), ('How does the legal agreement apply to third-party content or services?', 'legal_statement', 'third_party_content'), (\"What is the company's policy on refunds?\", 'legal_statement', 'refunds'), ('What happens if I violate the legal agreement?', 'legal_statement', 'violations'), ('where can i find the notifications centre', 'platform_settings', 'test_sentiment'), ('Where can I change my account password?', 'platform_settings', 'question_answering'), (\"I'd like to change my password?\", 'platform_settings', 'question_answering'), ('Is it possible to change my password?', 'platform_settings', 'question_answering'), ('Where can i change my password?', 'platform_settings', 'question_answering'), ('How do I reset my password?', 'platform_settings', 'question_answering'), ('I forgot my password, what do I do?', 'platform_settings', 'question_answering'), ('Can you help me change my password?', 'platform_settings', 'question_answering'), (\"Why can't I change my password?\", 'platform_settings', 'question_answering'), ('I need to update my password, how do I do that?', 'platform_settings', 'question_answering'), ('Can you explain the process for linking external accounts?', 'external_platform_settings', 'question_answering'), ('What data is shared with third-party platforms?', 'external_platform_settings', 'question_answering')]\n",
      "{'privacy_policy': ['summarization', 'question_answering', 'question_answering', 'question_answering', 'collection', 'usage', 'sharing', 'storage_security', 'rights', 'access', 'deletion', 'cookie_policies', 'compliance', 'updates', 'summarization', 'age_requirement', 'geolocation', 'mergers_acquisitions', 'data_breach', 'opt_out', 'contact', 'consequences', 'selling', 'account_termination'], 'legal_statement': ['terms_of_service', 'summarization', 'terms_of_service', 'governing_law', 'liability', 'dispute_resolution', 'arbitration', 'small_claims_court', 'user_obligations', 'intellectual_property', 'use_restrictions', 'transfer', 'cancellation', 'warranty_disclaimers', 'limitations_of_liability', 'third_party_content', 'refunds', 'violations'], 'platform_settings': ['test_sentiment', 'question_answering', 'question_answering', 'question_answering', 'question_answering', 'question_answering', 'question_answering', 'question_answering', 'question_answering', 'question_answering'], 'external_platform_settings': ['question_answering', 'question_answering']}\n",
      "Epoch 1, Loss: 1.5516923666000366\n",
      "Epoch 2, Loss: 1.3372727632522583\n",
      "Epoch 3, Loss: 1.2728780508041382\n",
      "Epoch 4, Loss: 1.2418326139450073\n",
      "Epoch 5, Loss: 1.1779975891113281\n",
      "Epoch 6, Loss: 1.120977520942688\n",
      "Epoch 7, Loss: 1.0659372806549072\n",
      "Epoch 8, Loss: 1.022944450378418\n",
      "Epoch 9, Loss: 0.9541416764259338\n",
      "Epoch 10, Loss: 0.8812005519866943\n"
     ]
    }
   ],
   "source": [
    "import torch\n",
    "from transformers import BertTokenizer, BertForSequenceClassification\n",
    "\n",
    "import json\n",
    "\n",
    "# Load the data from JSON file\n",
    "with open(\"sentiment_analysis.json\", \"r\") as f:\n",
    "    data = json.load(f)\n",
    "\n",
    "# Define the training data\n",
    "train_data = []\n",
    "sub_labels = {}\n",
    "for top_level_label, sub_level_labels in data.items():\n",
    "    for sub_level_label_data in sub_level_labels:\n",
    "        text = sub_level_label_data[\"text\"]\n",
    "        sub_level_label = sub_level_label_data[\"sub_level_label\"]\n",
    "        train_data.append((text, top_level_label, sub_level_label))\n",
    "        if top_level_label not in sub_labels:\n",
    "            sub_labels[top_level_label] = []\n",
    "        sub_labels[top_level_label].append(sub_level_label)\n",
    "\n",
    "# Define the mapping between top-level labels and integers\n",
    "top_level_label_map = {label: i for i, label in enumerate(set([data[1] for data in train_data]))}\n",
    "\n",
    "# Define the mapping between sub-level labels and integers\n",
    "sub_level_label_map = {sub_label: i for i, sub_label in enumerate(set([sub_label for sub_labels_list in sub_labels.values() for sub_label in sub_labels_list]))}\n",
    "\n",
    "# Convert the training data labels to integers using the label_map and sub_label_map\n",
    "# A tensor is a multi-dimensional array that looks like a numpy array, it's used for neural networks\n",
    "top_level_labels = torch.tensor([top_level_label_map[data[1]] for data in train_data])\n",
    "sub_level_labels = torch.tensor([sub_level_label_map[sub_label] for data in train_data for sub_label in sub_labels[data[1]]])\n",
    "\n",
    "# Load the pre-trained BERT model and tokenizer\n",
    "model = BertForSequenceClassification.from_pretrained(\"bert-base-uncased\", num_labels=len(top_level_label_map))\n",
    "tokenizer = BertTokenizer.from_pretrained(\"bert-base-uncased\")\n",
    "\n",
    "# Tokenize the training data and convert to tensors\n",
    "inputs = tokenizer.batch_encode_plus([data[0] for data in train_data], padding=True, truncation=True, return_tensors=\"pt\")\n",
    "\n",
    "# Fine-tune the model on the training data\n",
    "optimizer = torch.optim.Adam(model.parameters(), lr=2e-5)\n",
    "loss_fn = torch.nn.CrossEntropyLoss()\n",
    "\n",
    "\n",
    "print(train_data)\n",
    "print(sub_labels)\n",
    "\n",
    "\n",
    "for epoch in range(10):\n",
    "    optimizer.zero_grad()\n",
    "    outputs = model(inputs[\"input_ids\"], attention_mask=inputs[\"attention_mask\"], labels=top_level_labels)\n",
    "    loss = outputs.loss\n",
    "    loss.backward()\n",
    "    optimizer.step()\n",
    "    \n",
    "\n",
    "    print(f\"Epoch {epoch+1}, Loss: {loss.item()}\")\n",
    "\n",
    "    # Evaluate the model on the training data\n",
    "    predictions = outputs.logits.argmax(axis=1)\n",
    "    accuracy = (predictions == top_level_labels).sum()\n",
    "\n"
   ]
  },
  {
   "attachments": {},
   "cell_type": "markdown",
   "metadata": {},
   "source": [
    "## Sentiment analysis query function"
   ]
  },
  {
   "cell_type": "code",
   "execution_count": 29,
   "metadata": {},
   "outputs": [
    {
     "ename": "TypeError",
     "evalue": "unhashable type: 'list'",
     "output_type": "error",
     "traceback": [
      "\u001b[0;31m---------------------------------------------------------------------------\u001b[0m",
      "\u001b[0;31mTypeError\u001b[0m                                 Traceback (most recent call last)",
      "Cell \u001b[0;32mIn[29], line 34\u001b[0m\n\u001b[1;32m     30\u001b[0m     \u001b[39mprint\u001b[39m(sub_level_label_map)\n\u001b[1;32m     31\u001b[0m     \u001b[39mreturn\u001b[39;00m top_level_predicted_intent[\u001b[39m0\u001b[39m] \u001b[39mif\u001b[39;00m top_level_predicted_intent \u001b[39melse\u001b[39;00m \u001b[39mNone\u001b[39;00m, sub_level_predicted_intent[\u001b[39m0\u001b[39m] \u001b[39mif\u001b[39;00m sub_level_predicted_intent \u001b[39melse\u001b[39;00m \u001b[39mNone\u001b[39;00m\n\u001b[0;32m---> 34\u001b[0m top_level_intents, sub_level_intents \u001b[39m=\u001b[39m predict_intent(\u001b[39m\"\u001b[39;49m\u001b[39mHow do I reset my password?\u001b[39;49m\u001b[39m\"\u001b[39;49m)\n\u001b[1;32m     35\u001b[0m \u001b[39mprint\u001b[39m(top_level_intents, sub_level_intents)\n\u001b[1;32m     36\u001b[0m \u001b[39m# top_level_intents, sub_level_intents = predict_intent(\"Can you summarize the liability section of the terms of service?\")\u001b[39;00m\n\u001b[1;32m     37\u001b[0m \u001b[39m# print(top_level_intents, sub_level_intents)\u001b[39;00m\n",
      "Cell \u001b[0;32mIn[29], line 12\u001b[0m, in \u001b[0;36mpredict_intent\u001b[0;34m(text)\u001b[0m\n\u001b[1;32m     10\u001b[0m sub_level_predicted_label \u001b[39m=\u001b[39m torch\u001b[39m.\u001b[39margmax(outputs\u001b[39m.\u001b[39mlogits)\u001b[39m.\u001b[39mitem()\n\u001b[1;32m     11\u001b[0m \u001b[39m# sub_level_predicted_intents = [k for k, v in sub_level_label_map.items() if v in sub_level_predicted_labels]\u001b[39;00m\n\u001b[0;32m---> 12\u001b[0m sub_level_predicted_intent \u001b[39m=\u001b[39m [k \u001b[39mfor\u001b[39;00m k, v \u001b[39min\u001b[39;00m sub_labels[top_level_predicted_intent]\u001b[39m.\u001b[39mitems() \u001b[39mif\u001b[39;00m v \u001b[39m==\u001b[39m sub_level_predicted_label]\n\u001b[1;32m     15\u001b[0m \u001b[39m# top_level_inputs = tokenizer.encode_plus(text, padding=True, truncation=True, return_tensors=\"pt\")\u001b[39;00m\n\u001b[1;32m     16\u001b[0m \u001b[39m# top_level_outputs = model(top_level_inputs[\"input_ids\"], attention_mask=top_level_inputs[\"attention_mask\"])\u001b[39;00m\n\u001b[1;32m     17\u001b[0m \u001b[39m# # top_level_predicted_labels = torch.argsort(top_level_outputs.logits, descending=True).tolist()[0]\u001b[39;00m\n\u001b[0;32m   (...)\u001b[0m\n\u001b[1;32m     24\u001b[0m \u001b[39m# # sub_level_predicted_intents = [k for k, v in sub_level_label_map.items() if v in sub_level_predicted_labels]\u001b[39;00m\n\u001b[1;32m     25\u001b[0m \u001b[39m# sub_level_predicted_intent = [k for k, v in sub_level_label_map.items() if v == sub_level_predicted_label]\u001b[39;00m\n\u001b[1;32m     27\u001b[0m \u001b[39mprint\u001b[39m(\u001b[39m'\u001b[39m\u001b[39mtop level:\u001b[39m\u001b[39m'\u001b[39m, top_level_predicted_label)\n",
      "\u001b[0;31mTypeError\u001b[0m: unhashable type: 'list'"
     ]
    }
   ],
   "source": [
    "# Test the model\n",
    "\n",
    "def predict_intent(text):\n",
    "    inputs = tokenizer.encode_plus(text, padding=True, truncation=True, return_tensors=\"pt\")\n",
    "    outputs = model(inputs[\"input_ids\"], attention_mask=inputs[\"attention_mask\"])\n",
    "\n",
    "    top_level_predicted_label = torch.argmax(outputs.logits).item()\n",
    "    top_level_predicted_intent = [k for k, v in top_level_label_map.items() if v == top_level_predicted_label]\n",
    "\n",
    "    sub_level_predicted_label = torch.argmax(outputs.logits).item()\n",
    "    # sub_level_predicted_intents = [k for k, v in sub_level_label_map.items() if v in sub_level_predicted_labels]\n",
    "    sub_level_predicted_intent = [k for k, v in sub_labels[top_level_predicted_intent].items() if v == sub_level_predicted_label]\n",
    "    \n",
    "\n",
    "    # top_level_inputs = tokenizer.encode_plus(text, padding=True, truncation=True, return_tensors=\"pt\")\n",
    "    # top_level_outputs = model(top_level_inputs[\"input_ids\"], attention_mask=top_level_inputs[\"attention_mask\"])\n",
    "    # # top_level_predicted_labels = torch.argsort(top_level_outputs.logits, descending=True).tolist()[0]\n",
    "    # top_level_predicted_label = torch.argmax(top_level_outputs.logits).item()\n",
    "    # top_level_predicted_intent = [k for k, v in top_level_label_map.items() if v == top_level_predicted_label]\n",
    "    \n",
    "    # sub_level_inputs = tokenizer.encode_plus(text, padding=True, truncation=True, return_tensors=\"pt\")\n",
    "    # sub_level_outputs = model(sub_level_inputs[\"input_ids\"], attention_mask=sub_level_inputs[\"attention_mask\"])\n",
    "    # sub_level_predicted_label = torch.argmax(sub_level_outputs.logits).item()\n",
    "    # # sub_level_predicted_intents = [k for k, v in sub_level_label_map.items() if v in sub_level_predicted_labels]\n",
    "    # sub_level_predicted_intent = [k for k, v in sub_level_label_map.items() if v == sub_level_predicted_label]\n",
    "    \n",
    "    print('top level:', top_level_predicted_label)\n",
    "    print(top_level_label_map)\n",
    "    print('sub level:', sub_level_predicted_label)\n",
    "    print(sub_level_label_map)\n",
    "    return top_level_predicted_intent[0] if top_level_predicted_intent else None, sub_level_predicted_intent[0] if sub_level_predicted_intent else None\n",
    "\n",
    "\n",
    "top_level_intents, sub_level_intents = predict_intent(\"How do I reset my password?\")\n",
    "print(top_level_intents, sub_level_intents)\n",
    "# top_level_intents, sub_level_intents = predict_intent(\"Can you summarize the liability section of the terms of service?\")\n",
    "# print(top_level_intents, sub_level_intents)\n"
   ]
  },
  {
   "attachments": {},
   "cell_type": "markdown",
   "metadata": {},
   "source": [
    "## GPT"
   ]
  },
  {
   "cell_type": "code",
   "execution_count": 22,
   "metadata": {},
   "outputs": [
    {
     "name": "stdout",
     "output_type": "stream",
     "text": [
      "The autoreload extension is already loaded. To reload it, use:\n",
      "  %reload_ext autoreload\n"
     ]
    }
   ],
   "source": [
    "# GPT model herel \n",
    "%load_ext autoreload\n",
    "%autoreload 2\n",
    "\n",
    "from gpt import GPT\n",
    "\n",
    "gpt_model = GPT()\n",
    "\n",
    "#gpt_model.answer_question(question='What is the most important thing I need to know about your privacy statement?')\n"
   ]
  },
  {
   "cell_type": "code",
   "execution_count": 23,
   "metadata": {},
   "outputs": [],
   "source": [
    "# GPT query function here\n"
   ]
  },
  {
   "cell_type": "code",
   "execution_count": 24,
   "metadata": {},
   "outputs": [
    {
     "name": "stdout",
     "output_type": "stream",
     "text": [
      "Running on local URL:  http://127.0.0.1:7861\n",
      "\n",
      "To create a public link, set `share=True` in `launch()`.\n"
     ]
    },
    {
     "data": {
      "text/html": [
       "<div><iframe src=\"http://127.0.0.1:7861/\" width=\"100%\" height=\"500\" allow=\"autoplay; camera; microphone; clipboard-read; clipboard-write;\" frameborder=\"0\" allowfullscreen></iframe></div>"
      ],
      "text/plain": [
       "<IPython.core.display.HTML object>"
      ]
     },
     "metadata": {},
     "output_type": "display_data"
    },
    {
     "data": {
      "text/plain": []
     },
     "execution_count": 24,
     "metadata": {},
     "output_type": "execute_result"
    }
   ],
   "source": [
    "import gradio as gr\n",
    "import time\n",
    "import random\n",
    "\n",
    "# load the pre-trained intent analysis model\n",
    "# nlp = spacy.load(\"en_trf_bertbaseuncased_lg\")\n",
    "\n",
    "response_map = {\n",
    "    (\"security\", \"security_relating_to\"): [\"Our security measures include...\", \"We take security very seriously and have implemented...\"],\n",
    "    (\"security\", \"security_concerns\"): [\"We understand your security concerns and have taken steps to address them.\", \"You can trust that your information is safe with us.\"],\n",
    "    (\"information\", \"information_about\"): [\"Our store offers a variety of products, including...\", \"We also have a rewards program that allows you to earn points on your purchases.\"],\n",
    "    (\"information\", \"information_schedule\"): [\"We are open from 9am to 10pm, 7 days a week.\", \"Our business hours are 9am to 5pm, Monday to Friday.\"],\n",
    "    (\"help\", \"help_with_finding\"): [\"Here are some hotels near the airport:...\", \"I can help you find a hotel that meets your needs.\"],\n",
    "    (\"help\", \"help_with_booking\"): [\"You can book a room on our website or by calling our reservation hotline.\", \"We also offer a loyalty program that gives you discounts on future bookings.\"],\n",
    "    (\"information\", \"ordering\"): [\"You can place an order on our website or by calling our order hotline.\", \"We also offer a loyalty program that gives you discounts on future orders.\"]\n",
    "}\n",
    "\n",
    "with gr.Blocks() as demo:\n",
    "    chatbot = gr.Chatbot()\n",
    "    msg = gr.Textbox()\n",
    "    clear = gr.Button(\"Clear\")\n",
    "\n",
    "    def user(user_message, history):\n",
    "        return \"\", history + [[user_message, None]]\n",
    "\n",
    "    def bot(history):\n",
    "        user_message = history[-1][0]\n",
    "\n",
    "        intent = predict_intent(text=user_message)\n",
    "        print('intent:', intent)\n",
    "        # Random choice randomly chooses one of the options that matches the intent\n",
    "     \n",
    "        # generating a response with GPT if the main intent was 'privacy_policy' or 'legal_statement'\n",
    "        use_gpt = intent[0] == 'privacy_policy' or intent[0] == 'legal_statement'\n",
    "\n",
    "        response = gpt_model.answer_question(question=user_message) if use_gpt else 'No idea, bitch'\n",
    "\n",
    "        # response = random.choice(response_map[intent])\n",
    "        history[-1][1] = response\n",
    "        # The sleep is to simulate a more natural conversation\n",
    "        time.sleep(1)\n",
    "        return history\n",
    "\n",
    "    msg.submit(user, [msg, chatbot], [msg, chatbot], queue=False).then(\n",
    "        bot, chatbot, chatbot\n",
    "    )\n",
    "    clear.click(lambda: None, None, chatbot, queue=False)\n",
    "\n",
    "demo.launch()\n"
   ]
  },
  {
   "cell_type": "code",
   "execution_count": null,
   "metadata": {},
   "outputs": [],
   "source": []
  }
 ],
 "metadata": {
  "kernelspec": {
   "display_name": "Python 3",
   "language": "python",
   "name": "python3"
  },
  "language_info": {
   "codemirror_mode": {
    "name": "ipython",
    "version": 3
   },
   "file_extension": ".py",
   "mimetype": "text/x-python",
   "name": "python",
   "nbconvert_exporter": "python",
   "pygments_lexer": "ipython3",
   "version": "3.10.9"
  },
  "orig_nbformat": 4
 },
 "nbformat": 4,
 "nbformat_minor": 2
}
