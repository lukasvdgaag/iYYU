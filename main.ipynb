{
 "cells": [
  {
   "attachments": {},
   "cell_type": "markdown",
   "metadata": {},
   "source": [
    "# Sentiment analysis"
   ]
  },
  {
   "cell_type": "code",
   "execution_count": 5,
   "metadata": {},
   "outputs": [],
   "source": [
    "# import torch\n",
    "# from transformers import BertTokenizer, BertForSequenceClassification\n",
    "\n",
    "# import json\n",
    "\n",
    "# # Load the data from JSON file\n",
    "# with open(\"sentiment_analysis.json\", \"r\") as f:\n",
    "#     data = json.load(f)\n",
    "\n",
    "# print(data.items)\n",
    "\n",
    "# # Define the training data\n",
    "# train_data = []\n",
    "# sub_labels = {}\n",
    "# for top_level_label, sub_level_labels in data.items():\n",
    "#     for sub_level_label_data in sub_level_labels:\n",
    "#         text = sub_level_label_data[\"text\"]\n",
    "#         sub_level_label = sub_level_label_data[\"sub_level_label\"]\n",
    "#         train_data.append((text, top_level_label, sub_level_label))\n",
    "#         if top_level_label not in sub_labels:\n",
    "#             sub_labels[top_level_label] = []\n",
    "#         sub_labels[top_level_label].append(sub_level_label)\n",
    "\n",
    "\n",
    "\n",
    "# # Define the mapping between top-level labels and integers\n",
    "# top_level_label_map = {label: i for i, label in enumerate(set([data[1] for data in train_data]))}\n",
    "\n",
    "# # Define the mapping between sub-level labels and integers\n",
    "# sub_level_label_map = {sub_label: i for i, sub_label in enumerate(set([sub_label for sub_labels_list in sub_labels.values() for sub_label in sub_labels_list]))}\n",
    "\n",
    "# # Convert the training data labels to integers using the label_map and sub_label_map\n",
    "# # A tensor is a multi-dimensional array that looks like a numpy array, it's used for neural networks\n",
    "# top_level_labels = torch.tensor([top_level_label_map[data[1]] for data in train_data])\n",
    "# sub_level_labels = torch.tensor([sub_level_label_map[sub_label] for data in train_data for sub_label in sub_labels[data[1]]])\n",
    "\n",
    "# # Load the pre-trained BERT model and tokenizer\n",
    "# model = BertForSequenceClassification.from_pretrained(\"bert-base-uncased\", num_labels=len(top_level_label_map))\n",
    "# tokenizer = BertTokenizer.from_pretrained(\"bert-base-uncased\")\n",
    "\n",
    "# # Tokenize the training data and convert to tensors\n",
    "# inputs = tokenizer.batch_encode_plus([data[0] for data in train_data], padding=True, truncation=True, return_tensors=\"pt\")\n",
    "\n",
    "# # Fine-tune the model on the training data\n",
    "# optimizer = torch.optim.Adam(model.parameters(), lr=2e-5)\n",
    "# loss_fn = torch.nn.CrossEntropyLoss()\n",
    "# for epoch in range(10):\n",
    "#     optimizer.zero_grad()\n",
    "#     outputs = model(inputs[\"input_ids\"], attention_mask=inputs[\"attention_mask\"], labels=top_level_labels)\n",
    "#     loss = outputs.loss\n",
    "#     loss.backward()\n",
    "#     optimizer.step()\n",
    "    \n",
    "\n",
    "#     print(f\"Epoch {epoch+1}, Loss: {loss.item()}\")\n",
    "\n",
    "#     # Evaluate the model on the training data\n",
    "#     predictions = outputs.logits.argmax(axis=1)\n",
    "#     accuracy = (predictions == top_level_labels).sum()\n"
   ]
  },
  {
   "cell_type": "code",
   "execution_count": 6,
   "metadata": {},
   "outputs": [
    {
     "name": "stderr",
     "output_type": "stream",
     "text": [
      "Some weights of the model checkpoint at bert-base-uncased were not used when initializing BertForSequenceClassification: ['cls.seq_relationship.weight', 'cls.predictions.decoder.weight', 'cls.predictions.transform.LayerNorm.weight', 'cls.seq_relationship.bias', 'cls.predictions.bias', 'cls.predictions.transform.LayerNorm.bias', 'cls.predictions.transform.dense.bias', 'cls.predictions.transform.dense.weight']\n",
      "- This IS expected if you are initializing BertForSequenceClassification from the checkpoint of a model trained on another task or with another architecture (e.g. initializing a BertForSequenceClassification model from a BertForPreTraining model).\n",
      "- This IS NOT expected if you are initializing BertForSequenceClassification from the checkpoint of a model that you expect to be exactly identical (initializing a BertForSequenceClassification model from a BertForSequenceClassification model).\n",
      "Some weights of BertForSequenceClassification were not initialized from the model checkpoint at bert-base-uncased and are newly initialized: ['classifier.bias', 'classifier.weight']\n",
      "You should probably TRAIN this model on a down-stream task to be able to use it for predictions and inference.\n"
     ]
    },
    {
     "name": "stdout",
     "output_type": "stream",
     "text": [
      "Epoch 1, Loss: 3.880333423614502\n",
      "Epoch 2, Loss: 3.780472993850708\n",
      "Epoch 3, Loss: 3.7233712673187256\n",
      "Epoch 4, Loss: 3.644914150238037\n",
      "Epoch 5, Loss: 3.5763819217681885\n",
      "Epoch 6, Loss: 3.5722906589508057\n",
      "Epoch 7, Loss: 3.4905059337615967\n",
      "Epoch 8, Loss: 3.4626595973968506\n",
      "Epoch 9, Loss: 3.412302017211914\n",
      "Epoch 10, Loss: 3.344963788986206\n"
     ]
    }
   ],
   "source": [
    "import torch\n",
    "from transformers import BertTokenizer, BertForSequenceClassification\n",
    "import json\n",
    "\n",
    "# Load the data from JSON file\n",
    "with open(\"sentiment_analysis_v2.json\", \"r\") as f:\n",
    "    data = json.load(f)\n",
    "\n",
    "# Define the training data\n",
    "train_data = []\n",
    "for datum in data:\n",
    "    texts = datum[\"text\"]\n",
    "    label = datum[\"intent\"]\n",
    "    for text in texts:\n",
    "        train_data.append((text, label))\n",
    "\n",
    "# Define the mapping between top-level labels and integers\n",
    "label_map = {label: i for i, label in enumerate(set([data[1] for data in train_data]))}\n",
    "\n",
    "# Convert the training data labels to integers using the label_map\n",
    "labels = torch.tensor([label_map[data[1]] for data in train_data])\n",
    "\n",
    "# Load the pre-trained BERT model and tokenizer\n",
    "model = BertForSequenceClassification.from_pretrained(\"bert-base-uncased\", num_labels=len(label_map))\n",
    "tokenizer = BertTokenizer.from_pretrained(\"bert-base-uncased\")\n",
    "\n",
    "# Tokenize the training data and convert to tensors\n",
    "inputs = tokenizer.batch_encode_plus([data[0] for data in train_data], padding=True, truncation=True, return_tensors=\"pt\")\n",
    "\n",
    "# Fine-tune the model on the training data\n",
    "optimizer = torch.optim.Adam(model.parameters(), lr=2e-5)\n",
    "loss_fn = torch.nn.CrossEntropyLoss()\n",
    "for epoch in range(10):\n",
    "    optimizer.zero_grad()\n",
    "    outputs = model(inputs[\"input_ids\"], attention_mask=inputs[\"attention_mask\"], labels=labels)\n",
    "    loss = outputs.loss\n",
    "    loss.backward()\n",
    "    optimizer.step()\n",
    "\n",
    "    print(f\"Epoch {epoch+1}, Loss: {loss.item()}\")\n",
    "\n",
    "    # Evaluate the model on the training data\n",
    "    predictions = outputs.logits.argmax(axis=1)\n",
    "    accuracy = (predictions == labels).sum()\n",
    "\n"
   ]
  },
  {
   "cell_type": "code",
   "execution_count": 7,
   "metadata": {},
   "outputs": [
    {
     "name": "stdout",
     "output_type": "stream",
     "text": [
      "Predicted intent: delete_personal_information\n"
     ]
    }
   ],
   "source": [
    "# Sample test question\n",
    "test_question = \"Why can't I change my password?\"\n",
    "\n",
    "# Tokenize the test question and convert to tensors\n",
    "inputs = tokenizer.encode_plus(test_question, padding=True, truncation=True, return_tensors=\"pt\")\n",
    "\n",
    "# Get the model's prediction for the test question\n",
    "with torch.no_grad():\n",
    "    outputs = model(inputs[\"input_ids\"], attention_mask=inputs[\"attention_mask\"])\n",
    "predictions = outputs.logits.argmax(axis=1)\n",
    "predicted_label = list(label_map.keys())[list(label_map.values()).index(predictions[0].item())]\n",
    "\n",
    "print(f\"Predicted intent: {predicted_label}\")\n"
   ]
  },
  {
   "attachments": {},
   "cell_type": "markdown",
   "metadata": {},
   "source": [
    "## Sentiment analysis query function"
   ]
  },
  {
   "cell_type": "code",
   "execution_count": 8,
   "metadata": {},
   "outputs": [],
   "source": [
    "# Test the model\n",
    "\n",
    "# def predict_intent(text):\n",
    "#     top_level_inputs = tokenizer.encode_plus(text, padding=True, truncation=True, return_tensors=\"pt\")\n",
    "#     top_level_outputs = model(top_level_inputs[\"input_ids\"], attention_mask=top_level_inputs[\"attention_mask\"])\n",
    "#     # top_level_predicted_labels = torch.argsort(top_level_outputs.logits, descending=True).tolist()[0]\n",
    "#     top_level_predicted_label = torch.argmax(top_level_outputs.logits).item()\n",
    "#     top_level_predicted_intent = [k for k, v in top_level_label_map.items() if v == top_level_predicted_label]\n",
    "    \n",
    "#     sub_level_inputs = tokenizer.encode_plus(text, padding=True, truncation=True, return_tensors=\"pt\")\n",
    "#     sub_level_outputs = model(sub_level_inputs[\"input_ids\"], attention_mask=sub_level_inputs[\"attention_mask\"])\n",
    "#     sub_level_predicted_label = torch.argmax(sub_level_outputs.logits).item()\n",
    "#     # sub_level_predicted_intents = [k for k, v in sub_level_label_map.items() if v in sub_level_predicted_labels]\n",
    "#     sub_level_predicted_intent = [k for k, v in sub_level_label_map.items() if v == sub_level_predicted_label]\n",
    "    \n",
    "#     return top_level_predicted_intent[0] if top_level_predicted_intent else None, sub_level_predicted_intent[0] if sub_level_predicted_intent else None\n",
    "\n",
    "\n",
    "\n",
    "# top_level_intents, sub_level_intents = predict_intent(\"How can i change my password\")\n",
    "# print(top_level_intents, sub_level_intents)\n"
   ]
  },
  {
   "attachments": {},
   "cell_type": "markdown",
   "metadata": {},
   "source": [
    "## GPT"
   ]
  },
  {
   "cell_type": "code",
   "execution_count": 9,
   "metadata": {},
   "outputs": [
    {
     "name": "stderr",
     "output_type": "stream",
     "text": [
      "d:\\school\\iYYU\\gpt.py:23: FutureWarning: The default value of regex will change from True to False in a future version.\n",
      "  serie = serie.str.replace('\\\\n', ' ')\n"
     ]
    }
   ],
   "source": [
    "# GPT model herel \n",
    "%load_ext autoreload\n",
    "%autoreload 2\n",
    "\n",
    "from gpt import GPT\n",
    "\n",
    "gpt_model = GPT()\n",
    "\n",
    "#gpt_model.answer_question(question='What is the most important thing I need to know about your privacy statement?')\n"
   ]
  },
  {
   "cell_type": "code",
   "execution_count": 10,
   "metadata": {},
   "outputs": [],
   "source": [
    "# GPT query function here\n"
   ]
  },
  {
   "cell_type": "code",
   "execution_count": 34,
   "metadata": {},
   "outputs": [
    {
     "name": "stdout",
     "output_type": "stream",
     "text": [
      "Running on local URL:  http://127.0.0.1:7883\n",
      "\n",
      "To create a public link, set `share=True` in `launch()`.\n"
     ]
    },
    {
     "data": {
      "text/html": [
       "<div><iframe src=\"http://127.0.0.1:7883/\" width=\"100%\" height=\"500\" allow=\"autoplay; camera; microphone; clipboard-read; clipboard-write;\" frameborder=\"0\" allowfullscreen></iframe></div>"
      ],
      "text/plain": [
       "<IPython.core.display.HTML object>"
      ]
     },
     "metadata": {},
     "output_type": "display_data"
    },
    {
     "data": {
      "text/plain": []
     },
     "execution_count": 34,
     "metadata": {},
     "output_type": "execute_result"
    },
    {
     "name": "stdout",
     "output_type": "stream",
     "text": [
      "intent: hello\n"
     ]
    }
   ],
   "source": [
    "import gradio as gr\n",
    "import time\n",
    "import random\n",
    "\n",
    "# load the pre-trained intent analysis model\n",
    "# nlp = spacy.load(\"en_trf_bertbaseuncased_lg\")\n",
    "\n",
    "response_map = {\n",
    "    (\"security\", \"security_relating_to\"): [\"Our security measures include...\", \"We take security very seriously and have implemented...\"],\n",
    "    (\"security\", \"security_concerns\"): [\"We understand your security concerns and have taken steps to address them.\", \"You can trust that your information is safe with us.\"],\n",
    "    (\"information\", \"information_about\"): [\"Our store offers a variety of products, including...\", \"We also have a rewards program that allows you to earn points on your purchases.\"],\n",
    "    (\"information\", \"information_schedule\"): [\"We are open from 9am to 10pm, 7 days a week.\", \"Our business hours are 9am to 5pm, Monday to Friday.\"],\n",
    "    (\"help\", \"help_with_finding\"): [\"Here are some hotels near the airport:...\", \"I can help you find a hotel that meets your needs.\"],\n",
    "    (\"help\", \"help_with_booking\"): [\"You can book a room on our website or by calling our reservation hotline.\", \"We also offer a loyalty program that gives you discounts on future bookings.\"],\n",
    "    (\"information\", \"ordering\"): [\"You can place an order on our website or by calling our order hotline.\", \"We also offer a loyalty program that gives you discounts on future orders.\"]\n",
    "}\n",
    "\n",
    "import gradio as gr\n",
    "\n",
    "import gradio as gr\n",
    "\n",
    "import gradio as gr\n",
    "\n",
    "import gradio as gr\n",
    "\n",
    "theme = gr.themes.Soft(\n",
    "    primary_hue=\"orange\",\n",
    "    secondary_hue=\"orange\",\n",
    ").set(\n",
    "    body_text_color_dark='*neutral_800',\n",
    "    background_fill_primary_dark='*neutral_50',\n",
    "    background_fill_secondary_dark='*neutral_50',\n",
    "    border_color_accent_dark='*primary_300',\n",
    "    border_color_primary_dark='*neutral_200',\n",
    "    color_accent_soft_dark='*primary_50',\n",
    "    link_text_color_dark='*secondary_600',\n",
    "    link_text_color_active_dark='*secondary_600',\n",
    "    link_text_color_hover_dark='*secondary_700',\n",
    "    link_text_color_visited_dark='*secondary_500',\n",
    "    block_background_fill='*neutral_100',\n",
    "    block_background_fill_dark='*neutral_100',\n",
    "    block_label_background_fill='*primary_400',\n",
    "    block_label_background_fill_dark='*primary_400',\n",
    "    block_label_text_color='*neutral_50',\n",
    "    block_label_text_color_dark='*neutral_50',\n",
    "    block_title_text_color='*neutral_50',\n",
    "    block_title_text_color_dark='*neutral_50',\n",
    "    checkbox_background_color_dark='*background_fill_primary',\n",
    "    checkbox_background_color_selected='*primary_500',\n",
    "    checkbox_background_color_selected_dark='*primary_500',\n",
    "    checkbox_border_color_dark='*neutral_100',\n",
    "    checkbox_border_color_focus='*primary_300',\n",
    "    checkbox_border_color_focus_dark='*primary_300',\n",
    "    checkbox_border_color_hover_dark='*neutral_300',\n",
    "    checkbox_border_color_selected='*primary_500',\n",
    "    checkbox_border_color_selected_dark='*primary_500',\n",
    "    checkbox_border_width_dark='1px',\n",
    "    checkbox_label_background_fill_selected_dark='*primary_500',\n",
    "    checkbox_label_text_color_selected_dark='white',\n",
    "    error_background_fill_dark='#fee2e2',\n",
    "    error_border_color_dark='#fecaca',\n",
    "    input_background_fill_dark='white',\n",
    "    input_background_fill_focus_dark='*secondary_500',\n",
    "    input_border_color_dark='*neutral_50',\n",
    "    input_border_color_focus_dark='*secondary_300',\n",
    "    input_placeholder_color_dark='*neutral_400',\n",
    "    slider_color_dark='*primary_500',\n",
    "    stat_background_fill_dark='*primary_300',\n",
    "    table_border_color_dark='*neutral_300',\n",
    "    table_even_background_fill_dark='white',\n",
    "    table_odd_background_fill_dark='*neutral_50',\n",
    "    button_primary_background_fill_dark='*primary_500',\n",
    "    button_primary_background_fill_hover_dark='*primary_400',\n",
    "    button_primary_border_color_dark='*primary_200',\n",
    "    button_secondary_background_fill_dark='white',\n",
    "    button_secondary_background_fill_hover_dark='*neutral_100',\n",
    "    button_secondary_border_color_dark='*neutral_200',\n",
    "    button_secondary_text_color_dark='*neutral_800'\n",
    ")\n",
    "\n",
    "with gr.Blocks(theme=theme, css=\"chat/chat.css\") as demo:\n",
    "    gr.Image(\"https://iyyu.com/_nuxt/img/navbar_logoW@2x.79eba99.png\", interactive=False, tool=\"image\", show_label=False, elem_classes=\"logo\").style(width=200)\n",
    "    chatbot = gr.Chatbot()\n",
    "    msg = gr.Textbox()\n",
    "    clear = gr.Button(\"Clear\")\n",
    "\n",
    "    def user(user_message, history):\n",
    "        return \"\", history + [[user_message, None]]\n",
    "\n",
    "    def bot(history):\n",
    "        user_message = history[-1][0]\n",
    "\n",
    "        # intent = predict_intent(text=user_message)\n",
    "        intent = \"hello\"\n",
    "        print('intent:', intent)\n",
    "        # Random choice randomly chooses one of the options that matches the intent\n",
    "     \n",
    "        # generating a response with GPT if the main intent was 'privacy_policy' or 'legal_statement'\n",
    "        use_gpt = intent[0] == 'privacy_policy' or intent[0] == 'legal_statement'\n",
    "\n",
    "        response = gpt_model.answer_question(question=user_message) if use_gpt else 'No idea, bitch'\n",
    "\n",
    "        # response = random.choice(response_map[intent])\n",
    "        history[-1][1] = response\n",
    "        # The sleep is to simulate a more natural conversation\n",
    "        time.sleep(1)\n",
    "        return history\n",
    "\n",
    "    msg.submit(user, [msg, chatbot], [msg, chatbot], queue=False).then(\n",
    "        bot, chatbot, chatbot\n",
    "    )\n",
    "    clear.click(lambda: None, None, chatbot, queue=False)\n",
    "\n",
    "demo.launch()\n"
   ]
  },
  {
   "cell_type": "code",
   "execution_count": null,
   "metadata": {},
   "outputs": [],
   "source": []
  }
 ],
 "metadata": {
  "kernelspec": {
   "display_name": "Python 3",
   "language": "python",
   "name": "python3"
  },
  "language_info": {
   "codemirror_mode": {
    "name": "ipython",
    "version": 3
   },
   "file_extension": ".py",
   "mimetype": "text/x-python",
   "name": "python",
   "nbconvert_exporter": "python",
   "pygments_lexer": "ipython3",
   "version": "3.10.9"
  },
  "orig_nbformat": 4
 },
 "nbformat": 4,
 "nbformat_minor": 2
}
