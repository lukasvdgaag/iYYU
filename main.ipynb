{
 "cells": [
  {
   "attachments": {},
   "cell_type": "markdown",
   "metadata": {},
   "source": [
    "## Imports"
   ]
  },
  {
   "cell_type": "code",
   "execution_count": 157,
   "metadata": {},
   "outputs": [
    {
     "name": "stdout",
     "output_type": "stream",
     "text": [
      "The autoreload extension is already loaded. To reload it, use:\n",
      "  %reload_ext autoreload\n"
     ]
    }
   ],
   "source": [
    "# General imports\n",
    "import time\n",
    "import json\n",
    "import random\n",
    "import os\n",
    "\n",
    "# Intent recognition imports\n",
    "import torch\n",
    "torch.manual_seed(42)\n",
    "from transformers import BertTokenizer, BertForSequenceClassification\n",
    "\n",
    "# ChatGPT imports\n",
    "%load_ext autoreload\n",
    "%autoreload 2\n",
    "from gpt import GPT\n",
    "from settings import Settings\n",
    "from intent_model import IntentModel\n",
    "\n",
    "# Chat demo\n",
    "import gradio as gr"
   ]
  },
  {
   "cell_type": "code",
   "execution_count": 158,
   "metadata": {},
   "outputs": [],
   "source": [
    "SEED = 42\n",
    "\n",
    "torch.manual_seed(SEED)\n",
    "torch.cuda.manual_seed_all(SEED)\n",
    "random.seed(SEED)\n",
    "# numpy.random.seed(SEED)\n",
    "from transformers import set_seed\n",
    "set_seed(SEED)"
   ]
  },
  {
   "attachments": {},
   "cell_type": "markdown",
   "metadata": {},
   "source": [
    "# Load data "
   ]
  },
  {
   "cell_type": "code",
   "execution_count": 159,
   "metadata": {},
   "outputs": [],
   "source": [
    "# Load the data from JSON file\n",
    "with open(\"intent_recognition_v2.json\", \"r\") as f:\n",
    "    data = json.load(f)\n",
    "\n",
    "validation_data = []\n",
    "train_data = []\n",
    "for datum in data:\n",
    "    texts = datum[\"train_questions\"]\n",
    "    label = datum[\"intent\"]\n",
    "    validation = datum[\"test_questions\"]\n",
    "    for text in texts:\n",
    "        train_data.append((text, label))\n",
    "    for text in validation:\n",
    "        validation_data.append((text, label))\n",
    "\n",
    "# Concatenate train and validation data for generating label_map\n",
    "all_data = train_data + validation_data\n",
    "\n",
    "# Define the mapping between top-level labels and integers\n",
    "# Sort the labels before enumerating\n",
    "label_map = {label: i for i, label in enumerate(sorted(set([data[1] for data in all_data])))}\n",
    "\n",
    "# Convert the training data labels to integers using the label_map\n",
    "train_labels = torch.tensor([label_map[data[1]] for data in train_data])\n",
    "validation_labels = torch.tensor([label_map[data[1]] for data in validation_data])\n",
    "\n"
   ]
  },
  {
   "attachments": {},
   "cell_type": "markdown",
   "metadata": {},
   "source": [
    "# Intent recognition model"
   ]
  },
  {
   "cell_type": "code",
   "execution_count": 160,
   "metadata": {},
   "outputs": [],
   "source": [
    "intent_model = IntentModel(train_data, validation_data, label_map, train_labels, validation_labels)\n"
   ]
  },
  {
   "cell_type": "code",
   "execution_count": 161,
   "metadata": {},
   "outputs": [],
   "source": [
    "# intent_model = IntentModel(train_data, validation_data, train_label_map, train_labels, validation_labels).test_best_model()"
   ]
  },
  {
   "cell_type": "code",
   "execution_count": 162,
   "metadata": {},
   "outputs": [
    {
     "name": "stdout",
     "output_type": "stream",
     "text": [
      "minimum_age : minimum age\n",
      "legal_statement_information : legal_statement_information\n",
      "transfer_legal_statement : transfer_legal_statement\n"
     ]
    }
   ],
   "source": [
    "print(intent_model.get_intent(\"Can you provide details on the rules pertaining to the age limit for using the company's services?\")[0], \": minimum age\")\n",
    "print(intent_model.get_intent(\"Could you summarize the main provisions of the legal statement?\")[0], \": legal_statement_information\")\n",
    "print(intent_model.get_intent(\"Are you allowed to transfer ownership of my account or subscription to another individual?\")[0], \": transfer_legal_statement\")"
   ]
  },
  {
   "cell_type": "code",
   "execution_count": 163,
   "metadata": {},
   "outputs": [
    {
     "name": "stdout",
     "output_type": "stream",
     "text": [
      "Highest confidence intent: minimum_age\n",
      "Highest confidence score: [0.004220775794237852, 0.0017763165524229407, 0.00266229547560215, 0.004789701197296381, 0.0033615082502365112, 0.0015738876536488533, 0.0029093995690345764, 0.0011391140287742019, 0.001752939191646874, 0.0013188798911869526, 0.0009560642065480351, 0.9530506730079651, 0.0023339232429862022, 0.002781984629109502, 0.0026278633158653975, 0.005179507192224264, 0.0011820412473753095, 0.001031978870742023, 0.00336332805454731, 0.0019878819584846497]\n",
      "20\n",
      "20\n"
     ]
    },
    {
     "data": {
      "text/html": [
       "<div>\n",
       "<style scoped>\n",
       "    .dataframe tbody tr th:only-of-type {\n",
       "        vertical-align: middle;\n",
       "    }\n",
       "\n",
       "    .dataframe tbody tr th {\n",
       "        vertical-align: top;\n",
       "    }\n",
       "\n",
       "    .dataframe thead th {\n",
       "        text-align: right;\n",
       "    }\n",
       "</style>\n",
       "<table border=\"1\" class=\"dataframe\">\n",
       "  <thead>\n",
       "    <tr style=\"text-align: right;\">\n",
       "      <th></th>\n",
       "      <th>keys</th>\n",
       "      <th>confidences</th>\n",
       "    </tr>\n",
       "  </thead>\n",
       "  <tbody>\n",
       "    <tr>\n",
       "      <th>0</th>\n",
       "      <td>access_personal_data</td>\n",
       "      <td>0.004221</td>\n",
       "    </tr>\n",
       "    <tr>\n",
       "      <th>1</th>\n",
       "      <td>cancellation_legal_statement</td>\n",
       "      <td>0.001776</td>\n",
       "    </tr>\n",
       "    <tr>\n",
       "      <th>2</th>\n",
       "      <td>contact_privacy_concerns</td>\n",
       "      <td>0.002662</td>\n",
       "    </tr>\n",
       "    <tr>\n",
       "      <th>3</th>\n",
       "      <td>cookie_policy</td>\n",
       "      <td>0.004790</td>\n",
       "    </tr>\n",
       "    <tr>\n",
       "      <th>4</th>\n",
       "      <td>data_breaches</td>\n",
       "      <td>0.003362</td>\n",
       "    </tr>\n",
       "    <tr>\n",
       "      <th>5</th>\n",
       "      <td>data_collection</td>\n",
       "      <td>0.001574</td>\n",
       "    </tr>\n",
       "    <tr>\n",
       "      <th>6</th>\n",
       "      <td>data_sharing_opt_out</td>\n",
       "      <td>0.002909</td>\n",
       "    </tr>\n",
       "    <tr>\n",
       "      <th>7</th>\n",
       "      <td>data_storage</td>\n",
       "      <td>0.001139</td>\n",
       "    </tr>\n",
       "    <tr>\n",
       "      <th>8</th>\n",
       "      <td>delete_personal_information</td>\n",
       "      <td>0.001753</td>\n",
       "    </tr>\n",
       "    <tr>\n",
       "      <th>9</th>\n",
       "      <td>hello_response</td>\n",
       "      <td>0.001319</td>\n",
       "    </tr>\n",
       "    <tr>\n",
       "      <th>10</th>\n",
       "      <td>legal_statement_information</td>\n",
       "      <td>0.000956</td>\n",
       "    </tr>\n",
       "    <tr>\n",
       "      <th>11</th>\n",
       "      <td>minimum_age</td>\n",
       "      <td>0.953051</td>\n",
       "    </tr>\n",
       "    <tr>\n",
       "      <th>12</th>\n",
       "      <td>personal_information</td>\n",
       "      <td>0.002334</td>\n",
       "    </tr>\n",
       "    <tr>\n",
       "      <th>13</th>\n",
       "      <td>privacy_policy_updates</td>\n",
       "      <td>0.002782</td>\n",
       "    </tr>\n",
       "    <tr>\n",
       "      <th>14</th>\n",
       "      <td>refunds_legal_statement</td>\n",
       "      <td>0.002628</td>\n",
       "    </tr>\n",
       "    <tr>\n",
       "      <th>15</th>\n",
       "      <td>summarization_legal_statement</td>\n",
       "      <td>0.005180</td>\n",
       "    </tr>\n",
       "    <tr>\n",
       "      <th>16</th>\n",
       "      <td>summarization_privacy_policy</td>\n",
       "      <td>0.001182</td>\n",
       "    </tr>\n",
       "    <tr>\n",
       "      <th>17</th>\n",
       "      <td>thanks_response</td>\n",
       "      <td>0.001032</td>\n",
       "    </tr>\n",
       "    <tr>\n",
       "      <th>18</th>\n",
       "      <td>third_parties</td>\n",
       "      <td>0.003363</td>\n",
       "    </tr>\n",
       "    <tr>\n",
       "      <th>19</th>\n",
       "      <td>transfer_legal_statement</td>\n",
       "      <td>0.001988</td>\n",
       "    </tr>\n",
       "  </tbody>\n",
       "</table>\n",
       "</div>"
      ],
      "text/plain": [
       "                             keys  confidences\n",
       "0            access_personal_data     0.004221\n",
       "1    cancellation_legal_statement     0.001776\n",
       "2        contact_privacy_concerns     0.002662\n",
       "3                   cookie_policy     0.004790\n",
       "4                   data_breaches     0.003362\n",
       "5                 data_collection     0.001574\n",
       "6            data_sharing_opt_out     0.002909\n",
       "7                    data_storage     0.001139\n",
       "8     delete_personal_information     0.001753\n",
       "9                  hello_response     0.001319\n",
       "10    legal_statement_information     0.000956\n",
       "11                    minimum_age     0.953051\n",
       "12           personal_information     0.002334\n",
       "13         privacy_policy_updates     0.002782\n",
       "14        refunds_legal_statement     0.002628\n",
       "15  summarization_legal_statement     0.005180\n",
       "16   summarization_privacy_policy     0.001182\n",
       "17                thanks_response     0.001032\n",
       "18                  third_parties     0.003363\n",
       "19       transfer_legal_statement     0.001988"
      ]
     },
     "execution_count": 163,
     "metadata": {},
     "output_type": "execute_result"
    }
   ],
   "source": [
    "import pandas as pd\n",
    "\n",
    "# test the intent model\n",
    "predicted_intent, confidence_scores = intent_model.get_intent(\"Can you provide details on the rules pertaining to the age limit for using the company's services?\")\n",
    "\n",
    "# Retrieve the intent label and its corresponding confidence score\n",
    "highest_confidence_intent = predicted_intent\n",
    "\n",
    "print(\"Highest confidence intent:\", highest_confidence_intent)\n",
    "print(\"Highest confidence score:\", confidence_scores)\n",
    "print(len(confidence_scores))\n",
    "print(len(intent_model.label_map.keys()))\n",
    "\n",
    "pd.DataFrame({\n",
    "    'keys': intent_model.label_map.keys(),\n",
    "    'confidences': confidence_scores\n",
    "})"
   ]
  },
  {
   "attachments": {},
   "cell_type": "markdown",
   "metadata": {},
   "source": [
    "## ChatGPT model"
   ]
  },
  {
   "cell_type": "code",
   "execution_count": 164,
   "metadata": {},
   "outputs": [],
   "source": [
    "# GPT model here\n",
    "gpt_model = GPT()\n",
    "\n",
    "privacy_level = 1 # set to 2 for maximum privacy\n",
    "minimum_confidence_score = 0.4\n",
    "\n",
    "# gpt_model = False\n",
    "\n",
    "# Test ChatGPT model\n",
    "# gpt_model.answer_question(question='What is the most important thing I need to know about your privacy statement?')"
   ]
  },
  {
   "attachments": {},
   "cell_type": "markdown",
   "metadata": {},
   "source": [
    "# Load Settings class"
   ]
  },
  {
   "cell_type": "code",
   "execution_count": 165,
   "metadata": {},
   "outputs": [],
   "source": [
    "settings_model = Settings()\n",
    "\n",
    "# Test the settings model\n",
    "# settings_model.update_user_setting(\"1\", \"profile_published\", False)\n",
    "settings_model.set_user_calling_card_visibility(user_id = \"0\", individual_user_id = \"2\", profile_card_component = \"profile_card_component_3_visible\", component_state = True)\n",
    "\n"
   ]
  },
  {
   "attachments": {},
   "cell_type": "markdown",
   "metadata": {},
   "source": [
    "## Get response using intent"
   ]
  },
  {
   "cell_type": "code",
   "execution_count": 166,
   "metadata": {},
   "outputs": [],
   "source": [
    "def get_object_by_intent(intent):\n",
    "    for object in data:\n",
    "        if object['intent'] == intent:\n",
    "            return object\n",
    "    return None"
   ]
  },
  {
   "attachments": {},
   "cell_type": "markdown",
   "metadata": {},
   "source": [
    "# Set up gradio chat for demo"
   ]
  },
  {
   "cell_type": "code",
   "execution_count": 167,
   "metadata": {},
   "outputs": [
    {
     "name": "stdout",
     "output_type": "stream",
     "text": [
      "Running on local URL:  http://127.0.0.1:7908\n",
      "\n",
      "To create a public link, set `share=True` in `launch()`.\n"
     ]
    },
    {
     "data": {
      "text/html": [
       "<div><iframe src=\"http://127.0.0.1:7908/\" width=\"100%\" height=\"500\" allow=\"autoplay; camera; microphone; clipboard-read; clipboard-write;\" frameborder=\"0\" allowfullscreen></iframe></div>"
      ],
      "text/plain": [
       "<IPython.core.display.HTML object>"
      ]
     },
     "metadata": {},
     "output_type": "display_data"
    },
    {
     "data": {
      "text/plain": []
     },
     "execution_count": 167,
     "metadata": {},
     "output_type": "execute_result"
    },
    {
     "name": "stdout",
     "output_type": "stream",
     "text": [
      "3\n"
     ]
    },
    {
     "name": "stderr",
     "output_type": "stream",
     "text": [
      "Traceback (most recent call last):\n",
      "  File \"c:\\Program Files\\Python38\\lib\\site-packages\\gradio\\routes.py\", line 395, in run_predict\n",
      "    output = await app.get_blocks().process_api(\n",
      "  File \"c:\\Program Files\\Python38\\lib\\site-packages\\gradio\\blocks.py\", line 1193, in process_api\n",
      "    result = await self.call_function(\n",
      "  File \"c:\\Program Files\\Python38\\lib\\site-packages\\gradio\\blocks.py\", line 916, in call_function\n",
      "    prediction = await anyio.to_thread.run_sync(\n",
      "  File \"c:\\Program Files\\Python38\\lib\\site-packages\\anyio\\to_thread.py\", line 31, in run_sync\n",
      "    return await get_asynclib().run_sync_in_worker_thread(\n",
      "  File \"c:\\Program Files\\Python38\\lib\\site-packages\\anyio\\_backends\\_asyncio.py\", line 937, in run_sync_in_worker_thread\n",
      "    return await future\n",
      "  File \"c:\\Program Files\\Python38\\lib\\site-packages\\anyio\\_backends\\_asyncio.py\", line 867, in run\n",
      "    result = context.run(func, *args)\n",
      "  File \"C:\\Users\\Frank\\AppData\\Local\\Temp\\ipykernel_148652\\4006651907.py\", line 80, in bot\n",
      "    bot_response = self.determine_bot_response(user_message)\n",
      "  File \"C:\\Users\\Frank\\AppData\\Local\\Temp\\ipykernel_148652\\4006651907.py\", line 107, in determine_bot_response\n",
      "    if (dialogue.counter < len(dialogue_questions)):\n",
      "NameError: name 'dialogue' is not defined\n"
     ]
    }
   ],
   "source": [
    "theme = gr.themes.Soft(\n",
    "    primary_hue=\"orange\",\n",
    "    secondary_hue=\"orange\",\n",
    ").set(\n",
    "    body_text_color_dark='*neutral_800',\n",
    "    background_fill_primary_dark='*neutral_50',\n",
    "    background_fill_secondary_dark='*neutral_50',\n",
    "    border_color_accent_dark='*primary_300',\n",
    "    border_color_primary_dark='*neutral_200',\n",
    "    color_accent_soft_dark='*primary_50',\n",
    "    link_text_color_dark='*secondary_600',\n",
    "    link_text_color_active_dark='*secondary_600',\n",
    "    link_text_color_hover_dark='*secondary_700',\n",
    "    link_text_color_visited_dark='*secondary_500',\n",
    "    block_background_fill='*neutral_100',\n",
    "    block_background_fill_dark='*neutral_100',\n",
    "    block_label_background_fill='*primary_400',\n",
    "    block_label_background_fill_dark='*primary_400',\n",
    "    block_label_text_color='*neutral_50',\n",
    "    block_label_text_color_dark='*neutral_50',\n",
    "    block_title_text_color='*neutral_50',\n",
    "    block_title_text_color_dark='*neutral_50',\n",
    "    checkbox_background_color_dark='*background_fill_primary',\n",
    "    checkbox_background_color_selected='*primary_500',\n",
    "    checkbox_background_color_selected_dark='*primary_500',\n",
    "    checkbox_border_color_dark='*neutral_100',\n",
    "    checkbox_border_color_focus='*primary_300',\n",
    "    checkbox_border_color_focus_dark='*primary_300',\n",
    "    checkbox_border_color_hover_dark='*neutral_300',\n",
    "    checkbox_border_color_selected='*primary_500',\n",
    "    checkbox_border_color_selected_dark='*primary_500',\n",
    "    checkbox_border_width_dark='1px',\n",
    "    checkbox_label_background_fill_selected_dark='*primary_500',\n",
    "    checkbox_label_text_color_selected_dark='white',\n",
    "    error_background_fill_dark='#fee2e2',\n",
    "    error_border_color_dark='#fecaca',\n",
    "    input_background_fill_dark='white',\n",
    "    input_background_fill_focus_dark='*secondary_500',\n",
    "    input_border_color_dark='*neutral_50',\n",
    "    input_border_color_focus_dark='*secondary_300',\n",
    "    input_placeholder_color_dark='*neutral_400',\n",
    "    slider_color_dark='*primary_500',\n",
    "    stat_background_fill_dark='*primary_300',\n",
    "    table_border_color_dark='*neutral_300',\n",
    "    table_even_background_fill_dark='white',\n",
    "    table_odd_background_fill_dark='*neutral_50',\n",
    "    button_primary_background_fill_dark='*primary_500',\n",
    "    button_primary_background_fill_hover_dark='*primary_400',\n",
    "    button_primary_border_color_dark='*primary_200',\n",
    "    button_secondary_background_fill_dark='white',\n",
    "    button_secondary_background_fill_hover_dark='*neutral_100',\n",
    "    button_secondary_border_color_dark='*neutral_200',\n",
    "    button_secondary_text_color_dark='*neutral_800'\n",
    ")\n",
    "\n",
    "class ChatbotLogic:\n",
    "    def __init__(self, gpt_model, intent_model, minimum_confidence_score, privacy_level):\n",
    "        self.gpt_model = gpt_model\n",
    "        self.intent_model = intent_model\n",
    "        self.minimum_confidence_score = minimum_confidence_score\n",
    "        self.privacy_level = privacy_level\n",
    "        self.history = []\n",
    "        self.dialogue = {'active': False, 'counter': 0}\n",
    "\n",
    "        # Add welcome message\n",
    "        self.add_bot_response(\"Hello, I am the iYYU privacy bot. I am here to help you with your questions about the company.\")\n",
    "        \n",
    "    def user(self, user_message, history):\n",
    "        return \"\", self.add_user_message(user_message)\n",
    "\n",
    "    def add_user_message(self, user_message):\n",
    "        self.history.append([user_message, None])\n",
    "        return self.history\n",
    "\n",
    "    def bot(self, history):\n",
    "        user_message = self.history[-1][0]\n",
    "        bot_response = self.determine_bot_response(user_message)\n",
    "        self.history = self.add_bot_response(bot_response)\n",
    "\n",
    "        # if not bot_response.startswith(\"ChatGPT - \"):\n",
    "        #     time.sleep(1)\n",
    "        return self.history\n",
    "\n",
    "    def add_bot_response(self, bot_response):\n",
    "        self.history.append([None, bot_response])\n",
    "        return self.history\n",
    "        \n",
    "\n",
    "    def determine_bot_response(self, user_message):\n",
    "        '''\n",
    "        Condition numbers match up with the condition numbers in the chart\n",
    "        \n",
    "        '''\n",
    "        # Condition 1: Is the dialogue active?\n",
    "        if (self.dialogue['active'] == True):\n",
    "            '''\n",
    "                Use an array of questions to have a dialogue with the user and use the users answers\n",
    "            '''\n",
    "            response = self.add_bot_response('(Test): Starting dialogue')\n",
    "\n",
    "            # Condition 2: Are there dialogue questions left?\n",
    "            dialogue_questions = ['test', 'test2', 'test3']\n",
    "            if (dialogue.counter < len(dialogue_questions)):\n",
    "                response = self.add_bot_response('(Test): More dialogue questions')\n",
    "            else:\n",
    "                response = self.add_bot_response('(Test): Ran out of dialogue questions, computing answer then awaiting user input')\n",
    "\n",
    "        else:\n",
    "            print('2')\n",
    "            intent_name, confidence_score = self.intent_model.get_intent(question=user_message)\n",
    "            confidence_score = max(confidence_score)\n",
    "            intent_data = get_object_by_intent(intent_name)\n",
    "            use_gpt = intent_data['use_gpt']\n",
    "            generate_context = True\n",
    "\n",
    "            # Condition 3: Is the confidence score for the intent high enough to use it?\n",
    "            if confidence_score < self.minimum_confidence_score:\n",
    "                # Condition 4: Does the user have a high or low privacy level?\n",
    "                if self.privacy_level >= 1: \n",
    "                    response = self.add_bot_response('(Test): Low confidence, high security answer')\n",
    "                else:\n",
    "                    response = self.add_bot_response('(Test): Low confidence, low security answer (use chatgpt)')\n",
    "            else:\n",
    "                # Condition 5: Is there intent that requires a specific action?\n",
    "                if intent_name == 'initalize_user_settings':\n",
    "                    # Logic to ask user questions to set the settings here\n",
    "                    response = self.add_bot_response('(Test): Specific intent, initialize settings')\n",
    "                elif intent_name == 'change_setting':\n",
    "                    # NER keywoard recognition implementation here\n",
    "                    response = self.add_bot_response('(Test): Specific intent, change specific setting')\n",
    "                else:\n",
    "                    # Condition 6: Is the intent using GPT?\n",
    "                    if (not use_gpt):\n",
    "                        # Predefined response\n",
    "                        response = self.add_bot_response('(Test): Send the predefined response (settings respones)')\n",
    "                    else:\n",
    "                        if self.privacy_level >= 1: \n",
    "                            response = self.add_bot_response('(Test): Send predefined question to chatgpt')\n",
    "                        else:\n",
    "                            response = self.add_bot_response('(Test): Send users questions directly to chatgpt')\n",
    "\n",
    "\n",
    "        # Finally return the response\n",
    "        return response\n",
    "\n",
    "def initialize_chat():\n",
    "    logic = ChatbotLogic(gpt_model, intent_model, minimum_confidence_score, privacy_level)\n",
    "    return logic.history\n",
    "\n",
    "with gr.Blocks(theme=theme, css=\"chat/chat.css\") as demo:\n",
    "    gr.Image(\"https://iyyu.com/_nuxt/img/navbar_logoW@2x.79eba99.png\", interactive=False, tool=\"image\", show_label=False, elem_classes=\"logo\").style(width=200)\n",
    "    chatbot = gr.Chatbot(initialize_chat)\n",
    "    msg = gr.Textbox()\n",
    "    submit = gr.Button(\"Submit\")\n",
    "\n",
    "    msg.submit(logic.user, [msg, chatbot], [msg, chatbot], queue=False).then(\n",
    "        logic.bot, chatbot, chatbot\n",
    "    )\n",
    "    submit.click(logic.user, [msg, chatbot], [msg, chatbot], queue=False).then(\n",
    "        logic.bot, chatbot, chatbot\n",
    "    )\n",
    "\n",
    "demo.launch()\n",
    "\n",
    "\n"
   ]
  }
 ],
 "metadata": {
  "kernelspec": {
   "display_name": "Python 3 (ipykernel)",
   "language": "python",
   "name": "python3"
  },
  "language_info": {
   "codemirror_mode": {
    "name": "ipython",
    "version": 3
   },
   "file_extension": ".py",
   "mimetype": "text/x-python",
   "name": "python",
   "nbconvert_exporter": "python",
   "pygments_lexer": "ipython3",
   "version": "3.10.9"
  }
 },
 "nbformat": 4,
 "nbformat_minor": 2
}
