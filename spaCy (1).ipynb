{
 "cells": [
  {
   "cell_type": "code",
   "execution_count": 1,
   "id": "9910295e",
   "metadata": {},
   "outputs": [
    {
     "name": "stderr",
     "output_type": "stream",
     "text": [
      "[nltk_data] Downloading package punkt to\n",
      "[nltk_data]     /Users/milosmihajlovic/nltk_data...\n",
      "[nltk_data]   Package punkt is already up-to-date!\n"
     ]
    }
   ],
   "source": [
    "import spacy\n",
    "import requests\n",
    "from chatterbot import ChatBot\n",
    "from chatterbot.trainers import ListTrainer\n",
    "import ssl\n",
    "ssl._create_default_https_context = ssl._create_unverified_context\n",
    "import nltk\n",
    "nltk.download('punkt')\n",
    "nlp = spacy.load(\"en_core_web_md\")"
   ]
  },
  {
   "cell_type": "code",
   "execution_count": 2,
   "id": "14e85efe",
   "metadata": {},
   "outputs": [
    {
     "name": "stderr",
     "output_type": "stream",
     "text": [
      "[nltk_data] Downloading package averaged_perceptron_tagger to\n",
      "[nltk_data]     /Users/milosmihajlovic/nltk_data...\n",
      "[nltk_data]   Package averaged_perceptron_tagger is already up-to-\n",
      "[nltk_data]       date!\n",
      "[nltk_data] Downloading package punkt to\n",
      "[nltk_data]     /Users/milosmihajlovic/nltk_data...\n",
      "[nltk_data]   Package punkt is already up-to-date!\n",
      "[nltk_data] Downloading package stopwords to\n",
      "[nltk_data]     /Users/milosmihajlovic/nltk_data...\n",
      "[nltk_data]   Package stopwords is already up-to-date!\n"
     ]
    },
    {
     "ename": "TypeError",
     "evalue": "unsupported operand type(s) for /: 'str' and 'str'",
     "output_type": "error",
     "traceback": [
      "\u001b[0;31m---------------------------------------------------------------------------\u001b[0m",
      "\u001b[0;31mTypeError\u001b[0m                                 Traceback (most recent call last)",
      "Cell \u001b[0;32mIn[2], line 27\u001b[0m\n\u001b[1;32m     19\u001b[0m chatbot \u001b[38;5;241m=\u001b[39m ChatBot(\u001b[38;5;124m'\u001b[39m\u001b[38;5;124miYUU\u001b[39m\u001b[38;5;124m'\u001b[39m)\n\u001b[1;32m     20\u001b[0m trainer \u001b[38;5;241m=\u001b[39m ListTrainer(chatbot)\n\u001b[1;32m     21\u001b[0m trainer\u001b[38;5;241m.\u001b[39mtrain([\n\u001b[1;32m     22\u001b[0m \u001b[38;5;124m'\u001b[39m\u001b[38;5;124mHi, can I help you?\u001b[39m\u001b[38;5;124m'\u001b[39m,\n\u001b[1;32m     23\u001b[0m \u001b[38;5;124m'\u001b[39m\u001b[38;5;124mSure, I would like to book a flight.\u001b[39m\u001b[38;5;124m'\u001b[39m,\n\u001b[1;32m     24\u001b[0m \u001b[38;5;124m'\u001b[39m\u001b[38;5;124mWhere would you like to go?\u001b[39m\u001b[38;5;124m'\u001b[39m,\n\u001b[1;32m     25\u001b[0m \u001b[38;5;124m'\u001b[39m\u001b[38;5;124mTo Amsterdam\u001b[39m\u001b[38;5;124m'\u001b[39m,\n\u001b[1;32m     26\u001b[0m \u001b[38;5;124m'\u001b[39m\u001b[38;5;124mYour flight has been booked.\u001b[39m\u001b[38;5;124m'\u001b[39m,\n\u001b[0;32m---> 27\u001b[0m \u001b[38;5;124;43m'\u001b[39;49m\u001b[38;5;124;43mThank you!\u001b[39;49m\u001b[38;5;124;43m'\u001b[39;49m\u001b[38;5;241;43m/\u001b[39;49m\u001b[38;5;124;43m'\u001b[39;49m\u001b[38;5;124;43mThanks\u001b[39;49m\u001b[38;5;124;43m'\u001b[39;49m,\n\u001b[1;32m     28\u001b[0m \u001b[38;5;124m'\u001b[39m\u001b[38;5;124mNo problem\u001b[39m\u001b[38;5;124m'\u001b[39m\n\u001b[1;32m     29\u001b[0m ])\n\u001b[1;32m     31\u001b[0m \u001b[38;5;28;01mwhile\u001b[39;00m \u001b[38;5;28;01mTrue\u001b[39;00m:\n\u001b[1;32m     32\u001b[0m     value \u001b[38;5;241m=\u001b[39m \u001b[38;5;28minput\u001b[39m()\n",
      "\u001b[0;31mTypeError\u001b[0m: unsupported operand type(s) for /: 'str' and 'str'"
     ]
    }
   ],
   "source": [
    "# import requests\n",
    "\n",
    "# api_key = \"your_api_key\"\n",
    "\n",
    "# def get_weather(city_name):\n",
    "#     api_url = \"http://api.openweathermap.org/data/2.5/weather?q={}&appid={}\".format(city_name, api_key)\n",
    "\n",
    "# response = requests.get(api_url)\n",
    "# response_dict = response.json()\n",
    "\n",
    "# weather = response_dict[\"weather\"][0][\"description\"]\n",
    "\n",
    "# if response.status_code == 200:\n",
    "#     return weather\n",
    "# else:\n",
    "#     print('[!] HTTP {0} calling [{1}]'.format(response.status_code, api_url))\n",
    "#     return None\n",
    "\n",
    "chatbot = ChatBot('iYUU')\n",
    "trainer = ListTrainer(chatbot)\n",
    "trainer.train([\n",
    "'Hi, can I help you?',\n",
    "'Sure, I would like to book a flight.',\n",
    "'Where would you like to go?',\n",
    "'To Amsterdam',\n",
    "'Your flight has been booked.',\n",
    "'Thank you!',\n",
    "'No problem'\n",
    "])\n",
    "\n",
    "while True:\n",
    "    value = input()\n",
    "    response = chatbot.get_response(value)\n",
    "    print(response)"
   ]
  },
  {
   "cell_type": "code",
   "execution_count": 4,
   "id": "9bbac7a7",
   "metadata": {},
   "outputs": [],
   "source": [
    "# def chatbot(statement):\n",
    "#   weather = nlp(\"Current weather in a city\")\n",
    "#   statement = nlp(statement)"
   ]
  },
  {
   "cell_type": "code",
   "execution_count": null,
   "id": "28a79ffe",
   "metadata": {},
   "outputs": [],
   "source": []
  }
 ],
 "metadata": {
  "kernelspec": {
   "display_name": "Python 3 (ipykernel)",
   "language": "python",
   "name": "python3"
  },
  "language_info": {
   "codemirror_mode": {
    "name": "ipython",
    "version": 3
   },
   "file_extension": ".py",
   "mimetype": "text/x-python",
   "name": "python",
   "nbconvert_exporter": "python",
   "pygments_lexer": "ipython3",
   "version": "3.10.9"
  }
 },
 "nbformat": 4,
 "nbformat_minor": 5
}
