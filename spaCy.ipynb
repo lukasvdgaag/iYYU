{
 "cells": [
  {
   "cell_type": "code",
   "execution_count": 2,
   "id": "9910295e",
   "metadata": {},
   "outputs": [
    {
     "name": "stderr",
     "output_type": "stream",
     "text": [
      "[nltk_data] Downloading package punkt to\n",
      "[nltk_data]     /Users/milosmihajlovic/nltk_data...\n",
      "[nltk_data]   Package punkt is already up-to-date!\n"
     ]
    }
   ],
   "source": [
    "import spacy\n",
    "import requests\n",
    "from chatterbot import ChatBot\n",
    "from chatterbot.trainers import ListTrainer\n",
    "import ssl\n",
    "ssl._create_default_https_context = ssl._create_unverified_context\n",
    "import nltk\n",
    "nltk.download('punkt')\n",
    "nlp = spacy.load(\"en_core_web_md\")"
   ]
  },
  {
   "cell_type": "code",
   "execution_count": 3,
   "id": "14e85efe",
   "metadata": {},
   "outputs": [
    {
     "name": "stdout",
     "output_type": "stream",
     "text": [
      "List Trainer: [####                ] 20%"
     ]
    },
    {
     "name": "stderr",
     "output_type": "stream",
     "text": [
      "[nltk_data] Downloading package averaged_perceptron_tagger to\n",
      "[nltk_data]     /Users/milosmihajlovic/nltk_data...\n",
      "[nltk_data]   Package averaged_perceptron_tagger is already up-to-\n",
      "[nltk_data]       date!\n",
      "[nltk_data] Downloading package punkt to\n",
      "[nltk_data]     /Users/milosmihajlovic/nltk_data...\n",
      "[nltk_data]   Package punkt is already up-to-date!\n",
      "[nltk_data] Downloading package stopwords to\n",
      "[nltk_data]     /Users/milosmihajlovic/nltk_data...\n",
      "[nltk_data]   Package stopwords is already up-to-date!\n"
     ]
    },
    {
     "name": "stdout",
     "output_type": "stream",
     "text": [
      "List Trainer: [####################] 100%\n",
      "I would like to book a flight\n",
      "Where would you like to go?\n",
      "Amsterdam\n",
      "Your flight has been booked.\n"
     ]
    }
   ],
   "source": [
    "# import requests\n",
    "\n",
    "# api_key = \"your_api_key\"\n",
    "\n",
    "# def get_weather(city_name):\n",
    "#     api_url = \"http://api.openweathermap.org/data/2.5/weather?q={}&appid={}\".format(city_name, api_key)\n",
    "\n",
    "# response = requests.get(api_url)\n",
    "# response_dict = response.json()\n",
    "\n",
    "# weather = response_dict[\"weather\"][0][\"description\"]\n",
    "\n",
    "# if response.status_code == 200:\n",
    "#     return weather\n",
    "# else:\n",
    "#     print('[!] HTTP {0} calling [{1}]'.format(response.status_code, api_url))\n",
    "#     return None\n",
    "\n",
    "chatbot = ChatBot('iYUU')\n",
    "trainer = ListTrainer(chatbot)\n",
    "trainer.train([\n",
    "'Hi, can I help you?',\n",
    "'Sure, I would like to book a flight.',\n",
    "'Where would you like to go?',\n",
    "'To Amsterdam',\n",
    "'Your flight has been booked.'\n",
    "])\n",
    "\n",
    "value = input()\n",
    "\n",
    "response = chatbot.get_response(value)\n",
    "\n",
    "print(response)\n",
    "\n",
    "value = input()\n",
    "\n",
    "response = chatbot.get_response(value)\n",
    "\n",
    "print(response)"
   ]
  },
  {
   "cell_type": "code",
   "execution_count": 4,
   "id": "9bbac7a7",
   "metadata": {},
   "outputs": [],
   "source": [
    "# def chatbot(statement):\n",
    "#   weather = nlp(\"Current weather in a city\")\n",
    "#   statement = nlp(statement)"
   ]
  },
  {
   "cell_type": "code",
   "execution_count": null,
   "id": "28a79ffe",
   "metadata": {},
   "outputs": [],
   "source": []
  }
 ],
 "metadata": {
  "kernelspec": {
   "display_name": "Python 3 (ipykernel)",
   "language": "python",
   "name": "python3"
  },
  "language_info": {
   "codemirror_mode": {
    "name": "ipython",
    "version": 3
   },
   "file_extension": ".py",
   "mimetype": "text/x-python",
   "name": "python",
   "nbconvert_exporter": "python",
   "pygments_lexer": "ipython3",
   "version": "3.10.9"
  }
 },
 "nbformat": 4,
 "nbformat_minor": 5
}
