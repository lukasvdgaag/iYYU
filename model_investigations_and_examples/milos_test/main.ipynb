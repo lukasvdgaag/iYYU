{
 "cells": [
  {
   "cell_type": "code",
   "execution_count": null,
   "id": "1d6199e9",
   "metadata": {},
   "outputs": [
    {
     "name": "stderr",
     "output_type": "stream",
     "text": [
      "[nltk_data] Error loading averaged_perceptron_tagger: <urlopen error\n",
      "[nltk_data]     [SSL: CERTIFICATE_VERIFY_FAILED] certificate verify\n",
      "[nltk_data]     failed: unable to get local issuer certificate\n",
      "[nltk_data]     (_ssl.c:997)>\n",
      "[nltk_data] Error loading punkt: <urlopen error [SSL:\n",
      "[nltk_data]     CERTIFICATE_VERIFY_FAILED] certificate verify failed:\n",
      "[nltk_data]     unable to get local issuer certificate (_ssl.c:997)>\n",
      "[nltk_data] Error loading stopwords: <urlopen error [SSL:\n",
      "[nltk_data]     CERTIFICATE_VERIFY_FAILED] certificate verify failed:\n",
      "[nltk_data]     unable to get local issuer certificate (_ssl.c:997)>\n"
     ]
    },
    {
     "name": "stdout",
     "output_type": "stream",
     "text": [
      "List Trainer: [####################] 100%\n",
      "List Trainer: [####################] 100%\n",
      "List Trainer: [####################] 100%\n",
      "List Trainer: [####################] 100%\n",
      "List Trainer: [####################] 100%\n",
      "List Trainer: [####################] 100%\n",
      "List Trainer: [####################] 100%\n",
      "> What is the minimum age?\n",
      "The minimum age of the platform is 16 years.\n",
      "> Hey\n",
      "Greetings!\n"
     ]
    }
   ],
   "source": [
    "from chatterbot import ChatBot\n",
    "from chatterbot.trainers import ListTrainer\n",
    "import spacy\n",
    "\n",
    "# Create a new chat bot named Charlie\n",
    "chatbot = ChatBot('iYYU Chatbot')\n",
    "\n",
    "# Load the spaCy lax§nguage model\n",
    "nlp = spacy.load('en_core_web_sm')\n",
    "\n",
    "# Set the spaCy language model as the tokenizer for the chatbot\n",
    "chatbot.tokenizer = nlp.tokenizer\n",
    "\n",
    "trainer = ListTrainer(chatbot)\n",
    "\n",
    "# Define variations of greetings and their response\n",
    "greetings = [\n",
    "    (\"Hi\", \"Greetings!\"),\n",
    "    (\"Hello\", \"Greetings!\"),\n",
    "    (\"Yo\", \"Greetings!\"),\n",
    "    (\"Hey\", \"Greetings!\")\n",
    "]\n",
    "\n",
    "# Define variations of minimum age queries and their response\n",
    "minimum_age_queries = [\n",
    "    (\"What is the minimum age?\", \"The minimum age of the platform is 16 years.\"),\n",
    "    (\"How old do I have to be to use this platform?\", \"The minimum age of the platform is 16 years.\"),\n",
    "    (\"Is there an age restriction?\", \"The minimum age of the platform is 16 years.\")\n",
    "]\n",
    "\n",
    "# Train the chatbot with greetings and minimum age queries\n",
    "for greeting in greetings:\n",
    "    trainer.train([\n",
    "        greeting[0],\n",
    "        greeting[1]\n",
    "    ])\n",
    "\n",
    "for query in minimum_age_queries:\n",
    "    trainer.train([\n",
    "        query[0],\n",
    "        query[1]\n",
    "    ])\n",
    "\n",
    "exit_conditions = (\":q\", \"quit\", \"exit\")\n",
    "while True:\n",
    "    user_input = input(\"> \")\n",
    "    if user_input in exit_conditions:\n",
    "        break\n",
    "    else:\n",
    "        response = chatbot.get_response(user_input)\n",
    "\n",
    "        # Check if the input matches any of the minimum age queries\n",
    "        if any(query[0].lower() in user_input.lower() for query in minimum_age_queries):\n",
    "            print(\"The minimum age of the platform is 16 years.\")\n",
    "        else:\n",
    "            print(response)"
   ]
  }
 ],
 "metadata": {
  "kernelspec": {
   "display_name": "Python 3 (ipykernel)",
   "language": "python",
   "name": "python3"
  },
  "language_info": {
   "codemirror_mode": {
    "name": "ipython",
    "version": 3
   },
   "file_extension": ".py",
   "mimetype": "text/x-python",
   "name": "python",
   "nbconvert_exporter": "python",
   "pygments_lexer": "ipython3",
   "version": "3.10.9"
  }
 },
 "nbformat": 4,
 "nbformat_minor": 5
}
