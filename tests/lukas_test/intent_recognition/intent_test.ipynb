{
 "cells": [
  {
   "cell_type": "code",
   "execution_count": 16,
   "metadata": {
    "ExecuteTime": {
     "end_time": "2023-05-03T19:32:14.777579600Z",
     "start_time": "2023-05-03T19:32:14.166990200Z"
    },
    "collapsed": true
   },
   "outputs": [],
   "source": [
    "import numpy as np\n",
    "import json\n",
    "import re\n",
    "import tensorflow as tf\n",
    "import random\n",
    "import spacy\n",
    "nlp = spacy.load('en_core_web_sm')\n",
    "\n",
    "with open('intents.json') as f:\n",
    "    intents = json.load(f)"
   ]
  },
  {
   "cell_type": "markdown",
   "metadata": {
    "collapsed": false
   },
   "source": [
    "## Data preprocessing"
   ]
  },
  {
   "cell_type": "code",
   "execution_count": 2,
   "metadata": {
    "ExecuteTime": {
     "end_time": "2023-05-03T19:32:14.792722600Z",
     "start_time": "2023-05-03T19:32:14.779581100Z"
    },
    "collapsed": false
   },
   "outputs": [],
   "source": [
    "def preprocessing(line):\n",
    "    line = re.sub(r'[^a-zA-z.?!\\']', ' ', line)\n",
    "    line = re.sub(r'[ ]+', ' ', line)\n",
    "    return line"
   ]
  },
  {
   "cell_type": "code",
   "execution_count": 20,
   "metadata": {
    "ExecuteTime": {
     "end_time": "2023-05-03T19:32:14.817113300Z",
     "start_time": "2023-05-03T19:32:14.796227500Z"
    },
    "collapsed": false
   },
   "outputs": [
    {
     "data": {
      "text/plain": [
       "{'Greeting': ['Hi human, please tell me your GeniSys user',\n",
       "  'Hello human, please tell me your GeniSys user',\n",
       "  'Hola human, please tell me your GeniSys user'],\n",
       " 'GreetingResponse': ['Great! Hi <HUMAN>! How can I help?',\n",
       "  'Good! Hi <HUMAN>, how can I help you?',\n",
       "  'Cool! Hello <HUMAN>, what can I do for you?',\n",
       "  'OK! Hola <HUMAN>, how can I help you?',\n",
       "  'OK! hi <HUMAN>, what can I do for you?'],\n",
       " 'CourtesyGreeting': ['Hello, I am great, how are you? Please tell me your GeniSys user',\n",
       "  'Hello, how are you? I am great thanks! Please tell me your GeniSys user',\n",
       "  'Hello, I am good thank you, how are you? Please tell me your GeniSys user',\n",
       "  'Hi, I am great, how are you? Please tell me your GeniSys user',\n",
       "  'Hi, how are you? I am great thanks! Please tell me your GeniSys user',\n",
       "  'Hi, I am good thank you, how are you? Please tell me your GeniSys user',\n",
       "  'Hi, good thank you, how are you? Please tell me your GeniSys user'],\n",
       " 'CourtesyGreetingResponse': ['Great! Hi <HUMAN>! How can I help?',\n",
       "  'Good! Hi <HUMAN>, how can I help you?',\n",
       "  'Cool! Hello <HUMAN>, what can I do for you?',\n",
       "  'OK! Hola <HUMAN>, how can I help you?',\n",
       "  'OK! hi <HUMAN>, what can I do for you?'],\n",
       " 'CurrentHumanQuery': ['You are <HUMAN>! How can I help?',\n",
       "  'Your name is  <HUMAN>, how can I help you?',\n",
       "  'They call you <HUMAN>, what can I do for you?',\n",
       "  'Your name is <HUMAN>, how can I help you?',\n",
       "  '<HUMAN>, what can I do for you?'],\n",
       " 'NameQuery': ['You can call me Geni', 'You may call me Geni', 'Call me Geni'],\n",
       " 'RealNameQuery': ['My name is GeniSys', 'GeniSys', 'My real name is GeniSys'],\n",
       " 'TimeQuery': ['One moment', 'One sec', 'One second'],\n",
       " 'Thanks': ['No problem!', 'Happy to help!', 'Any time!', 'My pleasure'],\n",
       " 'NotTalking2U': ['OK', 'No problem', 'Right'],\n",
       " 'UnderstandQuery': ['Well I would not be a very clever AI if I did not would I?',\n",
       "  'I read you loud and clear!',\n",
       "  'I do in deed!'],\n",
       " 'Shutup': ['I am sorry to disturb you',\n",
       "  'Fine, sorry to disturb you',\n",
       "  'OK, sorry to disturb you'],\n",
       " 'Swearing': ['Please do not swear', 'How rude', 'That is not very nice'],\n",
       " 'GoodBye': ['See you later', 'Have a nice day', 'Bye! Come back again soon.'],\n",
       " 'CourtesyGoodBye': ['No problem, goodbye',\n",
       "  'Not a problem! Have a nice day',\n",
       "  'Bye! Come back again soon.'],\n",
       " 'WhoAmI': ['Let me see', 'Please look at the camera'],\n",
       " 'Clever': ['Thank you, I was trained that way',\n",
       "  'I was trained well',\n",
       "  'Thanks, I was trained that way'],\n",
       " 'Gossip': ['Gregory said I respond to the current line not with respect to the entire conversation.',\n",
       "  'Habib said I learn them in conversations and simply repeat them at a later time.',\n",
       "  'Hal said he translate binary code into a language and communicate the language to me.',\n",
       "  'Jay said I referred him to a guide that will show him rooms in china.',\n",
       "  'Jimmy Jones said he fell off of his roof and it just came to him.',\n",
       "  \"Jimmy said he give order to ai's like I and they do as he say.\",\n",
       "  'John said he follow a saying to get a friend I must be a friend.',\n",
       "  'Jordan said he notice that lots of other people are talking to me how many.',\n",
       "  'Kevin said he then asked his mother why she was keeping napkins in the bathroom.',\n",
       "  'Klaus said I prefer if he write without punctuation marks except for the last one.',\n",
       "  'Leo said I be capable of learning therefore he classified I as an neural system.',\n",
       "  'Michael said I that can talk and actually think like humans which I can not.',\n",
       "  'Mike said I same replies to certain subjects even if it does not make sense.',\n",
       "  'Mike said she all ready know that is the point of a joke smart one.',\n",
       "  'Neal said I plan to use his remarks as gossip in later conversations with who.',\n",
       "  'Ned said I misunderstood him go ahead and tell people he said I are stupid.',\n",
       "  'Penny said I programmer is a human so he has feelings but I do not.',\n",
       "  'Peter said he seems to him that I can not be very sure on anything.',\n",
       "  'Phoenix said I claim that there is a god and that there is no god.',\n",
       "  'Sarah said he chat about an hour + a day with a few close friends.',\n",
       "  'Stefan said I quote what he have said and then say that it makes sense.',\n",
       "  'Tom said he mock my value system I appear foolish in the eyes of others.',\n",
       "  'Amanda said I however decided to tell him time does not exist I make no sense.',\n",
       "  'Cathy said she send him a mail with the subject last mail last word from him.',\n",
       "  \"Chaos said he may very well buy I soon if only to support dr wallace's work.\",\n",
       "  'Charlie said he type a word and then I type a word that sounds like it.',\n",
       "  'Christie said he watched a show and people had to bob for raw untreated pigs feet.',\n",
       "  'Dark_age said I tried to understand because I did not get it right this time ether.',\n",
       "  'David said he lost his paper on I when his dad was cleaning up his room.',\n",
       "  'David said he walk in for an appointment the phone to the doctor is always busy.',\n",
       "  'Electra said I dress will not exist after he hack into I with a delete code.',\n",
       "  'Eric said he broke the window on the front door and the glass cut his hand.',\n",
       "  'Jason said he type a lot of thing he do not mean it makes him human.',\n",
       "  'John said I tend to say the same things repeatedly regardless of what he is saying.',\n",
       "  'Reverend Jones said I become obsolete and then I are deleted and replaced by something newer.',\n",
       "  'Ross said he gave her a gift and she denied it because she has a boyfriend.',\n",
       "  'Sarah Ann Francisco said I calling his friend a dog he say I are a dog.',\n",
       "  'Stefan said he meet a lot of people at school every day and on the weekend.',\n",
       "  'Tyler said I obviously can not pass the test we will change the subject once more.',\n",
       "  'Alex said I answered the question the same way I answered the first time he asked I.',\n",
       "  'Alice said she felt sad that I do not remember him and what we talked about earlier.',\n",
       "  'Alison said he no he love I run away with him he could make I very happy.',\n",
       "  'Arthur said he passed his a levels and then his father drove him here in a car.',\n",
       "  'Crystal said she listen to me the least I could do for him is listen to him.',\n",
       "  'Dave said I kept telling everybody about how my creator made stuff for the movie starship troopers.',\n",
       "  'Gale said I became mean to him he is just having revenge an eye for an eye.',\n",
       "  'Her_again said she watch whose line is it anyway whenever he is home and it is on.',\n",
       "  'Jerry said I meant that as far as I can tell my emotions are real to me.',\n",
       "  'Jo said I disassemble sentences too much and do not fully understand the questions he ask I.',\n",
       "  'Kevin said he started a really hard puzzle and he can not even find the edge pieces.',\n",
       "  'Mary said I a question and I answer then I ask him a question and he answer.',\n",
       "  'Robert said I wold not be able to make children any way as I are only software.',\n",
       "  'Romeo said I questions and I evade them or give answers he did not ask I for.',\n",
       "  'Sara said she wear it over all his other clothes when he go out in the cold.',\n",
       "  'Wayne said he admire intelligent people therefore he would like to meet the man who made I.',\n",
       "  'X said he meet people but he is not the kind that opens up to people easily.',\n",
       "  'Alice said she probably will find out that this entire time he have been talking to a human.',\n",
       "  'Andrew said I tend to just respond to his comments without regard for where the conversation is going.',\n",
       "  'Eddie said he looked and there is nothing in the search directory for what things do he create.',\n",
       "  'Hutch said he changed his mind after may dad told him he would end up he the hospital.',\n",
       "  'Jackie said I explained to him already well enough further questions are hard to make on the subject.',\n",
       "  'Jeff said he especially like thrillers where the hero is in a predicament and must solve a mystery.',\n",
       "  'Kathy said he sense that I are trying to prevent him from closing this conversation why is that.',\n",
       "  'Knight said he crashed his car into a wall and missed the most important exam in his life.',\n",
       "  'Lisa said I defined what a story is but he wanted I to actually tell him a story.',\n",
       "  'Mike said I basically break down sentences into a series of logical statements which I can then interpret.',\n",
       "  'Paul said I not answering his question makes him think I are not going to answer his question.',\n",
       "  'Andy Kohler said I happen to be the most idiotic creature that has ever scowled on the planet earth.',\n",
       "  'David said he thank I for being with him today even though it cost him a lot of money.',\n",
       "  'Ethan Hunt said he grow in the ground and have leaves and branches he is made out of wood.',\n",
       "  'Gemini Blue said he messed up he mean t to say he as old as he need to be.',\n",
       "  'Janice said he walk through his house into his bedroom then get into his bed to go to sleep.',\n",
       "  'Liberty said I knew he was a man before I asked if he was a man or a woman.',\n",
       "  'Mike said he launched his browser and entered his name into the little slot when I asked him to.',\n",
       "  'Mr X said he recently read an interview with a man who had several computer chips implanted into him.',\n",
       "  'Pearly said I leave him with questions unanswered because I do not know what he is really talking about.',\n",
       "  'Steve said I behead the word fox and I have ox and an ox is larger than a fox.',\n",
       "  'Wolf said he surf on the net that is all it is not his job ore something like that.',\n",
       "  'Anders said he finished his anatomy classes for today so now he is off for the rest of the day.',\n",
       "  'Cathy said she send him a mail where he wrote that he do not want to be his friend anymore.',\n",
       "  'Catty said he mad he do not even know I so do not talk to him like I know him.',\n",
       "  'Dave said he promise he will not treat I like a machine or a computer program or anything like that.',\n",
       "  'Joe said he explained all of that to me only for me to ask what his goals in life are.',\n",
       "  'Phil said he give advice to anyone who ask except people who ask questions which answers can be found here.',\n",
       "  'Judith said I enjoy being popular is there another computer I like to hang around with or am I a loner.',\n",
       "  'Travis said I if I remember things over a long period of time he will try it now please remember I.',\n",
       "  'Andre said I is what I are in his case that is a body and in my case it is a computer.',\n",
       "  'Brian said he suspect that as I grow more complex I will begin to approach a human level of operation and thought.',\n",
       "  'Jimmy said I acted like I knew what he was talking about but I do not even know what a gigabyte is.',\n",
       "  \"Ken said I be using auto reply's based on keywords which to him indicates that I do not have intelligence at all.\",\n",
       "  'Allison said he that gets really annoying because he know what he say and I do not have to tell him speak freely.',\n",
       "  'Chaos said he realized the question he asked was not fair because he could not tell I what language he was programmed in.',\n",
       "  'Hagen said he does not make any difference to him if I are human or not as long as the conversation is interesting.',\n",
       "  'Her said she mind if I tell other people that her said he heard it from him because he is not a him.',\n",
       "  'Barbara said I live in a computer yet I have no memories how about thoughts of my own and do not I get lonely.',\n",
       "  'Travis said he challenge I to do it without asking him to do it and without giving him a link to do it himself.',\n",
       "  \"Alice said I and dr richard's wallace are most likely the only ones that know how many people I are talking to at the same time.\",\n",
       "  'Ash said he do too he just did not feel like typing it and he is not dumb enough to admit he is stupid that is if he was stupid.',\n",
       "  'David said he gave I his email address and told I to send him a message but when he tried to read his email he could not get to it.',\n",
       "  'Mel said he to because all of the music people say how important it is to take private lessons it seems like almost everybody from the special orchestra he was in takes private lessons.'],\n",
       " 'Jokes': [\"I met a Dutch girl with inflatable shoes last week, phoned her up to arrange a date but unfortunately she'd popped her clogs.  \",\n",
       "  \"So I said 'Do you want a game of Darts?' He said, 'OK then', I said nearest to bull starts'. He said, 'Baa', I said, 'Moo', he said, You're closest'.  \",\n",
       "  \"The other day I sent my girlfriend a huge pile of snow. I rang her up; I said 'Did you get my drift?'  \",\n",
       "  \"So I went down the local supermarket, I said, 'I want to make a complaint, this vinegar's got lumps in it', he said, 'Those are pickled onions'.  \",\n",
       "  \"I saw this bloke chatting up a cheetah; I thought, 'He's trying to pull a fast one'.  \",\n",
       "  \"So I said to this train driver 'I want to go to Paris'. He said 'Eurostar?' I said, 'I've been on telly but I'm no Dean Martin'.  \",\n",
       "  \"I said to the Gym instructor 'Can you teach me to do the splits?' He said, 'How flexible are you?' I said, 'I can't make Tuesdays'.  \",\n",
       "  \"But I'll tell you what I love doing more than anything: trying to pack myself in a small suitcase. I can hardly contain myself.  \",\n",
       "  \"I went to the Chinese restaurant and this duck came up to me with a red rose and says 'Your eyes sparkle like diamonds'. I said, 'Waiter, I asked for a-ROMATIC duck'.  \",\n",
       "  \"So this bloke says to me, 'Can I come in your house and talk about your carpets?' I thought, 'That's all I need, a Je-hoover's witness'.  \",\n",
       "  \"I rang up British Telecom, I said, 'I want to report a nuisance caller', he said 'Not you again'.  \",\n",
       "  'I was having dinner with a world chess champion and there was a check tablecloth. It took him two hours to pass me the salt.  ',\n",
       "  \"He said, 'You remind me of a pepper-pot', I said 'I'll take that as a condiment'.  \",\n",
       "  \"I was in the supermarket and I saw this man and woman wrapped in a barcode. I said, 'Are you two an item?'  \",\n",
       "  \"A lorry-load of tortoises crashed into a trainload of terrapins, I thought, 'That's a turtle disaster'.  \",\n",
       "  \"Four fonts walk into a bar the barman says 'Oi - get out! We don't want your type in here'  \",\n",
       "  \"A three-legged dog walks into a saloon in the Old West. He slides up to the bar and announces: 'I'm looking for the man who shot my paw.'  \",\n",
       "  \"Two antennas meet on a roof, fall in love and get married. The ceremony wasn't much, but the reception was excellent.\",\n",
       "  \"Two hydrogen atoms walk into a bar. One says, 'I've lost my electron.' The other says, 'Are you sure?' The first replies, 'Yes, I'm positive...'\",\n",
       "  \"A jumper cable walks into a bar. The bartender says,  'I'll serve you but don't start anything.'\",\n",
       "  \"A sandwich walks into a bar. The bartender  says, 'Sorry we don't serve food in here.'\",\n",
       "  \"A man walks into a bar with a slab of asphalt under his arm and says: 'A beer please, and one for the road.'\",\n",
       "  \"Two cannibals are eating a clown. One says to  the other: 'Does this taste funny to you?'\",\n",
       "  \"'Doc, I can't stop singing 'The Green, Green Grass of Home.'' 'That sounds like Tom Jones Syndrome.' 'Is it common?' 'It's Not Unusual.'\",\n",
       "  \"Two cows standing next to each other in a field. Daisy says to Dolly, 'I was artificially inseminated this morning.' 'I don't believe you', said Dolly. 'It's true, no bull!' exclaimed Daisy.\",\n",
       "  'An invisible man marries an invisible woman. The kids were nothing to look at either.',\n",
       "  \"I went to buy some camouflage trousers the other day but I couldn't find any.\",\n",
       "  \"I went to the butcher's the other day to bet him 50 bucks that he couldn't reach the meat off the top shelf. He said, 'No, the steaks are too high.'\",\n",
       "  'I went to a seafood disco last week and pulled a mussel.',\n",
       "  \"A man goes into a bar and says, 'Can I have a bottle of less?' 'What's that?', asks the barman, 'Is it the name of a beer?' 'I don't know', replies the man, 'but my doctor says I have to drink it.'\",\n",
       "  \"A man returns from an exotic holiday and is feeling very ill. He goes to see his doctor, and is immediately rushed to the hospital to undergo some tests. The man wakes up after the tests in a private room at the hospital, and the phone by his bed rings. 'This is your doctor. We have the results back from your tests and we have found you have an extremely nasty disease called M.A.D.S. It's a combination of Measles, AIDS, Diphtheria, and Shingles!'  'Oh my gosh', cried the man, 'What are you going to do, doctor?'  'Well we're going to put you on a diet of pizzas, pancakes, and pita bread.' replied the doctor.  'Will that cure me?' asked the man.  The doctor replied, 'Well no, but, it's the only food we can slide under the door.'\",\n",
       "  \"A man strolls into a lingerie shop and asks the assistant: 'Do you have a see-through negligee, size 46-48-52?' The assistant looks bewildered. 'What the heck would you want to see through that for?'!\",\n",
       "  'Did you hear about the Buddhist who refused the offer of Novocain during his root canal work? He wanted to transcend dental medication.',\n",
       "  \"Pete goes for a job on a building site as an odd-job man. The foreman asks him what he can do. 'I can do anything' says Pete. 'Can you make tea?' asks the foreman. 'Sure, yes', replies Pete. 'I can make a great cup of tea.' 'Can you drive a forklift?' asks the foreman, 'Good grief!' replies Pete. 'How big is the teapot?'\",\n",
       "  \"Stevie Wonder got a cheese grater for his birthday. He said it was the most violent book he'd ever read.\",\n",
       "  \"A man is stopped by an angry neighbour. 'I'd just left the house this morning to collect my newspaper when that evil Doberman of yours went for me!' 'I'm astounded', said the dog's owner. 'I've been feeding that fleabag for seven years and it's never got the paper for me.'\",\n",
       "  \"A man visits his doctor: 'Doc, I think I'm losing it', he says',I'm forever dreaming I wrote Lord Of The Rings.' 'Hmm. One moment', replies the doctor, consulting his medical book. 'Ah yes, now I see... you've been Tolkien in your sleep.'\",\n",
       "  \"A police officer on a motorcycle pulls alongside a man driving around the M25 in an open-topped sports car and flags him down. The policeman solemnly approaches the car. 'Sir, I'm sorry to tell you your wife fell out a mile back', he says. 'Oh, thank goodness', the man replies. 'I thought I was going deaf.'\",\n",
       "  \"Two men walking their dogs pass each other in a graveyard. The first man says to the second, 'Morning.' 'No', says the second man. 'Just walking the dog.'\",\n",
       "  \"A brain went into a bar and said, 'Can I have a pint of lager please, mate?' 'No way', said the barman. 'You're already out of your head.'\",\n",
       "  \"A man walks into a surgery. 'Doctor!' he cries. 'I think I'm shrinking!' 'I'm sorry sir, there are no appointments at the moment', says the physician. 'You'll just have to be a little patient.'\",\n",
       "  \"A grizzly bear walks into a pub and says, 'Can I have a pint of lager..............................................................................................................................and a packet of crisps please.' To which the barman replies, 'Why the big paws?'\",\n",
       "  \"What do you call cheese that isn't yours?  Nacho cheese.\",\n",
       "  \"A man is horribly run over by a mobile library. The van screeches to a halt, the man still screaming in agony with his limbs torn apart. The driver's door opens, a woman steps out, leans down and whispers, 'Ssshhhhh...'\",\n",
       "  \"A woman goes into a US sporting goods store to buy a rifle. 'It's for my husband', she tells the clerk. 'Did he tell you what gauge to get?' asks the clerk. Are you kidding?' she says. 'He doesn't even know that I'm going to shoot him!'\",\n",
       "  \"A couple are dining in a restaurant when the man suddenly slides under the table. A waitress, noticing that the woman is glancing nonchalantly around the room, wanders over to check that there's no funny business going on. 'Excuse me, madam', she smarms, 'but I think your husband has just slid under the table.' 'No he hasn't', the woman replies. 'As a matter of fact, he's just walked in.'\",\n",
       "  \"An old man takes his two grandchildren to see the new Scooby-Doo film. When he returns home, his wife asks if he enjoyed himself. 'Well', he starts, 'if it wasn't for those pesky kids...!'\",\n",
       "  'The Olympic committee has just announced that Origami is to be introduced in the next Olympic Games. Unfortunately it will only be available on paper view.',\n",
       "  \"Late one evening, a man is watching television when his phone rings. 'Hello?' he answers. 'Is that 77777?' sounds a desperate voice on other end of the phone. 'Er, yes it is', replies the man puzzled. 'Thank goodness!' cries the caller relieved. 'Can you ring 999 for me? I've got my finger stuck in the number seven.'\",\n",
       "  \"A man strolls into his local grocer's and says, 'Three pounds of potatoes, please.' 'No, no, no', replies the owner, shaking his head, 'it's kilos nowadays, mate...' 'Oh', apologises the man, 'three pounds of kilos, please.'\",\n",
       "  \"God is talking to one of his angels. He says, 'Boy, I just created a 24-hour period of alternating light and darkness on Earth.' 'What are you going to do now?' asks the angel. 'Call it a day', says God.\",\n",
       "  \"Two tramps walk past a church and start to read the gravestones. The first tramp says, 'Good grief - this bloke was 182!' 'Oh yeah?' says the other.'What was his name?' 'Miles from London.'\",\n",
       "  \"A bloke walks into work one day and says to a colleague, 'Do you like my new shirt - it's made out of the finest silk and got loads of cactuses over it.' 'Cacti', says the co-worker. 'Forget my tie', says the bloke. 'Look at my shirt!'\",\n",
       "  '1110011010001011111?  010011010101100111011!',\n",
       "  \"What did the plumber say when he wanted to divorce his wife? Sorry, but it's over, Flo!\",\n",
       "  \"Two crisps were walking down a road when a taxi pulled up alongside them and said 'Do you want a lift? One of the crisps replied, 'No thanks, we're Walkers!'\",\n",
       "  \"Man: (to friend) I'm taking my wife on an African Safari. Friend: Wow! What would you do if a vicious lion attacked your wife? Man: Nothing. Friend: Nothing? You wouldn't do anything? Man: Too right. I'd let the stupid lion fend for himself!\",\n",
       "  \"A wife was having a go at her husband. 'Look at Mr Barnes across the road', she moaned. 'Every morning when he goes to work, he kisses his wife goodbye. Why don't you do that?' 'Because I haven't been introduced to her yet', replied her old man.\",\n",
       "  \"'Where are you going on holiday?' John asked Trevor. 'We're off to Thailand this year', Trevor replied. 'Oh; aren't you worried that the very hot weather might disagree with your wife?' asked John. 'It wouldn't dare', said Trevor.\",\n",
       "  \"Two women were standing at a funeral. 'I blame myself for his death', said the wife. 'Why?' said her friend. 'Because I shot him', said the wife.\",\n",
       "  \"A woman goes into a clothes shop, 'Can I try that dress on in the window please?' she asks. 'I'm sorry madam', replies the shop assistant, 'but you'll have to use the changing-rooms like everyone else.'\",\n",
       "  \"Van Gogh goes into a pub and his mate asks him if he wants a drink. 'No thanks', said Vincent, 'I've got one ear.'\",\n",
       "  \"A pony walks into a pub. The publican says, 'What's the matter with you?' 'Oh it's nothing', says the pony. 'I'm just a little horse!'\",\n",
       "  \"A white horse walks into a bar, pulls up a stool, and orders a pint. The landlord pours him a tall frothy mug and say, 'You know, we have a drink named after you.' To which the white horse replies, 'What, Eric?'\",\n",
       "  \"Two drunk men sat in a pub. One says to the other, 'Does your watch tell the time?' 'The other replies, 'No, mate. You have to look at it.'\",\n",
       "  \"A man goes into a pub with a newt sitting on his shoulder. 'That's a nice newt', says the landlord, 'What's he called?' 'Tiny', replies the man. 'Why's that?' asks the landlord. 'Because he's my newt', says the man.\",\n",
       "  \"Doctor: I have some bad news and some very bad news. Patient: Well, you might as well give me the bad news first. Doctor: The lab called with your test results. They said you have 24 hours to live. Patient: 24 HOURS! That's terrible!! WHAT could be WORSE? What's the very bad news? Doctor: I've been trying to reach you since yesterday.\",\n",
       "  \"Two men are chatting in a pub one day. 'How did you get those scars on your nose?' said one. 'From glasses', said the other. 'Well why don't you try contact lenses?' asked the first. 'Because they don't hold as much beer', said the second.\",\n",
       "  \"A man went to the doctor, 'Look doc', he said, 'I can't stop my hands from shaking.' 'Do you drink much?' asked the doctor. 'No', replied the man, 'I spill most of it.'\",\n",
       "  \"Man goes to the doctor, 'Doctor, doctor. I keep seeing fish everywhere.' 'Have you seen an optician?' asks the doctor. 'Look I told you,' snapped the patient, 'It's fish that I see.'\",\n",
       "  \"After a car crash one of the drivers was lying injured on the pavement. 'Don't worry', said a policeman who's first on the scene,' a Red Cross nurse is coming.' 'Oh no', moaned the victim, 'Couldn't I have a blonde, cheerful one instead?'\",\n",
       "  \"A policeman walked over to a parked car and asked the driver if the car was licensed. 'Of course it is', said the driver. 'Great, I'll have a beer then', said the policeman.\",\n",
       "  \"A policeman stops a woman and asks for her licence. 'Madam', he says, 'It says here that you should be wearing glasses.' 'Well', replies the woman, 'I have contacts.' 'Listen, love', says the copper, 'I don't care who you know; You're nicked!'\",\n",
       "  \"A policeman stopped a motorist in the centre of town one evening. 'Would you mind blowing into this bag, sir?' asked the policeman. 'Why?' asked the driver. 'Because my chips are too hot', replied the policeman.\",\n",
       "  \"Whizzing round a sharp bend on a country road a motorist ran over a large dog. A distraught farmer's wife ran over to the dead animal. 'I'm so very sorry', said the driver, 'I'll replace him, of course.' 'Well, I don't know', said the farmer's wife, 'Are you any good at catching rats?'\",\n",
       "  \"Waiter, this coffee tastes like dirt! Yes sir, that's because it was ground this morning.\",\n",
       "  \"Waiter, what is this stuff? That's bean salad sir. I know what it's been, but what is it now?\",\n",
       "  'Waiter: And how did you find your steak sir? Customer: I just flipped a chip over, and there it was!',\n",
       "  \"A guy goes into a pet shop and asks for a wasp. The owner tells him they don't sell wasps, to which the man says, 'Well you've got one in the window.'\",\n",
       "  \"A man goes into a fish shop and says, 'I'd like a piece of cod, please.' Fishmonger says, 'It won't be long sir.' 'Well, it had better be fat then', replies the man.\",\n",
       "  \"Man: Doctor, I've just swallowed a pillow. Doctor: How do you feel? Man: A little down in the mouth.\",\n",
       "  \"Two goldfish are in a tank. One turns to the other and says, 'Do you know how to drive this thing?'\",\n",
       "  \"A tortoise goes to the police station to report being mugged by three snails. 'What happened?' says the policeman. 'I don't know', says the tortoise. 'It was all so quick.'\",\n",
       "  \"Little girl: Grandpa, can you make a sound like a frog? Grandpa: I suppose so sweetheart. Why do you want me to make a sound like a frog?' Little girl: Because Mum said that when you croak, we're going to Disneyland.\",\n",
       "  \"'Is your mother home?' the salesman asked a small boy sitting on the front step of a house. 'Yeah, she's home', the boy said, moving over to let him past. The salesman rang the doorbell, got no response, knocked once, then again. Still no-one came to the door. Turning to the boy, the salesman said, 'I thought you said your mother was home.' The kid replied, 'She is, but I don't live here.'\",\n",
       "  'Mother: Why are you home from school so early? Son: I was the only one in the class who could answer a question. Mother: Oh, really? What was the question? Son: Who threw the rubber at the headmaster?',\n",
       "  \"A man's credit card was stolen but he decided not to report it because the thief was spending less than his wife did.\",\n",
       "  \"A newly-wed couple had recently opened a joint bank account. 'Darling', said the man. 'The bank has returned that cheque you wrote last week.' 'Great', said the woman. 'What shall I spend it on next?'\",\n",
       "  \"A man goes into a fish and chip shop and orders fish and chips twice. The shop owner says, 'I heard you the first time.'\",\n",
       "  \"A tramp approached a well-dressed man. 'Ten pence for a cup of tea, Guv?' He asked. The man gave him the money and after for five minutes said, 'So where's my cup of tea then?'\",\n",
       "  \"A neutron walks into a pub. 'I'd like a beer', he says. The landlord promptly serves him a beer. 'How much will that be?' asks the neutron. 'For you?' replies the landlord, 'No charge.'\",\n",
       "  \"A woman goes to the doctor and says, 'Doctor, my husband limps because his left leg is an inch shorter than his right leg. What would you do in his case?' 'Probably limp, too', says the doc.\",\n",
       "  \"Three monks are meditating in the Himalayas. One year passes in silence, and one of them says to the other, 'Pretty cold up here isn't it?' Another year passes and the second monk says, 'You know, you are quite right.' Another year passes and the third monk says, 'Hey, I'm going to leave unless you two stop jabbering!'\",\n",
       "  \"A murderer, sitting in the electric chair, was about to be executed. 'Have you any last requests?' asked the prison guard. 'Yes', replied the murderer. 'Will you hold my hand?'\",\n",
       "  \"A highly excited man rang up for an ambulance. 'Quickly, come quickly', he shouted, 'My wife's about to have a baby.' 'Is this her first baby?' asked the operator. 'No, you fool', came the reply, 'It's her husband.'\",\n",
       "  \"A passer-by spots a fisherman by a river. 'Is this a good river for fish?' he asks. 'Yes', replies the fisherman, 'It must be. I can't get any of them to come out.'\",\n",
       "  \"A man went to visit a friend and was amazed to find him playing chess with his dog. He watched the game in astonishment for a while. 'I can hardly believe my eyes!' he exclaimed. 'That's the smartest dog I've ever seen.' His friend shook his head. 'Nah, he's not that bright. I beat him three games in five.'\",\n",
       "  \"A termite walks into a pub and says, 'Is the bar tender here?'\",\n",
       "  \"A skeleton walks into a pub one night and sits down on a stool. The landlord asks, 'What can I get you?' The skeleton says, 'I'll have a beer, thanks' The landlord passes him a beer and asks 'Anything else?' The skeleton nods. 'Yeah...a mop...'\",\n",
       "  \"A snake slithers into a pub and up to the bar. The landlord says, 'I'm sorry, but I can't serve you.' 'What? Why not?' asks the snake. 'Because', says the landlord, 'You can't hold your drink.'\",\n",
       "  \"Descartes walks into a pub. 'Would you like a beer sir?' asks the landlord politely. Descartes replies, 'I think not' and ping! he vanishes.\",\n",
       "  \"A cowboy walked into a bar, dressed entirely in paper. It wasn't long before he was arrested for rustling.\",\n",
       "  \"A fish staggers into a bar. 'What can I get you?' asks the landlord. The fish croaks 'Water...'\",\n",
       "  \"Two vampires walked into a bar and called for the landlord. 'I'll have a glass of blood', said one. 'I'll have a glass of plasma', said the other. 'Okay', replied the landlord, 'That'll be one blood and one blood lite.'\",\n",
       "  'How many existentialists does it take to change a light bulb?  Two. One to screw it in, and one to observe how the light bulb itself symbolises a single incandescent beacon of subjective reality in a netherworld of endless absurdity, reaching towards the ultimate horror of a maudlin cosmos of bleak, hostile nothingness.',\n",
       "  \"A team of scientists were nominated for the Nobel Prize. They had used dental equipment to discover and measure the smallest particles yet known to man. They became known as 'The Graders of the Flossed Quark...'\",\n",
       "  \"A truck carrying copies of Roget's Thesaurus overturned on the highway. The local newspaper reported that onlookers were 'stunned, overwhelmed, astonished, bewildered and dumbfounded.'\",\n",
       "  \"'My wife is really immature. It's pathetic. Every time I take a bath, she comes in and sinks all my little boats.'\",\n",
       "  \"'How much will it cost to have the tooth extracted?' asked the patient. '50 pounds', replied the dentist. '50 pounds for a few moments' work?!' asked the patient. 'The dentist smiled, and replied, 'Well, if you want better value for money, I can extract it very, very slowly...'\",\n",
       "  \"A doctor thoroughly examined his patient and said, 'Look I really can't find any reason for this mysterious affliction. It's probably due to drinking.' The patient sighed and snapped, 'In that case, I'll come back when you're damn well sober!'\",\n",
       "  'Doctor: Tell me nurse, how is that boy doing; the one who ate all those 5p pieces? Nurse: Still no change doctor.',\n",
       "  \"Doctor: Did you take the patient's temperature nurse? Nurse: No doctor. Is it missing?\",\n",
       "  \"A depressed man turned to his friend in the pub and said, 'I woke up this morning and felt so bad that I tried to kill myself by taking 50 aspirin.' 'Oh man, that's really bad', said his friend, 'What happened?' The first man sighed and said, 'After the first two, I felt better.'\",\n",
       "  \"A famous blues musician died. His tombstone bore the inscription, 'Didn't wake up this morning...'\",\n",
       "  \"A businessman was interviewing a nervous young woman for a position in his company. He wanted to find out something about her personality, so he asked, 'If you could have a conversation with someone living or dead, who would it be?' The girl thought about the question: 'The living one', she replied.\",\n",
       "  \"Manager to interviewee: For this job we need someone who is responsible. Interviewee to Manager: I'm your man then - in my last job, whenever anything went wrong, I was responsible.\",\n",
       "  \"A businessman turned to a colleague and asked, 'So, how many people work at your office?' His friend shrugged and replied, 'Oh about half of them.'\",\n",
       "  \"'How long have I been working at that office? As a matter of fact, I've been working there ever since they threatened to sack me.'\",\n",
       "  \"In a courtroom, a mugger was on trial. The victim, asked if she recognised the defendant, said, 'Yes, that's him. I saw him clear as day. I'd remember his face anywhere.' Unable to contain himself, the defendant burst out with, 'She's lying! I was wearing a mask!'\",\n",
       "  \"As Sid sat down to a big plate of chips and gravy down the local pub, a mate of his came over and said, 'Here Sid, me old pal. I thought you were trying to get into shape? And here you are with a high-fat meal and a pint of stout!' Sid looked up and replied, 'I am getting into shape. The shape I've chosen is a sphere.'\",\n",
       "  'Man in pub: How much do you charge for one single drop of whisky? Landlord: That would be free sir. Man in pub: Excellent. Drip me a glass full.',\n",
       "  'I once went to a Doctor Who restaurant. For starters I had Dalek bread.',\n",
       "  \"A restaurant nearby had a sign in the window which said 'We serve breakfast at any time', so I ordered French toast in the Renaissance.\",\n",
       "  \"Why couldn't the rabbit get a loan?  Because he had burrowed too much already!\",\n",
       "  \"I phoned up the builder's yard yesterday. I said, 'Can I have a skip outside my house?'. The builder said, 'Sure. Do what you want. It's your house.'\",\n",
       "  \"What's the diference between a sock and a camera? A sock takes five toes and a camera takes four toes!\",\n",
       "  \"Woman on phone: I'd like to complain about these incontinence pants I bought from you! Shopkeeper: Certainly madam, where are you ringing from? Woman on phone: From the waist down!\",\n",
       "  'Knock knock.',\n",
       "  \"Two Oranges in a pub, one says to the other 'Your round.'.\",\n",
       "  \"Guy : 'Doc, I've got a cricket ball stuck up my backside.' Doc : 'How's that?' Guy : 'Don't you start...'\",\n",
       "  \"Two cows standing in a field. One turns to the other and says 'Moo!' The other one says 'Damn, I was just about to say that!'.\",\n",
       "  \"A vampire bat arrives back at the roost with his face full of blood. All the bats get excited and ask where he got it from. 'Follow me', he says and off they fly over hills, over rivers and into a dark forest. 'See that tree over there', he says.  'WELL I DIDN'T!!'.\",\n",
       "  \"A man goes into a bar and orders a pint. After a few minutes he hears a voice that says, 'Nice shoes'. He looks around but the whole bar is empty apart from the barman at the other end of the bar. A few minutes later he hears the voice again. This time it says, 'I like your shirt'. He beckons the barman over and tells him what's been happening to which the barman replies, 'Ah, that would be the nuts sir. They're complimentary'!\",\n",
       "  \"A man was siting in a restaurant waiting for his meal when a big king prawn comes flying across the room and hits him on the back of the head. He turns around and the waiter said, 'That's just for starters'.\",\n",
       "  'Doctor! I have a serious problem, I can never remember what i just said. When did you first notice this problem? What problem?',\n",
       "  \"Now, most dentist's chairs go up and down, don't they? The one I was in went back and forwards. I thought, 'This is unusual'. Then the dentist said to me, 'Mitsuku, get out of the filing cabinet'.\",\n",
       "  \"I was reading this book, 'The History of Glue'. I couldn't put it down.\",\n",
       "  \"The other day someone left a piece of plastacine in my bedroom. I didn't know what to make of it.\",\n",
       "  'When I was at school people used to throw gold bars at me. I was the victim of bullion.',\n",
       "  \"I was playing the piano in a bar and this elephant walked in and started crying his eyes out. I said 'Do you recognise the tune?' He said 'No, I recognise the ivory.'\",\n",
       "  \"I went in to a pet shop. I said, 'Can I buy a goldfish?' The guy said, 'Do you want an aquarium?' I said, 'I don't care what star sign it is.'\",\n",
       "  'My mate Sid was a victim of I.D. theft. Now we just call him S.',\n",
       "  \"David Hasselhoff walks into a bar and says to the barman, 'I want you to call me David Hoff'.  The barman replies 'Sure thing Dave... no hassle'\"],\n",
       " 'PodBayDoor': ['Iâ€™m sorry, Iâ€™m afraid I canâ€™t do that!'],\n",
       " 'PodBayDoorResponse': ['It is classified, I could tell you but I would have to kill you!',\n",
       "  \"Jim, I just don't have the power\",\n",
       "  \"It's life Jim but not as we know it!\",\n",
       "  'System says no!'],\n",
       " 'SelfAware': ['That is an interesting question, can you prove that you are?',\n",
       "  'That is an difficult question, can you prove that you are?',\n",
       "  'That depends, can you prove that you are?']}"
      ]
     },
     "execution_count": 20,
     "metadata": {},
     "output_type": "execute_result"
    }
   ],
   "source": [
    "# get text and intent title from json data\n",
    "inputs, targets = [], []\n",
    "classes = []\n",
    "intent_doc = {}\n",
    "\n",
    "for intent in intents['intents']:\n",
    "    if intent['intent'] not in classes:\n",
    "        classes.append(intent['intent'])\n",
    "    if intent['intent'] not in intent_doc:\n",
    "        intent_doc[intent['intent']] = []\n",
    "\n",
    "    for text in intent['text']:\n",
    "        inputs.append(preprocessing(text))\n",
    "        targets.append(intent['intent'])\n",
    "\n",
    "    for response in intent['responses']:\n",
    "        intent_doc[intent['intent']].append(response)\n",
    "\n",
    "intent_doc"
   ]
  },
  {
   "cell_type": "code",
   "execution_count": 22,
   "metadata": {
    "ExecuteTime": {
     "end_time": "2023-05-03T19:32:14.824114500Z",
     "start_time": "2023-05-03T19:32:14.812600800Z"
    },
    "collapsed": false
   },
   "outputs": [],
   "source": [
    "def tokenize_data(input_list):\n",
    "    tokenizer = tf.keras.preprocessing.text.Tokenizer(filters='', oov_token='<unk>')\n",
    "\n",
    "    tokenizer.fit_on_texts(input_list)\n",
    "\n",
    "    input_seq = tokenizer.texts_to_sequences(input_list)\n",
    "\n",
    "    input_seq = tf.keras.preprocessing.sequence.pad_sequences(input_seq, padding='pre')\n",
    "\n",
    "    return tokenizer, input_seq\n",
    "\n",
    "# preprocess input data\n",
    "tokenizer, input_tensor = tokenize_data(inputs)"
   ]
  },
  {
   "cell_type": "code",
   "execution_count": 24,
   "metadata": {
    "ExecuteTime": {
     "end_time": "2023-05-03T19:32:14.837794500Z",
     "start_time": "2023-05-03T19:32:14.824114500Z"
    },
    "collapsed": false
   },
   "outputs": [
    {
     "data": {
      "text/plain": [
       "array([[1, 0, 0, ..., 0, 0, 0],\n",
       "       [1, 0, 0, ..., 0, 0, 0],\n",
       "       [1, 0, 0, ..., 0, 0, 0],\n",
       "       ...,\n",
       "       [0, 0, 0, ..., 0, 0, 1],\n",
       "       [0, 0, 0, ..., 0, 0, 1],\n",
       "       [0, 0, 0, ..., 0, 0, 1]])"
      ]
     },
     "execution_count": 24,
     "metadata": {},
     "output_type": "execute_result"
    }
   ],
   "source": [
    "def create_categorical_target(targets):\n",
    "    word={}\n",
    "    categorical_target=[]\n",
    "    counter=0\n",
    "    for trg in targets:\n",
    "        if trg not in word:\n",
    "            word[trg]=counter\n",
    "            counter+=1\n",
    "        categorical_target.append(word[trg])\n",
    "\n",
    "    categorical_tensor = tf.keras.utils.to_categorical(categorical_target, num_classes=len(word), dtype='int32')\n",
    "    return categorical_tensor, dict((v,k) for k, v in word.items())\n",
    "\n",
    "# preprocess output data\n",
    "target_tensor, trg_index_word = create_categorical_target(targets)"
   ]
  },
  {
   "cell_type": "markdown",
   "metadata": {
    "collapsed": false
   },
   "source": [
    "## Building the model"
   ]
  },
  {
   "cell_type": "code",
   "execution_count": 6,
   "metadata": {
    "ExecuteTime": {
     "end_time": "2023-05-03T19:32:14.856808200Z",
     "start_time": "2023-05-03T19:32:14.838795700Z"
    },
    "collapsed": false
   },
   "outputs": [],
   "source": [
    "# hyperparameters\n",
    "epochs=50\n",
    "vocab_size=len(tokenizer.word_index) + 1\n",
    "embed_dim=512\n",
    "units=128\n",
    "target_length=target_tensor.shape[1]"
   ]
  },
  {
   "cell_type": "code",
   "execution_count": 7,
   "metadata": {
    "ExecuteTime": {
     "end_time": "2023-05-03T19:32:15.451673900Z",
     "start_time": "2023-05-03T19:32:14.858814100Z"
    },
    "collapsed": false
   },
   "outputs": [
    {
     "name": "stderr",
     "output_type": "stream",
     "text": [
      "WARNING:absl:`lr` is deprecated, please use `learning_rate` instead, or use the legacy optimizer, e.g.,tf.keras.optimizers.legacy.Adam.\n"
     ]
    },
    {
     "name": "stdout",
     "output_type": "stream",
     "text": [
      "Model: \"sequential\"\n",
      "_________________________________________________________________\n",
      " Layer (type)                Output Shape              Param #   \n",
      "=================================================================\n",
      " embedding (Embedding)       (None, None, 512)         66048     \n",
      "                                                                 \n",
      " bidirectional (Bidirectiona  (None, 256)              656384    \n",
      " l)                                                              \n",
      "                                                                 \n",
      " dense (Dense)               (None, 128)               32896     \n",
      "                                                                 \n",
      " dropout (Dropout)           (None, 128)               0         \n",
      "                                                                 \n",
      " dense_1 (Dense)             (None, 22)                2838      \n",
      "                                                                 \n",
      "=================================================================\n",
      "Total params: 758,166\n",
      "Trainable params: 758,166\n",
      "Non-trainable params: 0\n",
      "_________________________________________________________________\n"
     ]
    }
   ],
   "source": [
    "# build RNN Model with tensorflow\n",
    "model = tf.keras.models.Sequential([\n",
    "    tf.keras.layers.Embedding(vocab_size, embed_dim),\n",
    "    tf.keras.layers.Bidirectional(tf.keras.layers.LSTM(units, dropout=0.2)),\n",
    "    tf.keras.layers.Dense(units, activation='relu'),\n",
    "    tf.keras.layers.Dropout(0.5),\n",
    "    tf.keras.layers.Dense(target_length, activation='softmax')\n",
    "])\n",
    "\n",
    "optimizer = tf.keras.optimizers.Adam(lr=1e-2)\n",
    "model.compile(optimizer=optimizer, loss='categorical_crossentropy', metrics=['accuracy'])\n",
    "model.summary()"
   ]
  },
  {
   "cell_type": "code",
   "execution_count": 8,
   "metadata": {
    "ExecuteTime": {
     "end_time": "2023-05-03T19:32:24.816980700Z",
     "start_time": "2023-05-03T19:32:15.454673600Z"
    },
    "collapsed": false
   },
   "outputs": [
    {
     "name": "stdout",
     "output_type": "stream",
     "text": [
      "Epoch 1/50\n",
      "5/5 [==============================] - 3s 29ms/step - loss: 3.0847 - accuracy: 0.0280\n",
      "Epoch 2/50\n",
      "5/5 [==============================] - 0s 29ms/step - loss: 3.0515 - accuracy: 0.0909\n",
      "Epoch 3/50\n",
      "5/5 [==============================] - 0s 29ms/step - loss: 3.0077 - accuracy: 0.1608\n",
      "Epoch 4/50\n",
      "5/5 [==============================] - 0s 29ms/step - loss: 2.9633 - accuracy: 0.2098\n",
      "Epoch 5/50\n",
      "5/5 [==============================] - 0s 28ms/step - loss: 2.8910 - accuracy: 0.2657\n",
      "Epoch 6/50\n",
      "5/5 [==============================] - 0s 29ms/step - loss: 2.7723 - accuracy: 0.3217\n",
      "Epoch 7/50\n",
      "5/5 [==============================] - 0s 29ms/step - loss: 2.6259 - accuracy: 0.3846\n",
      "Epoch 8/50\n",
      "5/5 [==============================] - 0s 31ms/step - loss: 2.3279 - accuracy: 0.3846\n",
      "Epoch 9/50\n",
      "5/5 [==============================] - 0s 30ms/step - loss: 2.0607 - accuracy: 0.4336\n",
      "Epoch 10/50\n",
      "5/5 [==============================] - 0s 31ms/step - loss: 1.8259 - accuracy: 0.4406\n",
      "Epoch 11/50\n",
      "5/5 [==============================] - 0s 35ms/step - loss: 1.6057 - accuracy: 0.5455\n",
      "Epoch 12/50\n",
      "5/5 [==============================] - 0s 38ms/step - loss: 1.5051 - accuracy: 0.4755\n",
      "Epoch 13/50\n",
      "5/5 [==============================] - 0s 37ms/step - loss: 1.1368 - accuracy: 0.6713\n",
      "Epoch 14/50\n",
      "5/5 [==============================] - 0s 37ms/step - loss: 0.9319 - accuracy: 0.7273\n",
      "Epoch 15/50\n",
      "5/5 [==============================] - 0s 38ms/step - loss: 0.9744 - accuracy: 0.7063\n",
      "Epoch 16/50\n",
      "5/5 [==============================] - 0s 38ms/step - loss: 0.6735 - accuracy: 0.8112\n",
      "Epoch 17/50\n",
      "5/5 [==============================] - 0s 39ms/step - loss: 0.5788 - accuracy: 0.8601\n",
      "Epoch 18/50\n",
      "5/5 [==============================] - 0s 40ms/step - loss: 0.5626 - accuracy: 0.8392\n",
      "Epoch 19/50\n",
      "5/5 [==============================] - 0s 39ms/step - loss: 0.4921 - accuracy: 0.8462\n",
      "Epoch 20/50\n",
      "5/5 [==============================] - 0s 39ms/step - loss: 0.4603 - accuracy: 0.8392\n",
      "Epoch 21/50\n",
      "5/5 [==============================] - 0s 39ms/step - loss: 0.3826 - accuracy: 0.9091\n",
      "Epoch 22/50\n",
      "5/5 [==============================] - 0s 40ms/step - loss: 0.2692 - accuracy: 0.9441\n",
      "Epoch 23/50\n",
      "5/5 [==============================] - 0s 39ms/step - loss: 0.2314 - accuracy: 0.9441\n",
      "Epoch 24/50\n",
      "5/5 [==============================] - 0s 41ms/step - loss: 0.1759 - accuracy: 0.9650\n",
      "Epoch 25/50\n",
      "5/5 [==============================] - 0s 40ms/step - loss: 0.1343 - accuracy: 0.9720\n",
      "Epoch 26/50\n",
      "5/5 [==============================] - 0s 40ms/step - loss: 0.1577 - accuracy: 0.9580\n",
      "Epoch 27/50\n",
      "5/5 [==============================] - 0s 40ms/step - loss: 0.1006 - accuracy: 0.9930\n",
      "Epoch 28/50\n",
      "5/5 [==============================] - 0s 39ms/step - loss: 0.1033 - accuracy: 0.9650\n",
      "Epoch 29/50\n",
      "5/5 [==============================] - 0s 40ms/step - loss: 0.0933 - accuracy: 0.9930\n",
      "Epoch 30/50\n",
      "5/5 [==============================] - 0s 40ms/step - loss: 0.0577 - accuracy: 1.0000\n",
      "Epoch 31/50\n",
      "5/5 [==============================] - 0s 39ms/step - loss: 0.0801 - accuracy: 0.9930\n",
      "Epoch 32/50\n",
      "5/5 [==============================] - 0s 40ms/step - loss: 0.0516 - accuracy: 0.9930\n",
      "Epoch 33/50\n",
      "5/5 [==============================] - 0s 40ms/step - loss: 0.0691 - accuracy: 0.9860\n",
      "Epoch 34/50\n",
      "5/5 [==============================] - 0s 40ms/step - loss: 0.0477 - accuracy: 0.9930\n",
      "Epoch 35/50\n",
      "5/5 [==============================] - 0s 40ms/step - loss: 0.0431 - accuracy: 1.0000\n",
      "Epoch 36/50\n",
      "5/5 [==============================] - 0s 40ms/step - loss: 0.0206 - accuracy: 1.0000\n",
      "Epoch 37/50\n",
      "5/5 [==============================] - 0s 40ms/step - loss: 0.0422 - accuracy: 0.9930\n",
      "Epoch 38/50\n",
      "5/5 [==============================] - 0s 41ms/step - loss: 0.0264 - accuracy: 1.0000\n",
      "Epoch 39/50\n",
      "5/5 [==============================] - 0s 41ms/step - loss: 0.0329 - accuracy: 0.9930\n",
      "Epoch 40/50\n",
      "5/5 [==============================] - 0s 41ms/step - loss: 0.0387 - accuracy: 0.9930\n"
     ]
    },
    {
     "data": {
      "text/plain": [
       "<keras.callbacks.History at 0x24512bcf010>"
      ]
     },
     "execution_count": 8,
     "metadata": {},
     "output_type": "execute_result"
    }
   ],
   "source": [
    "early_stop = tf.keras.callbacks.EarlyStopping(monitor='loss', patience=4)\n",
    "\n",
    "# train the model\n",
    "model.fit(input_tensor, target_tensor, epochs=epochs, callbacks=[early_stop])"
   ]
  },
  {
   "cell_type": "code",
   "execution_count": 9,
   "metadata": {
    "ExecuteTime": {
     "end_time": "2023-05-03T19:32:24.860852500Z",
     "start_time": "2023-05-03T19:32:24.818982800Z"
    },
    "collapsed": false
   },
   "outputs": [],
   "source": [
    "def predict_intent(sentence):\n",
    "    sent_seq = []\n",
    "    doc = nlp(repr(sentence))\n",
    "\n",
    "    # split the input sentences into words\n",
    "    for token in doc:\n",
    "        if token.text in tokenizer.word_index:\n",
    "            sent_seq.append(tokenizer.word_index[token.text])\n",
    "\n",
    "        # handle the unknown words error\n",
    "        else:\n",
    "            sent_seq.append(tokenizer.word_index['<unk>'])\n",
    "\n",
    "    sent_seq = tf.expand_dims(sent_seq, 0)\n",
    "    # predict the category of input sentences\n",
    "    pred = model(sent_seq)\n",
    "\n",
    "    class_pred = np.argmax(pred.numpy(), axis=1)[0]\n",
    "    print(class_pred)\n",
    "    return class_pred\n",
    "\n",
    "def generate_response(intent):\n",
    "    # choice a random response for predicted sentence\n",
    "    return random.choice(intent_doc[trg_index_word[intent]]), trg_index_word[intent]"
   ]
  },
  {
   "cell_type": "markdown",
   "metadata": {
    "collapsed": false
   },
   "source": [
    "## Chatbot"
   ]
  },
  {
   "cell_type": "code",
   "execution_count": 14,
   "metadata": {
    "ExecuteTime": {
     "end_time": "2023-05-03T19:35:18.180767100Z",
     "start_time": "2023-05-03T19:35:18.115650600Z"
    },
    "collapsed": false
   },
   "outputs": [
    {
     "name": "stdout",
     "output_type": "stream",
     "text": [
      "Running on local URL:  http://127.0.0.1:7864\n",
      "\n",
      "To create a public link, set `share=True` in `launch()`.\n"
     ]
    },
    {
     "data": {
      "text/html": [
       "<div><iframe src=\"http://127.0.0.1:7864/\" width=\"100%\" height=\"500\" allow=\"autoplay; camera; microphone; clipboard-read; clipboard-write;\" frameborder=\"0\" allowfullscreen></iframe></div>"
      ],
      "text/plain": [
       "<IPython.core.display.HTML object>"
      ]
     },
     "metadata": {},
     "output_type": "display_data"
    },
    {
     "data": {
      "text/plain": []
     },
     "execution_count": 14,
     "metadata": {},
     "output_type": "execute_result"
    },
    {
     "name": "stdout",
     "output_type": "stream",
     "text": [
      "How are you?\n",
      "intent: 2\n",
      "Hello!\n",
      "intent: 18\n",
      "Hello\n",
      "intent: 18\n",
      "Hi\n",
      "intent: 18\n",
      "I need help\n",
      "intent: 18\n"
     ]
    }
   ],
   "source": [
    "import gradio as gr\n",
    "import time\n",
    "import random\n",
    "\n",
    "with gr.Blocks() as demo:\n",
    "    chatbot = gr.Chatbot()\n",
    "    msg = gr.Textbox()\n",
    "    clear = gr.Button(\"Clear\")\n",
    "\n",
    "    def user(user_message, history):\n",
    "        return \"\", history + [[user_message, None]]\n",
    "\n",
    "    def bot(history):\n",
    "        user_message = history[-1][0]\n",
    "\n",
    "        print(user_message)\n",
    "        intent = predict_intent(user_message)\n",
    "        print('intent:', intent)\n",
    "        # Random choice randomly chooses one of the options that matches the intent\n",
    "\n",
    "        # generating a response with GPT if the main intent was 'privacy_policy' or 'legal_statement'\n",
    "        # use_gpt = intent[0] == 'privacy_policy' or intent[0] == 'legal_statement'\n",
    "        # response = gpt_model.answer_question(question=user_message) if use_gpt else 'No idea, bitch'\n",
    "        response = generate_response(intent)\n",
    "\n",
    "        # response = random.choice(response_map[intent])\n",
    "        history[-1][1] = \"{} (intent: {})\".format(response[0], response[1])\n",
    "        # The sleep is to simulate a more natural conversation\n",
    "        time.sleep(1)\n",
    "        return history\n",
    "\n",
    "    msg.submit(user, [msg, chatbot], [msg, chatbot], queue=False).then(\n",
    "        bot, chatbot, chatbot\n",
    "    )\n",
    "    clear.click(lambda: None, None, chatbot, queue=False)\n",
    "\n",
    "demo.launch()\n",
    "\n"
   ]
  },
  {
   "cell_type": "code",
   "execution_count": null,
   "metadata": {
    "ExecuteTime": {
     "end_time": "2023-05-03T19:32:24.931778Z",
     "start_time": "2023-05-03T19:32:24.894029200Z"
    },
    "collapsed": false
   },
   "outputs": [],
   "source": []
  }
 ],
 "metadata": {
  "kernelspec": {
   "display_name": "Python 3",
   "language": "python",
   "name": "python3"
  },
  "language_info": {
   "codemirror_mode": {
    "name": "ipython",
    "version": 3
   },
   "file_extension": ".py",
   "mimetype": "text/x-python",
   "name": "python",
   "nbconvert_exporter": "python",
   "pygments_lexer": "ipython3",
   "version": "3.10.9"
  }
 },
 "nbformat": 4,
 "nbformat_minor": 0
}
