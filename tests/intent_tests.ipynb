{
 "cells": [
  {
   "attachments": {},
   "cell_type": "markdown",
   "metadata": {},
   "source": [
    "## Imports"
   ]
  },
  {
   "cell_type": "code",
   "execution_count": 14,
   "metadata": {},
   "outputs": [
    {
     "name": "stdout",
     "output_type": "stream",
     "text": [
      "The autoreload extension is already loaded. To reload it, use:\n",
      "  %reload_ext autoreload\n"
     ]
    }
   ],
   "source": [
    "# General imports\n",
    "import time\n",
    "import json\n",
    "import random\n",
    "import os\n",
    "\n",
    "# Intent recognition imports\n",
    "import torch\n",
    "from transformers import BertTokenizer, BertForSequenceClassification\n",
    "\n",
    "# ChatGPT imports\n",
    "%load_ext autoreload\n",
    "%autoreload 2\n",
    "\n",
    "import sys\n",
    "sys.path.append(\"..\")\n",
    "from gpt import GPT\n",
    "from intent_model import IntentModel"
   ]
  },
  {
   "attachments": {},
   "cell_type": "markdown",
   "metadata": {},
   "source": [
    "## Load data"
   ]
  },
  {
   "cell_type": "code",
   "execution_count": 15,
   "metadata": {},
   "outputs": [],
   "source": [
    "# Load the data from JSON file\n",
    "with open(\"../intent_recognition.json\", \"r\") as f:\n",
    "    data = json.load(f)\n",
    "\n",
    "train_data = []\n",
    "for datum in data:\n",
    "    texts = datum[\"train_questions\"]\n",
    "    label = datum[\"intent\"]\n",
    "    for text in texts:\n",
    "        train_data.append((text, label))\n",
    "\n",
    "# Define the mapping between top-level labels and integers\n",
    "label_map = {label: i for i, label in enumerate(set([data[1] for data in train_data]))}\n",
    "\n",
    "# Convert the training data labels to integers using the label_map\n",
    "labels = torch.tensor([label_map[data[1]] for data in train_data])\n",
    "    "
   ]
  },
  {
   "attachments": {},
   "cell_type": "markdown",
   "metadata": {},
   "source": [
    "## Load models"
   ]
  },
  {
   "cell_type": "code",
   "execution_count": 16,
   "metadata": {},
   "outputs": [],
   "source": [
    "intent_model = IntentModel(train_data, label_map, labels)"
   ]
  },
  {
   "attachments": {},
   "cell_type": "markdown",
   "metadata": {},
   "source": [
    "## Get evaluation data"
   ]
  },
  {
   "cell_type": "code",
   "execution_count": 17,
   "metadata": {},
   "outputs": [],
   "source": [
    "evaluation_file = \"../evaluation_results.json\"\n",
    "\n",
    "if os.path.isfile(evaluation_file):\n",
    "    with open(evaluation_file, \"r\") as file:\n",
    "        accuracies = json.load(file)\n",
    "else:\n",
    "    accuracies = intent_model.evaluate_model(data)"
   ]
  },
  {
   "attachments": {},
   "cell_type": "markdown",
   "metadata": {},
   "source": [
    "## Check data completeness"
   ]
  },
  {
   "cell_type": "code",
   "execution_count": 18,
   "metadata": {},
   "outputs": [
    {
     "name": "stdout",
     "output_type": "stream",
     "text": [
      "Category: platform_settings\n",
      "  Intent: location_password_change\n",
      "  Intent: reset_password_change\n",
      "  Intent: update_password_change\n",
      "  Intent: problem_update_password_change\n",
      "\n",
      "\n",
      "Category: My_visibility_settings\n",
      "  Intent: visibility_publish_profile_status\n",
      "  Intent: visibility_publish_profile_how_to\n",
      "\n",
      "\n",
      "Category: system notifications\n",
      "  Intent: change_system_critical_notification_setting\n",
      "  Intent: change_iYYU_news_notification_setting\n",
      "  Intent: change_update_notification_setting\n",
      "\n",
      "\n",
      "Category: connect\n",
      "  Intent: change_note_follower_notification_setting\n",
      "  Intent: change_connection_response_notification_setting\n",
      "  Intent: change_connection_request_notification_setting\n",
      "\n",
      "\n",
      "Category: interact\n",
      "  Intent: change_followed_user_note_notification_setting\n",
      "  Intent: change_message_notification_preference\n",
      "\n",
      "\n",
      "Category: generic\n",
      "  Intent: yes_response\n",
      "  Intent: no_response\n",
      "\n",
      "\n"
     ]
    }
   ],
   "source": [
    "from collections import defaultdict\n",
    "\n",
    "# Your data is already a list of dictionaries\n",
    "categories = defaultdict(list)\n",
    "\n",
    "for item in data:\n",
    "    intent_text = item['intent']\n",
    "    if not item['use_gpt'] and not item['responses']:\n",
    "\n",
    "        intent_text += ' (Needs answers)'\n",
    "    categories[item['category']].append(intent_text)\n",
    "\n",
    "for category, intents in categories.items():\n",
    "    if(category == 'privacy_policy' or category ==  'legal_statement'):\n",
    "        continue\n",
    "\n",
    "    print(f'Category: {category}')\n",
    "    for intent in intents:\n",
    "        print(f'  Intent: {intent}')\n",
    "    print('\\n')"
   ]
  },
  {
   "attachments": {},
   "cell_type": "markdown",
   "metadata": {},
   "source": [
    "## Check data correctness"
   ]
  },
  {
   "cell_type": "code",
   "execution_count": 19,
   "metadata": {},
   "outputs": [
    {
     "name": "stdout",
     "output_type": "stream",
     "text": [
      "Intent: third_parties\n",
      "Train question results: 5 out of 6 correct\n",
      "Total correctness for all questions: 83%\n",
      "\n",
      "\n",
      "Intent: data_collection\n",
      "Train question results: 4 out of 6 correct\n",
      "Total correctness for all questions: 67%\n",
      "\n",
      "\n",
      "Intent: personal_information_rights\n",
      "Train question results: 9 out of 10 correct\n",
      "Total correctness for all questions: 90%\n",
      "\n",
      "\n",
      "Intent: question_answering\n",
      "Train question results: 7 out of 10 correct\n",
      "Total correctness for all questions: 70%\n",
      "\n",
      "\n",
      "Intent: location_password_change\n",
      "Train question results: 9 out of 10 correct\n",
      "Total correctness for all questions: 90%\n",
      "\n",
      "\n",
      "Intent: update_password_change\n",
      "Train question results: 8 out of 13 correct\n",
      "Total correctness for all questions: 62%\n",
      "\n",
      "\n",
      "Intent: change_iYYU_news_notification_setting\n",
      "Train question results: 10 out of 10 correct\n",
      "Test question results: 4 out of 5 correct\n",
      "Advanced test question results: 5 out of 6 correct\n",
      "Total correctness for all questions: 90%\n",
      "\n",
      "\n",
      "Intent: change_connection_response_notification_setting\n",
      "Train question results: 2 out of 10 correct\n",
      "Test question results: 0 out of 5 correct\n",
      "Advanced test question results: 0 out of 6 correct\n",
      "Total correctness for all questions: 10%\n",
      "\n",
      "\n",
      "Intent: yes_response\n",
      "Train question results: 10 out of 10 correct\n",
      "Test question results: 3 out of 5 correct\n",
      "Advanced test question results: 2 out of 6 correct\n",
      "Total correctness for all questions: 71%\n",
      "\n",
      "\n",
      "Intent: no_response\n",
      "Train question results: 10 out of 10 correct\n",
      "Test question results: 0 out of 5 correct\n",
      "Advanced test question results: 0 out of 6 correct\n",
      "Total correctness for all questions: 48%\n",
      "\n",
      "\n"
     ]
    }
   ],
   "source": [
    "for evaluation in accuracies:\n",
    "    if (evaluation[\"total_correctness\"] == 100):\n",
    "        continue\n",
    "\n",
    "    print(f\"Intent: {evaluation['correct_intent']}\")\n",
    "    print(f\"Train question results: {evaluation['train_questions_results']}\")\n",
    "\n",
    "    test_results = evaluation.get('test_questions_results')\n",
    "    if test_results:\n",
    "        print(f\"Test question results: {test_results}\")\n",
    "        \n",
    "    advanced_results = evaluation.get('test_questions_advanced_results')\n",
    "    if advanced_results:\n",
    "        print(f\"Advanced test question results: {advanced_results}\")\n",
    "    \n",
    "    print(f\"Total correctness for all questions: {evaluation['total_correctness']}%\")\n",
    "    print(\"\\n\")\n",
    "\n"
   ]
  }
 ],
 "metadata": {
  "kernelspec": {
   "display_name": "Python 3",
   "language": "python",
   "name": "python3"
  },
  "language_info": {
   "codemirror_mode": {
    "name": "ipython",
    "version": 3
   },
   "file_extension": ".py",
   "mimetype": "text/x-python",
   "name": "python",
   "nbconvert_exporter": "python",
   "pygments_lexer": "ipython3",
   "version": "3.8.0"
  },
  "orig_nbformat": 4
 },
 "nbformat": 4,
 "nbformat_minor": 2
}
