{
 "cells": [
  {
   "attachments": {},
   "cell_type": "markdown",
   "metadata": {},
   "source": [
    "## Imports"
   ]
  },
  {
   "cell_type": "code",
   "execution_count": null,
   "metadata": {},
   "outputs": [],
   "source": [
    "# General imports\n",
    "import time\n",
    "import json\n",
    "import random\n",
    "import os\n",
    "\n",
    "# Intent recognition imports\n",
    "import torch\n",
    "from transformers import BertTokenizer, BertForSequenceClassification\n",
    "\n",
    "# ChatGPT imports\n",
    "%load_ext autoreload\n",
    "%autoreload 2\n",
    "\n",
    "import sys\n",
    "sys.path.append(\"..\")\n",
    "from gpt import GPT\n",
    "from intent_model import IntentModel"
   ]
  },
  {
   "attachments": {},
   "cell_type": "markdown",
   "metadata": {},
   "source": [
    "## Load data"
   ]
  },
  {
   "cell_type": "code",
   "execution_count": null,
   "metadata": {},
   "outputs": [],
   "source": [
    "# Load the data from JSON file\n",
    "with open(\"../intent_recognition_v2.json\", \"r\") as f:\n",
    "    data = json.load(f)\n",
    "\n",
    "validation_data = []\n",
    "train_data = []\n",
    "for datum in data:\n",
    "    texts = datum[\"train_questions\"]\n",
    "    label = datum[\"intent\"]\n",
    "    validation = datum[\"test_questions\"]\n",
    "    for text in texts:\n",
    "        train_data.append((text, label))\n",
    "    for text in validation:\n",
    "        validation_data.append((text, label))\n",
    "\n",
    "# Define the mapping between top-level labels and integers\n",
    "train_label_map = {label: i for i, label in enumerate(set([data[1] for data in train_data]))}\n",
    "validation_label_map = {label: i for i, label in enumerate(set([data[1] for data in validation_data]))} \n",
    "\n",
    "# Convert the training data labels to integers using the label_map\n",
    "train_labels = torch.tensor([train_label_map[data[1]] for data in train_data])\n",
    "validation_labels = torch.tensor([validation_label_map[data[1]] for data in validation_data])\n",
    "    "
   ]
  },
  {
   "attachments": {},
   "cell_type": "markdown",
   "metadata": {},
   "source": [
    "## Load models"
   ]
  },
  {
   "cell_type": "code",
   "execution_count": null,
   "metadata": {},
   "outputs": [],
   "source": [
    "intent_model = IntentModel(train_data, validation_data, train_label_map, train_labels, validation_label_map, validation_labels)"
   ]
  },
  {
   "attachments": {},
   "cell_type": "markdown",
   "metadata": {},
   "source": [
    "## Check data completeness"
   ]
  },
  {
   "cell_type": "code",
   "execution_count": null,
   "metadata": {},
   "outputs": [],
   "source": [
    "from collections import defaultdict\n",
    "\n",
    "# Your data is already a list of dictionaries\n",
    "categories = defaultdict(list)\n",
    "\n",
    "for item in data:\n",
    "    intent_text = item['intent']\n",
    "    if not item['use_gpt'] and not item['responses']:\n",
    "\n",
    "        intent_text += ' (Needs answers)'\n",
    "    categories[item['category']].append(intent_text)\n",
    "\n",
    "for category, intents in categories.items():\n",
    "    # if(category == 'privacy_policy' or category ==  'legal_statement'):\n",
    "    #     continue\n",
    "\n",
    "    print(f'Category: {category}')\n",
    "    for intent in intents:\n",
    "        print(f'  Intent: {intent}')\n",
    "    print('\\n')"
   ]
  },
  {
   "attachments": {},
   "cell_type": "markdown",
   "metadata": {},
   "source": [
    "## Get evaluation data"
   ]
  },
  {
   "cell_type": "code",
   "execution_count": null,
   "metadata": {},
   "outputs": [],
   "source": [
    "evaluation_file = \"./evaluation_results.json\"\n",
    "\n",
    "if os.path.isfile(evaluation_file):\n",
    "    with open(evaluation_file, \"r\") as file:\n",
    "        accuracies = json.load(file)\n",
    "else:\n",
    "    accuracies = intent_model.evaluate_model(data)"
   ]
  },
  {
   "attachments": {},
   "cell_type": "markdown",
   "metadata": {},
   "source": [
    "## Check data correctness"
   ]
  },
  {
   "cell_type": "code",
   "execution_count": null,
   "metadata": {},
   "outputs": [],
   "source": [
    "print(\"total correctness\", accuracies[\"total_correctness\"])\n",
    "\n",
    "# \"total_correct_counts\": 608,\n",
    "# \"total_counts\": 663,\n",
    "\n",
    "for evaluation in accuracies[\"results\"]:\n",
    "    if (evaluation[\"total_correctness\"] == 100):\n",
    "        continue\n",
    "\n",
    "    print(f\"Intent: {evaluation['correct_intent']}\")\n",
    "    print(f\"Train question results: {evaluation['train_questions_results']}\")\n",
    "\n",
    "    test_results = evaluation.get('test_questions_results')\n",
    "    if test_results:\n",
    "        print(f\"Test question results: {test_results}\")\n",
    "        \n",
    "    advanced_results = evaluation.get('test_questions_advanced_results')\n",
    "    if advanced_results:\n",
    "        print(f\"Advanced test question results: {advanced_results}\")\n",
    "    \n",
    "    print(f\"Total correctness for all questions: {evaluation['total_correctness']}%\")\n",
    "    print(\"\\n\")\n"
   ]
  },
  {
   "cell_type": "code",
   "execution_count": null,
   "metadata": {},
   "outputs": [],
   "source": []
  },
  {
   "cell_type": "code",
   "execution_count": null,
   "metadata": {},
   "outputs": [],
   "source": []
  },
  {
   "cell_type": "code",
   "execution_count": null,
   "metadata": {},
   "outputs": [],
   "source": []
  }
 ],
 "metadata": {
  "kernelspec": {
   "display_name": "Python 3",
   "language": "python",
   "name": "python3"
  },
  "language_info": {
   "codemirror_mode": {
    "name": "ipython",
    "version": 3
   },
   "file_extension": ".py",
   "mimetype": "text/x-python",
   "name": "python",
   "nbconvert_exporter": "python",
   "pygments_lexer": "ipython3",
   "version": "3.10.9"
  }
 },
 "nbformat": 4,
 "nbformat_minor": 2
}
