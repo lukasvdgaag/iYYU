{
 "cells": [
  {
   "attachments": {},
   "cell_type": "markdown",
   "metadata": {},
   "source": [
    "# Machine learning approach for chat bot\n",
    "\n",
    "### Use case\n",
    "\n",
    "The goal is to train a machine learning algorithm to be able to advice a user on privacy settings in a specific platform."
   ]
  },
  {
   "cell_type": "code",
   "execution_count": 29,
   "metadata": {},
   "outputs": [
    {
     "name": "stdout",
     "output_type": "stream",
     "text": [
      "{'visibility': {'public_profile': {'description': 'Allows others to view your profile.', 'recommended_action': 'Enable to let others find you.', 'actions': ['Enable to publish your profile.', 'Disable to make your profile not viewable.']}, 'connect_with_me': {'description': 'Allows others to send you connection requests.', 'recommended_action': 'Enable to let others connect with you.', 'actions': ['Enable to allow connection requests.', 'Disable to block connection requests.']}, 'visible_for_search': {'description': 'Controls whether your profile shows up in search results.', 'recommended_action': 'Enable to let others find you.', 'actions': ['Enable to show up in search results.', 'Disable to not show up in search results.']}, 'who_can_find_you': {'description': 'Controls who can find your profile.', 'recommended_action': \"Set to 'Logged on only' to only allow platform users to find you.\", 'actions': [\"Set to 'Everyone' to let everyone find you.\", \"Set to 'Logged on only' to only allow platform users to find you.\"]}}, 'system_notifications': {'system_critical': {'description': 'Receive important notifications such as reset password and authentication emails.', 'recommended_action': 'Enable to receive critical notifications.', 'actions': ['Enable to receive notifications.', 'Disable to not receive such notifications.']}, 'news': {'description': 'Receive updates when new features are released on iyyu.com.', 'recommended_action': 'Enable to receive news notifications.', 'actions': ['Enable to receive news notifications.', 'Disable to not receive such notifications.']}, 'updates': {'description': 'Receive notifications when there is news to share.', 'recommended_action': 'Enable to receive important update notifications.', 'actions': ['Enable to receive update notifications.', 'Disable to not receive such notifications.']}}, 'connect': {'receive_notification_for_connecting': {'description': 'Receive an email notification when someone wants to connect with you.', 'recommended_action': 'Enable to receive important email.', 'actions': ['Enable to receive email notifications.', 'Disable to not receive email notifications.']}, 'receive_notification_for_request_update': {'description': 'Receive an email notification when someone accepts or declines your request to connect with them.', 'recommended_action': 'Enable to receive important email.', 'actions': ['Enable to receive email notifications.', 'Disable to not receive email notifications.']}, 'receive_notification_when_someone_start_following': {'description': 'Receive an email notification when someone starts following your notes.', 'recommended_action': 'Enable to receive important email.', 'actions': ['Enable to receive email notifications.', 'Disable to not receive email notifications.']}}, 'interact': {'receive_notification_for_messages': {'description': 'Receive a notification when someone sends you a message.', 'recommended_action': 'Enable to stay up-to-date with your messages.', 'actions': ['Enable to receive notifications.', 'Disable to not receive notifications.']}, 'receive_notification_for_publishes_notes': {'description': 'Receive a notification when someone you follow publishes a note.', 'recommended_action': \"Enable to stay updated on your network's activity.\", 'actions': ['Enable to receive notifications.', 'Disable to not receive notifications.']}}}\n"
     ]
    }
   ],
   "source": [
    "import json\n",
    "\n",
    "with open('training-data.json') as f:\n",
    "    settings = json.load(f)\n",
    "\n",
    "print(settings)"
   ]
  },
  {
   "cell_type": "code",
   "execution_count": 1,
   "metadata": {},
   "outputs": [],
   "source": [
    "!pip uninstall spacy\n",
    "# !pip install spacy\n"
   ]
  },
  {
   "cell_type": "code",
   "execution_count": 30,
   "metadata": {},
   "outputs": [
    {
     "ename": "ValueError",
     "evalue": "[E955] Can't find table(s) lexeme_norm for language 'en' in spacy-lookups-data. Make sure you have the package installed or provide your own lookup tables if no default lookups are available for your language.",
     "output_type": "error",
     "traceback": [
      "\u001b[1;31m---------------------------------------------------------------------------\u001b[0m",
      "\u001b[1;31mValueError\u001b[0m                                Traceback (most recent call last)",
      "Cell \u001b[1;32mIn[30], line 21\u001b[0m\n\u001b[0;32m     18\u001b[0m textcat\u001b[39m.\u001b[39madd_label(\u001b[39m\"\u001b[39m\u001b[39mnegative\u001b[39m\u001b[39m\"\u001b[39m)\n\u001b[0;32m     20\u001b[0m \u001b[39m# Train the model\u001b[39;00m\n\u001b[1;32m---> 21\u001b[0m nlp\u001b[39m.\u001b[39;49mbegin_training()\n\u001b[0;32m     22\u001b[0m batch_size \u001b[39m=\u001b[39m \u001b[39m8\u001b[39m\n\u001b[0;32m     23\u001b[0m \u001b[39mfor\u001b[39;00m i \u001b[39min\u001b[39;00m \u001b[39mrange\u001b[39m(\u001b[39m10\u001b[39m):\n",
      "File \u001b[1;32m~\\AppData\\Roaming\\Python\\Python310\\site-packages\\spacy\\language.py:1249\u001b[0m, in \u001b[0;36mLanguage.begin_training\u001b[1;34m(self, get_examples, sgd)\u001b[0m\n\u001b[0;32m   1242\u001b[0m \u001b[39mdef\u001b[39;00m \u001b[39mbegin_training\u001b[39m(\n\u001b[0;32m   1243\u001b[0m     \u001b[39mself\u001b[39m,\n\u001b[0;32m   1244\u001b[0m     get_examples: Optional[Callable[[], Iterable[Example]]] \u001b[39m=\u001b[39m \u001b[39mNone\u001b[39;00m,\n\u001b[0;32m   1245\u001b[0m     \u001b[39m*\u001b[39m,\n\u001b[0;32m   1246\u001b[0m     sgd: Optional[Optimizer] \u001b[39m=\u001b[39m \u001b[39mNone\u001b[39;00m,\n\u001b[0;32m   1247\u001b[0m ) \u001b[39m-\u001b[39m\u001b[39m>\u001b[39m Optimizer:\n\u001b[0;32m   1248\u001b[0m     warnings\u001b[39m.\u001b[39mwarn(Warnings\u001b[39m.\u001b[39mW089, \u001b[39mDeprecationWarning\u001b[39;00m)\n\u001b[1;32m-> 1249\u001b[0m     \u001b[39mreturn\u001b[39;00m \u001b[39mself\u001b[39;49m\u001b[39m.\u001b[39;49minitialize(get_examples, sgd\u001b[39m=\u001b[39;49msgd)\n",
      "File \u001b[1;32m~\\AppData\\Roaming\\Python\\Python310\\site-packages\\spacy\\language.py:1281\u001b[0m, in \u001b[0;36mLanguage.initialize\u001b[1;34m(self, get_examples, sgd)\u001b[0m\n\u001b[0;32m   1279\u001b[0m config \u001b[39m=\u001b[39m \u001b[39mself\u001b[39m\u001b[39m.\u001b[39mconfig\u001b[39m.\u001b[39minterpolate()\n\u001b[0;32m   1280\u001b[0m \u001b[39m# These are the settings provided in the [initialize] block in the config\u001b[39;00m\n\u001b[1;32m-> 1281\u001b[0m I \u001b[39m=\u001b[39m registry\u001b[39m.\u001b[39;49mresolve(config[\u001b[39m\"\u001b[39;49m\u001b[39minitialize\u001b[39;49m\u001b[39m\"\u001b[39;49m], schema\u001b[39m=\u001b[39;49mConfigSchemaInit)\n\u001b[0;32m   1282\u001b[0m before_init \u001b[39m=\u001b[39m I[\u001b[39m\"\u001b[39m\u001b[39mbefore_init\u001b[39m\u001b[39m\"\u001b[39m]\n\u001b[0;32m   1283\u001b[0m \u001b[39mif\u001b[39;00m before_init \u001b[39mis\u001b[39;00m \u001b[39mnot\u001b[39;00m \u001b[39mNone\u001b[39;00m:\n",
      "File \u001b[1;32m~\\AppData\\Roaming\\Python\\Python310\\site-packages\\confection\\__init__.py:728\u001b[0m, in \u001b[0;36mregistry.resolve\u001b[1;34m(cls, config, schema, overrides, validate)\u001b[0m\n\u001b[0;32m    719\u001b[0m \u001b[39m@classmethod\u001b[39m\n\u001b[0;32m    720\u001b[0m \u001b[39mdef\u001b[39;00m \u001b[39mresolve\u001b[39m(\n\u001b[0;32m    721\u001b[0m     \u001b[39mcls\u001b[39m,\n\u001b[1;32m   (...)\u001b[0m\n\u001b[0;32m    726\u001b[0m     validate: \u001b[39mbool\u001b[39m \u001b[39m=\u001b[39m \u001b[39mTrue\u001b[39;00m,\n\u001b[0;32m    727\u001b[0m ) \u001b[39m-\u001b[39m\u001b[39m>\u001b[39m Dict[\u001b[39mstr\u001b[39m, Any]:\n\u001b[1;32m--> 728\u001b[0m     resolved, _ \u001b[39m=\u001b[39m \u001b[39mcls\u001b[39;49m\u001b[39m.\u001b[39;49m_make(\n\u001b[0;32m    729\u001b[0m         config, schema\u001b[39m=\u001b[39;49mschema, overrides\u001b[39m=\u001b[39;49moverrides, validate\u001b[39m=\u001b[39;49mvalidate, resolve\u001b[39m=\u001b[39;49m\u001b[39mTrue\u001b[39;49;00m\n\u001b[0;32m    730\u001b[0m     )\n\u001b[0;32m    731\u001b[0m     \u001b[39mreturn\u001b[39;00m resolved\n",
      "File \u001b[1;32m~\\AppData\\Roaming\\Python\\Python310\\site-packages\\confection\\__init__.py:777\u001b[0m, in \u001b[0;36mregistry._make\u001b[1;34m(cls, config, schema, overrides, resolve, validate)\u001b[0m\n\u001b[0;32m    775\u001b[0m \u001b[39mif\u001b[39;00m \u001b[39mnot\u001b[39;00m is_interpolated:\n\u001b[0;32m    776\u001b[0m     config \u001b[39m=\u001b[39m Config(orig_config)\u001b[39m.\u001b[39minterpolate()\n\u001b[1;32m--> 777\u001b[0m filled, _, resolved \u001b[39m=\u001b[39m \u001b[39mcls\u001b[39;49m\u001b[39m.\u001b[39;49m_fill(\n\u001b[0;32m    778\u001b[0m     config, schema, validate\u001b[39m=\u001b[39;49mvalidate, overrides\u001b[39m=\u001b[39;49moverrides, resolve\u001b[39m=\u001b[39;49mresolve\n\u001b[0;32m    779\u001b[0m )\n\u001b[0;32m    780\u001b[0m filled \u001b[39m=\u001b[39m Config(filled, section_order\u001b[39m=\u001b[39msection_order)\n\u001b[0;32m    781\u001b[0m \u001b[39m# Check that overrides didn't include invalid properties not in config\u001b[39;00m\n",
      "File \u001b[1;32m~\\AppData\\Roaming\\Python\\Python310\\site-packages\\confection\\__init__.py:849\u001b[0m, in \u001b[0;36mregistry._fill\u001b[1;34m(cls, config, schema, validate, resolve, parent, overrides)\u001b[0m\n\u001b[0;32m    846\u001b[0m     getter \u001b[39m=\u001b[39m \u001b[39mcls\u001b[39m\u001b[39m.\u001b[39mget(reg_name, func_name)\n\u001b[0;32m    847\u001b[0m     \u001b[39m# We don't want to try/except this and raise our own error\u001b[39;00m\n\u001b[0;32m    848\u001b[0m     \u001b[39m# here, because we want the traceback if the function fails.\u001b[39;00m\n\u001b[1;32m--> 849\u001b[0m     getter_result \u001b[39m=\u001b[39m getter(\u001b[39m*\u001b[39margs, \u001b[39m*\u001b[39m\u001b[39m*\u001b[39mkwargs)\n\u001b[0;32m    850\u001b[0m \u001b[39melse\u001b[39;00m:\n\u001b[0;32m    851\u001b[0m     \u001b[39m# We're not resolving and calling the function, so replace\u001b[39;00m\n\u001b[0;32m    852\u001b[0m     \u001b[39m# the getter_result with a Promise class\u001b[39;00m\n\u001b[0;32m    853\u001b[0m     getter_result \u001b[39m=\u001b[39m Promise(\n\u001b[0;32m    854\u001b[0m         registry\u001b[39m=\u001b[39mreg_name, name\u001b[39m=\u001b[39mfunc_name, args\u001b[39m=\u001b[39margs, kwargs\u001b[39m=\u001b[39mkwargs\n\u001b[0;32m    855\u001b[0m     )\n",
      "File \u001b[1;32m~\\AppData\\Roaming\\Python\\Python310\\site-packages\\spacy\\language.py:108\u001b[0m, in \u001b[0;36mload_lookups_data\u001b[1;34m(lang, tables)\u001b[0m\n\u001b[0;32m    105\u001b[0m \u001b[39m@registry\u001b[39m\u001b[39m.\u001b[39mmisc(\u001b[39m\"\u001b[39m\u001b[39mspacy.LookupsDataLoader.v1\u001b[39m\u001b[39m\"\u001b[39m)\n\u001b[0;32m    106\u001b[0m \u001b[39mdef\u001b[39;00m \u001b[39mload_lookups_data\u001b[39m(lang, tables):\n\u001b[0;32m    107\u001b[0m     util\u001b[39m.\u001b[39mlogger\u001b[39m.\u001b[39mdebug(\u001b[39m\"\u001b[39m\u001b[39mLoading lookups from spacy-lookups-data: \u001b[39m\u001b[39m%s\u001b[39;00m\u001b[39m\"\u001b[39m, tables)\n\u001b[1;32m--> 108\u001b[0m     lookups \u001b[39m=\u001b[39m load_lookups(lang\u001b[39m=\u001b[39;49mlang, tables\u001b[39m=\u001b[39;49mtables)\n\u001b[0;32m    109\u001b[0m     \u001b[39mreturn\u001b[39;00m lookups\n",
      "File \u001b[1;32m~\\AppData\\Roaming\\Python\\Python310\\site-packages\\spacy\\lookups.py:30\u001b[0m, in \u001b[0;36mload_lookups\u001b[1;34m(lang, tables, strict)\u001b[0m\n\u001b[0;32m     28\u001b[0m \u001b[39mif\u001b[39;00m lang \u001b[39mnot\u001b[39;00m \u001b[39min\u001b[39;00m registry\u001b[39m.\u001b[39mlookups:\n\u001b[0;32m     29\u001b[0m     \u001b[39mif\u001b[39;00m strict \u001b[39mand\u001b[39;00m \u001b[39mlen\u001b[39m(tables) \u001b[39m>\u001b[39m \u001b[39m0\u001b[39m:\n\u001b[1;32m---> 30\u001b[0m         \u001b[39mraise\u001b[39;00m \u001b[39mValueError\u001b[39;00m(Errors\u001b[39m.\u001b[39mE955\u001b[39m.\u001b[39mformat(table\u001b[39m=\u001b[39m\u001b[39m\"\u001b[39m\u001b[39m, \u001b[39m\u001b[39m\"\u001b[39m\u001b[39m.\u001b[39mjoin(tables), lang\u001b[39m=\u001b[39mlang))\n\u001b[0;32m     31\u001b[0m     \u001b[39mreturn\u001b[39;00m lookups\n\u001b[0;32m     32\u001b[0m data \u001b[39m=\u001b[39m registry\u001b[39m.\u001b[39mlookups\u001b[39m.\u001b[39mget(lang)\n",
      "\u001b[1;31mValueError\u001b[0m: [E955] Can't find table(s) lexeme_norm for language 'en' in spacy-lookups-data. Make sure you have the package installed or provide your own lookup tables if no default lookups are available for your language."
     ]
    }
   ],
   "source": [
    "import spacy\n",
    "import random\n",
    "from spacy.util import minibatch, compounding\n",
    "\n",
    "# Load the model\n",
    "nlp = spacy.load(\"en_core_web_sm\")\n",
    "\n",
    "# Define the training data\n",
    "train_data = [ \n",
    "    (settings[\"visibility\"][\"public_profile\"][\"description\"], {\"cats\": {\"positive\": 1, \"negative\": 0}}),\n",
    "    (settings[\"visibility\"][\"connect_with_me\"][\"description\"], {\"cats\": {\"positive\": 0, \"negative\": 1}})\n",
    "]\n",
    "\n",
    "\n",
    "# Add the textcat component to the pipeline and configure it with the labels\n",
    "textcat = nlp.add_pipe(\"textcat\")\n",
    "textcat.add_label(\"positive\")\n",
    "textcat.add_label(\"negative\")\n",
    "\n",
    "# Train the model\n",
    "nlp.begin_training()\n",
    "batch_size = 8\n",
    "for i in range(10):\n",
    "    random.shuffle(train_data)\n",
    "    batches = minibatch(train_data, size=compounding(batch_size, 32, 1.001))\n",
    "    losses = {}\n",
    "    for batch in batches:\n",
    "        texts, annotations = zip(*batch)\n",
    "        nlp.update(texts, annotations, losses=losses)\n",
    "    print(\"Losses\", losses)\n"
   ]
  }
 ],
 "metadata": {
  "kernelspec": {
   "display_name": "Python 3",
   "language": "python",
   "name": "python3"
  },
  "language_info": {
   "codemirror_mode": {
    "name": "ipython",
    "version": 3
   },
   "file_extension": ".py",
   "mimetype": "text/x-python",
   "name": "python",
   "nbconvert_exporter": "python",
   "pygments_lexer": "ipython3",
   "version": "3.10.9"
  },
  "orig_nbformat": 4,
  "vscode": {
   "interpreter": {
    "hash": "26de051ba29f2982a8de78e945f0abaf191376122a1563185a90213a26c5da77"
   }
  }
 },
 "nbformat": 4,
 "nbformat_minor": 2
}
