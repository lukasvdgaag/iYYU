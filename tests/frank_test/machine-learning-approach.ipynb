{
 "cells": [
  {
   "attachments": {},
   "cell_type": "markdown",
   "metadata": {},
   "source": [
    "# Machine learning approach for chat bot\n",
    "\n",
    "### Use case\n",
    "\n",
    "The goal is to train a machine learning algorithm to be able to advice a user on privacy settings in a specific platform."
   ]
  },
  {
   "cell_type": "code",
   "execution_count": 3,
   "metadata": {},
   "outputs": [
    {
     "name": "stdout",
     "output_type": "stream",
     "text": [
      "{'visibility': {'public_profile': {'description': 'Allows others to view your profile.', 'recommended_action': 'Enable to let others find you.', 'actions': ['Enable to publish your profile.', 'Disable to make your profile not viewable.']}, 'connect_with_me': {'description': 'Allows others to send you connection requests.', 'recommended_action': 'Enable to let others connect with you.', 'actions': ['Enable to allow connection requests.', 'Disable to block connection requests.']}, 'visible_for_search': {'description': 'Controls whether your profile shows up in search results.', 'recommended_action': 'Enable to let others find you.', 'actions': ['Enable to show up in search results.', 'Disable to not show up in search results.']}, 'who_can_find_you': {'description': 'Controls who can find your profile.', 'recommended_action': \"Set to 'Logged on only' to only allow platform users to find you.\", 'actions': [\"Set to 'Everyone' to let everyone find you.\", \"Set to 'Logged on only' to only allow platform users to find you.\"]}}, 'system_notifications': {'system_critical': {'description': 'Receive important notifications such as reset password and authentication emails.', 'recommended_action': 'Enable to receive critical notifications.', 'actions': ['Enable to receive notifications.', 'Disable to not receive such notifications.']}, 'news': {'description': 'Receive updates when new features are released on iyyu.com.', 'recommended_action': 'Enable to receive news notifications.', 'actions': ['Enable to receive news notifications.', 'Disable to not receive such notifications.']}, 'updates': {'description': 'Receive notifications when there is news to share.', 'recommended_action': 'Enable to receive important update notifications.', 'actions': ['Enable to receive update notifications.', 'Disable to not receive such notifications.']}}, 'connect': {'receive_notification_for_connecting': {'description': 'Receive an email notification when someone wants to connect with you.', 'recommended_action': 'Enable to receive important email.', 'actions': ['Enable to receive email notifications.', 'Disable to not receive email notifications.']}, 'receive_notification_for_request_update': {'description': 'Receive an email notification when someone accepts or declines your request to connect with them.', 'recommended_action': 'Enable to receive important email.', 'actions': ['Enable to receive email notifications.', 'Disable to not receive email notifications.']}, 'receive_notification_when_someone_start_following': {'description': 'Receive an email notification when someone starts following your notes.', 'recommended_action': 'Enable to receive important email.', 'actions': ['Enable to receive email notifications.', 'Disable to not receive email notifications.']}}, 'interact': {'receive_notification_for_messages': {'description': 'Receive a notification when someone sends you a message.', 'recommended_action': 'Enable to stay up-to-date with your messages.', 'actions': ['Enable to receive notifications.', 'Disable to not receive notifications.']}, 'receive_notification_for_publishes_notes': {'description': 'Receive a notification when someone you follow publishes a note.', 'recommended_action': \"Enable to stay updated on your network's activity.\", 'actions': ['Enable to receive notifications.', 'Disable to not receive notifications.']}}}\n"
     ]
    }
   ],
   "source": [
    "import json\n",
    "\n",
    "with open('training-data.json') as f:\n",
    "    settings = json.load(f)\n",
    "\n",
    "print(settings)"
   ]
  },
  {
   "cell_type": "code",
   "execution_count": 12,
   "metadata": {},
   "outputs": [],
   "source": [
    "import spacy\n",
    "import random\n",
    "from spacy.util import minibatch, compounding\n",
    "\n",
    "# Load the model\n",
    "nlp = spacy.load(\"en_core_web_sm\")\n",
    "\n",
    "# Define the training data\n",
    "train_data = [\n",
    "    (settings[\"visibility\"][\"public_profile\"][\"description\"], {\"cats\": {\"positive\": 1, \"negative\": 0}}),\n",
    "    (settings[\"visibility\"][\"connect_with_me\"][\"description\"], {\"cats\": {\"positive\": 0, \"negative\": 1}})\n",
    "]\n",
    "\n",
    "\n",
    "\n",
    "\n",
    "# Add the textcat component to the pipeline and configure it with the labels\n",
    "textcat = nlp.add_pipe(\"textcat\")\n",
    "textcat.add_label(\"positive\")\n",
    "textcat.add_label(\"negative\")\n",
    "\n",
    "# Train the model\n",
    "nlp.begin_training()\n",
    "for i in range(10):\n",
    "    for text, annotations in train_data:\n",
    "        example = Example.from_dict(nlp.make_doc(text), annotations)\n",
    "        nlp.update([example])\n"
   ]
  },
  {
   "attachments": {},
   "cell_type": "markdown",
   "metadata": {},
   "source": [
    "Gradio app"
   ]
  },
  {
   "cell_type": "code",
   "execution_count": 11,
   "metadata": {},
   "outputs": [
    {
     "name": "stdout",
     "output_type": "stream",
     "text": [
      "Running on local URL:  http://127.0.0.1:7860\n",
      "\n",
      "To create a public link, set `share=True` in `launch()`.\n"
     ]
    },
    {
     "data": {
      "text/html": [
       "<div><iframe src=\"http://127.0.0.1:7860/\" width=\"100%\" height=\"500\" allow=\"autoplay; camera; microphone; clipboard-read; clipboard-write;\" frameborder=\"0\" allowfullscreen></iframe></div>"
      ],
      "text/plain": [
       "<IPython.core.display.HTML object>"
      ]
     },
     "metadata": {},
     "output_type": "display_data"
    },
    {
     "data": {
      "text/plain": []
     },
     "execution_count": 11,
     "metadata": {},
     "output_type": "execute_result"
    },
    {
     "name": "stderr",
     "output_type": "stream",
     "text": [
      "Traceback (most recent call last):\n",
      "  File \"C:\\Users\\Frank\\AppData\\Roaming\\Python\\Python310\\site-packages\\gradio\\routes.py\", line 374, in run_predict\n",
      "    output = await app.get_blocks().process_api(\n",
      "  File \"C:\\Users\\Frank\\AppData\\Roaming\\Python\\Python310\\site-packages\\gradio\\blocks.py\", line 1017, in process_api\n",
      "    result = await self.call_function(\n",
      "  File \"C:\\Users\\Frank\\AppData\\Roaming\\Python\\Python310\\site-packages\\gradio\\blocks.py\", line 835, in call_function\n",
      "    prediction = await anyio.to_thread.run_sync(\n",
      "  File \"C:\\Users\\Frank\\AppData\\Roaming\\Python\\Python310\\site-packages\\anyio\\to_thread.py\", line 31, in run_sync\n",
      "    return await get_asynclib().run_sync_in_worker_thread(\n",
      "  File \"C:\\Users\\Frank\\AppData\\Roaming\\Python\\Python310\\site-packages\\anyio\\_backends\\_asyncio.py\", line 937, in run_sync_in_worker_thread\n",
      "    return await future\n",
      "  File \"C:\\Users\\Frank\\AppData\\Roaming\\Python\\Python310\\site-packages\\anyio\\_backends\\_asyncio.py\", line 867, in run\n",
      "    result = context.run(func, *args)\n",
      "  File \"C:\\Users\\Frank\\AppData\\Local\\Temp\\ipykernel_33664\\186149115.py\", line 8, in chatbot\n",
      "    positive_label = doc.cats['positive'] > doc.cats['negative']\n",
      "KeyError: 'positive'\n",
      "Traceback (most recent call last):\n",
      "  File \"C:\\Users\\Frank\\AppData\\Roaming\\Python\\Python310\\site-packages\\gradio\\routes.py\", line 374, in run_predict\n",
      "    output = await app.get_blocks().process_api(\n",
      "  File \"C:\\Users\\Frank\\AppData\\Roaming\\Python\\Python310\\site-packages\\gradio\\blocks.py\", line 1017, in process_api\n",
      "    result = await self.call_function(\n",
      "  File \"C:\\Users\\Frank\\AppData\\Roaming\\Python\\Python310\\site-packages\\gradio\\blocks.py\", line 835, in call_function\n",
      "    prediction = await anyio.to_thread.run_sync(\n",
      "  File \"C:\\Users\\Frank\\AppData\\Roaming\\Python\\Python310\\site-packages\\anyio\\to_thread.py\", line 31, in run_sync\n",
      "    return await get_asynclib().run_sync_in_worker_thread(\n",
      "  File \"C:\\Users\\Frank\\AppData\\Roaming\\Python\\Python310\\site-packages\\anyio\\_backends\\_asyncio.py\", line 937, in run_sync_in_worker_thread\n",
      "    return await future\n",
      "  File \"C:\\Users\\Frank\\AppData\\Roaming\\Python\\Python310\\site-packages\\anyio\\_backends\\_asyncio.py\", line 867, in run\n",
      "    result = context.run(func, *args)\n",
      "  File \"C:\\Users\\Frank\\AppData\\Local\\Temp\\ipykernel_33664\\186149115.py\", line 8, in chatbot\n",
      "    positive_label = doc.cats['positive'] > doc.cats['negative']\n",
      "KeyError: 'positive'\n"
     ]
    }
   ],
   "source": [
    "import spacy\n",
    "import gradio as gr\n",
    "\n",
    "nlp = spacy.load(\"en_core_web_sm\")\n",
    "\n",
    "def chatbot(inp):\n",
    "    doc = nlp(inp)\n",
    "    positive_label = doc.cats['positive'] > doc.cats['negative']\n",
    "    return \"Positive\" if positive_label else \"Negative\"\n",
    "\n",
    "iface = gr.Interface(chatbot, \"textbox\", \"text\")\n",
    "iface.launch()\n"
   ]
  }
 ],
 "metadata": {
  "kernelspec": {
   "display_name": "Python 3",
   "language": "python",
   "name": "python3"
  },
  "language_info": {
   "codemirror_mode": {
    "name": "ipython",
    "version": 3
   },
   "file_extension": ".py",
   "mimetype": "text/x-python",
   "name": "python",
   "nbconvert_exporter": "python",
   "pygments_lexer": "ipython3",
   "version": "3.10.9"
  },
  "orig_nbformat": 4,
  "vscode": {
   "interpreter": {
    "hash": "26de051ba29f2982a8de78e945f0abaf191376122a1563185a90213a26c5da77"
   }
  }
 },
 "nbformat": 4,
 "nbformat_minor": 2
}
