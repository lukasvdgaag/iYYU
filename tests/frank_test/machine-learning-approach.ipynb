{
 "cells": [
  {
   "attachments": {},
   "cell_type": "markdown",
   "metadata": {},
   "source": [
    "# Machine learning approach for chat bot\n",
    "\n",
    "### Use case\n",
    "\n",
    "The goal is to train a machine learning algorithm to be able to advice a user on privacy settings in a specific platform."
   ]
  },
  {
   "cell_type": "code",
   "execution_count": 11,
   "metadata": {},
   "outputs": [
    {
     "name": "stdout",
     "output_type": "stream",
     "text": [
      "{'visibility': {'public_profile': {'description': 'Allows others to view your profile.', 'recommended_action': 'Enable to let others find you.', 'actions': ['Enable to publish your profile.', 'Disable to make your profile not viewable.']}, 'connect_with_me': {'description': 'Allows others to send you connection requests.', 'recommended_action': 'Enable to let others connect with you.', 'actions': ['Enable to allow connection requests.', 'Disable to block connection requests.']}, 'visible_for_search': {'description': 'Controls whether your profile shows up in search results.', 'recommended_action': 'Enable to let others find you.', 'actions': ['Enable to show up in search results.', 'Disable to not show up in search results.']}, 'who_can_find_you': {'description': 'Controls who can find your profile.', 'recommended_action': \"Set to 'Logged on only' to only allow platform users to find you.\", 'actions': [\"Set to 'Everyone' to let everyone find you.\", \"Set to 'Logged on only' to only allow platform users to find you.\"]}}, 'system_notifications': {'system_critical': {'description': 'Receive important notifications such as reset password and authentication emails.', 'recommended_action': 'Enable to receive critical notifications.', 'actions': ['Enable to receive notifications.', 'Disable to not receive such notifications.']}, 'news': {'description': 'Receive updates when new features are released on iyyu.com.', 'recommended_action': 'Enable to receive news notifications.', 'actions': ['Enable to receive news notifications.', 'Disable to not receive such notifications.']}, 'updates': {'description': 'Receive notifications when there is news to share.', 'recommended_action': 'Enable to receive important update notifications.', 'actions': ['Enable to receive update notifications.', 'Disable to not receive such notifications.']}}, 'connect': {'receive_notification_for_connecting': {'description': 'Receive an email notification when someone wants to connect with you.', 'recommended_action': 'Enable to receive important email.', 'actions': ['Enable to receive email notifications.', 'Disable to not receive email notifications.']}, 'receive_notification_for_request_update': {'description': 'Receive an email notification when someone accepts or declines your request to connect with them.', 'recommended_action': 'Enable to receive important email.', 'actions': ['Enable to receive email notifications.', 'Disable to not receive email notifications.']}, 'receive_notification_when_someone_start_following': {'description': 'Receive an email notification when someone starts following your notes.', 'recommended_action': 'Enable to receive important email.', 'actions': ['Enable to receive email notifications.', 'Disable to not receive email notifications.']}}, 'interact': {'receive_notification_for_messages': {'description': 'Receive a notification when someone sends you a message.', 'recommended_action': 'Enable to stay up-to-date with your messages.', 'actions': ['Enable to receive notifications.', 'Disable to not receive notifications.']}, 'receive_notification_for_publishes_notes': {'description': 'Receive a notification when someone you follow publishes a note.', 'recommended_action': \"Enable to stay updated on your network's activity.\", 'actions': ['Enable to receive notifications.', 'Disable to not receive notifications.']}}}\n"
     ]
    }
   ],
   "source": [
    "import json\n",
    "\n",
    "with open('training-data.json') as f:\n",
    "    settings = json.load(f)\n",
    "\n",
    "print(settings)"
   ]
  },
  {
   "cell_type": "code",
   "execution_count": 12,
   "metadata": {},
   "outputs": [
    {
     "ename": "OSError",
     "evalue": "[E050] Can't find model 'en_core_web_sm'. It doesn't seem to be a Python package or a valid path to a data directory.",
     "output_type": "error",
     "traceback": [
      "\u001B[1;31m---------------------------------------------------------------------------\u001B[0m",
      "\u001B[1;31mOSError\u001B[0m                                   Traceback (most recent call last)",
      "Cell \u001B[1;32mIn[12], line 8\u001B[0m\n\u001B[0;32m      4\u001B[0m \u001B[38;5;28;01mimport\u001B[39;00m \u001B[38;5;21;01mrandom\u001B[39;00m\n\u001B[0;32m      7\u001B[0m \u001B[38;5;66;03m# Load the model\u001B[39;00m\n\u001B[1;32m----> 8\u001B[0m nlp \u001B[38;5;241m=\u001B[39m \u001B[43mspacy\u001B[49m\u001B[38;5;241;43m.\u001B[39;49m\u001B[43mload\u001B[49m\u001B[43m(\u001B[49m\u001B[38;5;124;43m\"\u001B[39;49m\u001B[38;5;124;43men_core_web_sm\u001B[39;49m\u001B[38;5;124;43m\"\u001B[39;49m\u001B[43m)\u001B[49m\n\u001B[0;32m     10\u001B[0m \u001B[38;5;66;03m# Define the training data\u001B[39;00m\n\u001B[0;32m     11\u001B[0m train_data \u001B[38;5;241m=\u001B[39m [\n\u001B[0;32m     12\u001B[0m     (settings[\u001B[38;5;124m\"\u001B[39m\u001B[38;5;124mvisibility\u001B[39m\u001B[38;5;124m\"\u001B[39m][\u001B[38;5;124m\"\u001B[39m\u001B[38;5;124mpublic_profile\u001B[39m\u001B[38;5;124m\"\u001B[39m][\u001B[38;5;124m\"\u001B[39m\u001B[38;5;124mdescription\u001B[39m\u001B[38;5;124m\"\u001B[39m], {\u001B[38;5;124m\"\u001B[39m\u001B[38;5;124mcats\u001B[39m\u001B[38;5;124m\"\u001B[39m: {\u001B[38;5;124m\"\u001B[39m\u001B[38;5;124mpositive\u001B[39m\u001B[38;5;124m\"\u001B[39m: \u001B[38;5;241m1\u001B[39m, \u001B[38;5;124m\"\u001B[39m\u001B[38;5;124mnegative\u001B[39m\u001B[38;5;124m\"\u001B[39m: \u001B[38;5;241m0\u001B[39m}}),\n\u001B[0;32m     13\u001B[0m     (settings[\u001B[38;5;124m\"\u001B[39m\u001B[38;5;124mvisibility\u001B[39m\u001B[38;5;124m\"\u001B[39m][\u001B[38;5;124m\"\u001B[39m\u001B[38;5;124mconnect_with_me\u001B[39m\u001B[38;5;124m\"\u001B[39m][\u001B[38;5;124m\"\u001B[39m\u001B[38;5;124mdescription\u001B[39m\u001B[38;5;124m\"\u001B[39m], {\u001B[38;5;124m\"\u001B[39m\u001B[38;5;124mcats\u001B[39m\u001B[38;5;124m\"\u001B[39m: {\u001B[38;5;124m\"\u001B[39m\u001B[38;5;124mpositive\u001B[39m\u001B[38;5;124m\"\u001B[39m: \u001B[38;5;241m0\u001B[39m, \u001B[38;5;124m\"\u001B[39m\u001B[38;5;124mnegative\u001B[39m\u001B[38;5;124m\"\u001B[39m: \u001B[38;5;241m1\u001B[39m}})\n\u001B[0;32m     14\u001B[0m ]\n",
      "File \u001B[1;32m~\\AppData\\Local\\Programs\\Python\\Python310\\lib\\site-packages\\spacy\\__init__.py:54\u001B[0m, in \u001B[0;36mload\u001B[1;34m(name, vocab, disable, enable, exclude, config)\u001B[0m\n\u001B[0;32m     30\u001B[0m \u001B[38;5;28;01mdef\u001B[39;00m \u001B[38;5;21mload\u001B[39m(\n\u001B[0;32m     31\u001B[0m     name: Union[\u001B[38;5;28mstr\u001B[39m, Path],\n\u001B[0;32m     32\u001B[0m     \u001B[38;5;241m*\u001B[39m,\n\u001B[1;32m   (...)\u001B[0m\n\u001B[0;32m     37\u001B[0m     config: Union[Dict[\u001B[38;5;28mstr\u001B[39m, Any], Config] \u001B[38;5;241m=\u001B[39m util\u001B[38;5;241m.\u001B[39mSimpleFrozenDict(),\n\u001B[0;32m     38\u001B[0m ) \u001B[38;5;241m-\u001B[39m\u001B[38;5;241m>\u001B[39m Language:\n\u001B[0;32m     39\u001B[0m \u001B[38;5;250m    \u001B[39m\u001B[38;5;124;03m\"\"\"Load a spaCy model from an installed package or a local path.\u001B[39;00m\n\u001B[0;32m     40\u001B[0m \n\u001B[0;32m     41\u001B[0m \u001B[38;5;124;03m    name (str): Package name or model path.\u001B[39;00m\n\u001B[1;32m   (...)\u001B[0m\n\u001B[0;32m     52\u001B[0m \u001B[38;5;124;03m    RETURNS (Language): The loaded nlp object.\u001B[39;00m\n\u001B[0;32m     53\u001B[0m \u001B[38;5;124;03m    \"\"\"\u001B[39;00m\n\u001B[1;32m---> 54\u001B[0m     \u001B[38;5;28;01mreturn\u001B[39;00m \u001B[43mutil\u001B[49m\u001B[38;5;241;43m.\u001B[39;49m\u001B[43mload_model\u001B[49m\u001B[43m(\u001B[49m\n\u001B[0;32m     55\u001B[0m \u001B[43m        \u001B[49m\u001B[43mname\u001B[49m\u001B[43m,\u001B[49m\n\u001B[0;32m     56\u001B[0m \u001B[43m        \u001B[49m\u001B[43mvocab\u001B[49m\u001B[38;5;241;43m=\u001B[39;49m\u001B[43mvocab\u001B[49m\u001B[43m,\u001B[49m\n\u001B[0;32m     57\u001B[0m \u001B[43m        \u001B[49m\u001B[43mdisable\u001B[49m\u001B[38;5;241;43m=\u001B[39;49m\u001B[43mdisable\u001B[49m\u001B[43m,\u001B[49m\n\u001B[0;32m     58\u001B[0m \u001B[43m        \u001B[49m\u001B[43menable\u001B[49m\u001B[38;5;241;43m=\u001B[39;49m\u001B[43menable\u001B[49m\u001B[43m,\u001B[49m\n\u001B[0;32m     59\u001B[0m \u001B[43m        \u001B[49m\u001B[43mexclude\u001B[49m\u001B[38;5;241;43m=\u001B[39;49m\u001B[43mexclude\u001B[49m\u001B[43m,\u001B[49m\n\u001B[0;32m     60\u001B[0m \u001B[43m        \u001B[49m\u001B[43mconfig\u001B[49m\u001B[38;5;241;43m=\u001B[39;49m\u001B[43mconfig\u001B[49m\u001B[43m,\u001B[49m\n\u001B[0;32m     61\u001B[0m \u001B[43m    \u001B[49m\u001B[43m)\u001B[49m\n",
      "File \u001B[1;32m~\\AppData\\Local\\Programs\\Python\\Python310\\lib\\site-packages\\spacy\\util.py:449\u001B[0m, in \u001B[0;36mload_model\u001B[1;34m(name, vocab, disable, enable, exclude, config)\u001B[0m\n\u001B[0;32m    447\u001B[0m \u001B[38;5;28;01mif\u001B[39;00m name \u001B[38;5;129;01min\u001B[39;00m OLD_MODEL_SHORTCUTS:\n\u001B[0;32m    448\u001B[0m     \u001B[38;5;28;01mraise\u001B[39;00m \u001B[38;5;167;01mIOError\u001B[39;00m(Errors\u001B[38;5;241m.\u001B[39mE941\u001B[38;5;241m.\u001B[39mformat(name\u001B[38;5;241m=\u001B[39mname, full\u001B[38;5;241m=\u001B[39mOLD_MODEL_SHORTCUTS[name]))  \u001B[38;5;66;03m# type: ignore[index]\u001B[39;00m\n\u001B[1;32m--> 449\u001B[0m \u001B[38;5;28;01mraise\u001B[39;00m \u001B[38;5;167;01mIOError\u001B[39;00m(Errors\u001B[38;5;241m.\u001B[39mE050\u001B[38;5;241m.\u001B[39mformat(name\u001B[38;5;241m=\u001B[39mname))\n",
      "\u001B[1;31mOSError\u001B[0m: [E050] Can't find model 'en_core_web_sm'. It doesn't seem to be a Python package or a valid path to a data directory."
     ]
    }
   ],
   "source": [
    "import spacy\n",
    "from spacy.training import Example\n",
    "from spacy.util import minibatch, compounding\n",
    "import random\n",
    "\n",
    "\n",
    "# Load the model\n",
    "nlp = spacy.load(\"en_core_web_sm\")\n",
    "\n",
    "# Define the training data\n",
    "train_data = [\n",
    "    (settings[\"visibility\"][\"public_profile\"][\"description\"], {\"cats\": {\"positive\": 1, \"negative\": 0}}),\n",
    "    (settings[\"visibility\"][\"connect_with_me\"][\"description\"], {\"cats\": {\"positive\": 0, \"negative\": 1}})\n",
    "]\n",
    "\n",
    "# Add the textcat component to the pipeline and configure it with the labels\n",
    "textcat = nlp.add_pipe(\"textcat\")\n",
    "textcat.add_label(\"positive\")\n",
    "textcat.add_label(\"negative\")\n",
    "\n",
    "# Train the model\n",
    "nlp.begin_training()\n",
    "for i in range(10):\n",
    "    for text, annotations in train_data:\n",
    "        example = Example.from_dict(nlp.make_doc(text), annotations)\n",
    "        nlp.update([example])\n"
   ]
  },
  {
   "attachments": {},
   "cell_type": "markdown",
   "metadata": {},
   "source": [
    "Gradio app"
   ]
  },
  {
   "cell_type": "code",
   "execution_count": 13,
   "metadata": {},
   "outputs": [
    {
     "ename": "AttributeError",
     "evalue": "'dict' object has no attribute 'then'",
     "output_type": "error",
     "traceback": [
      "\u001B[1;31m---------------------------------------------------------------------------\u001B[0m",
      "\u001B[1;31mAttributeError\u001B[0m                            Traceback (most recent call last)",
      "Cell \u001B[1;32mIn[13], line 27\u001B[0m\n\u001B[0;32m     19\u001B[0m         \u001B[38;5;28;01mreturn\u001B[39;00m history\n\u001B[0;32m     21\u001B[0m     \u001B[38;5;66;03m# def bot(history):\u001B[39;00m\n\u001B[0;32m     22\u001B[0m     \u001B[38;5;66;03m#     bot_message = random.choice([\"Yes\", \"No\"])\u001B[39;00m\n\u001B[0;32m     23\u001B[0m     \u001B[38;5;66;03m#     history[-1][1] = bot_message\u001B[39;00m\n\u001B[0;32m     24\u001B[0m     \u001B[38;5;66;03m#     time.sleep(1)\u001B[39;00m\n\u001B[0;32m     25\u001B[0m     \u001B[38;5;66;03m#     return history\u001B[39;00m\n\u001B[1;32m---> 27\u001B[0m     \u001B[43mmsg\u001B[49m\u001B[38;5;241;43m.\u001B[39;49m\u001B[43msubmit\u001B[49m\u001B[43m(\u001B[49m\u001B[43muser\u001B[49m\u001B[43m,\u001B[49m\u001B[43m \u001B[49m\u001B[43m[\u001B[49m\u001B[43mmsg\u001B[49m\u001B[43m,\u001B[49m\u001B[43m \u001B[49m\u001B[43mchatbot\u001B[49m\u001B[43m]\u001B[49m\u001B[43m,\u001B[49m\u001B[43m \u001B[49m\u001B[43m[\u001B[49m\u001B[43mmsg\u001B[49m\u001B[43m,\u001B[49m\u001B[43m \u001B[49m\u001B[43mchatbot\u001B[49m\u001B[43m]\u001B[49m\u001B[43m,\u001B[49m\u001B[43m \u001B[49m\u001B[43mqueue\u001B[49m\u001B[38;5;241;43m=\u001B[39;49m\u001B[38;5;28;43;01mFalse\u001B[39;49;00m\u001B[43m)\u001B[49m\u001B[38;5;241;43m.\u001B[39;49m\u001B[43mthen\u001B[49m(\n\u001B[0;32m     28\u001B[0m         bot, chatbot, chatbot\n\u001B[0;32m     29\u001B[0m     )\n\u001B[0;32m     30\u001B[0m     clear\u001B[38;5;241m.\u001B[39mclick(\u001B[38;5;28;01mlambda\u001B[39;00m: \u001B[38;5;28;01mNone\u001B[39;00m, \u001B[38;5;28;01mNone\u001B[39;00m, chatbot, queue\u001B[38;5;241m=\u001B[39m\u001B[38;5;28;01mFalse\u001B[39;00m)\n\u001B[0;32m     32\u001B[0m demo\u001B[38;5;241m.\u001B[39mlaunch()\n",
      "\u001B[1;31mAttributeError\u001B[0m: 'dict' object has no attribute 'then'"
     ]
    }
   ],
   "source": [
    "import gradio as gr\n",
    "import random\n",
    "import time\n",
    "\n",
    "with gr.Blocks() as demo:\n",
    "    chatbot = gr.Chatbot()\n",
    "    msg = gr.Textbox()\n",
    "    clear = gr.Button(\"Clear\")\n",
    "\n",
    "    def user(user_message, history):\n",
    "        return \"\", history + [[user_message, None]]\n",
    "\n",
    "    def bot(history):\n",
    "        user_message = history[-1][0]\n",
    "        doc = nlp(user_message)\n",
    "        positive_label = doc.cats['positive'] > doc.cats['negative']\n",
    "        history[-1][1] = \"Positive\" if positive_label else \"Negative\"\n",
    "        time.sleep(1)\n",
    "        return history\n",
    "\n",
    "    # def bot(history):\n",
    "    #     bot_message = random.choice([\"Yes\", \"No\"])\n",
    "    #     history[-1][1] = bot_message\n",
    "    #     time.sleep(1)\n",
    "    #     return history\n",
    "\n",
    "    msg.submit(user, [msg, chatbot], [msg, chatbot], queue=False).then(\n",
    "        bot, chatbot, chatbot\n",
    "    )\n",
    "    clear.click(lambda: None, None, chatbot, queue=False)\n",
    "\n",
    "demo.launch()\n"
   ]
  },
  {
   "cell_type": "code",
   "execution_count": null,
   "outputs": [],
   "source": [],
   "metadata": {
    "collapsed": false
   }
  }
 ],
 "metadata": {
  "kernelspec": {
   "display_name": "Python 3",
   "language": "python",
   "name": "python3"
  },
  "language_info": {
   "codemirror_mode": {
    "name": "ipython",
    "version": 3
   },
   "file_extension": ".py",
   "mimetype": "text/x-python",
   "name": "python",
   "nbconvert_exporter": "python",
   "pygments_lexer": "ipython3",
   "version": "3.10.9"
  },
  "orig_nbformat": 4,
  "vscode": {
   "interpreter": {
    "hash": "26de051ba29f2982a8de78e945f0abaf191376122a1563185a90213a26c5da77"
   }
  }
 },
 "nbformat": 4,
 "nbformat_minor": 2
}
