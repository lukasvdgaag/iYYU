{
 "cells": [
  {
   "cell_type": "code",
   "execution_count": 43,
   "metadata": {},
   "outputs": [
    {
     "name": "stderr",
     "output_type": "stream",
     "text": [
      "Some weights of the model checkpoint at bert-base-uncased were not used when initializing BertForSequenceClassification: ['cls.predictions.decoder.weight', 'cls.predictions.bias', 'cls.predictions.transform.dense.weight', 'cls.seq_relationship.bias', 'cls.predictions.transform.LayerNorm.weight', 'cls.seq_relationship.weight', 'cls.predictions.transform.LayerNorm.bias', 'cls.predictions.transform.dense.bias']\n",
      "- This IS expected if you are initializing BertForSequenceClassification from the checkpoint of a model trained on another task or with another architecture (e.g. initializing a BertForSequenceClassification model from a BertForPreTraining model).\n",
      "- This IS NOT expected if you are initializing BertForSequenceClassification from the checkpoint of a model that you expect to be exactly identical (initializing a BertForSequenceClassification model from a BertForSequenceClassification model).\n",
      "Some weights of BertForSequenceClassification were not initialized from the model checkpoint at bert-base-uncased and are newly initialized: ['classifier.bias', 'classifier.weight']\n",
      "You should probably TRAIN this model on a down-stream task to be able to use it for predictions and inference.\n"
     ]
    },
    {
     "name": "stdout",
     "output_type": "stream",
     "text": [
      "Epoch 1, Loss: 1.388498067855835\n",
      "Epoch 2, Loss: 1.2602953910827637\n",
      "Epoch 3, Loss: 1.193776249885559\n",
      "Epoch 4, Loss: 1.1271312236785889\n",
      "Epoch 5, Loss: 1.0456219911575317\n",
      "Epoch 6, Loss: 0.9578683972358704\n",
      "Epoch 7, Loss: 0.9625304341316223\n",
      "Epoch 8, Loss: 0.8976312875747681\n",
      "Epoch 9, Loss: 0.8667942881584167\n",
      "Epoch 10, Loss: 0.8594805002212524\n"
     ]
    },
    {
     "data": {
      "text/plain": [
       "'store_hours'"
      ]
     },
     "execution_count": 43,
     "metadata": {},
     "output_type": "execute_result"
    }
   ],
   "source": [
    "import torch\n",
    "from transformers import BertTokenizer, BertForSequenceClassification\n",
    "\n",
    "# Define the training data\n",
    "train_data = [\n",
    "    (\"Book a table at 7pm at the Italian restaurant.\", \"book_table\"),\n",
    "    (\"I want to order a pizza for delivery.\", \"order_food\"),\n",
    "    (\"What time does the store open tomorrow?\", \"store_hours\"),\n",
    "    (\"Can you help me find a hotel near the airport?\", \"find_hotel\"),\n",
    "]\n",
    "\n",
    "# Define the mapping between labels and integers\n",
    "label_map = {label: i for i, label in enumerate(set([data[1] for data in train_data]))}\n",
    "\n",
    "# Convert the training data labels to integers using the label_map\n",
    "# A tensor is a multi-dimensional array that looks like a numpy array, it's used for neural networks\n",
    "labels = torch.tensor([label_map[data[1]] for data in train_data])\n",
    "\n",
    "# Load the pre-trained BERT model and tokenizer\n",
    "model = BertForSequenceClassification.from_pretrained(\"bert-base-uncased\", num_labels=len(label_map))\n",
    "tokenizer = BertTokenizer.from_pretrained(\"bert-base-uncased\")\n",
    "\n",
    "# Tokenize the training data and convert to tensors\n",
    "inputs = tokenizer.batch_encode_plus([data[0] for data in train_data], padding=True, truncation=True, return_tensors=\"pt\")\n",
    "\n",
    "# Fine-tune the model on the training data\n",
    "optimizer = torch.optim.Adam(model.parameters(), lr=1e-5)\n",
    "for epoch in range(10):\n",
    "    outputs = model(inputs[\"input_ids\"], attention_mask=inputs[\"attention_mask\"], labels=labels)\n",
    "    loss = outputs.loss\n",
    "    loss.backward()\n",
    "    optimizer.step()\n",
    "    optimizer.zero_grad()\n",
    "    print(f\"Epoch {epoch+1}, Loss: {loss.item()}\")\n",
    "\n",
    "# Test the model\n",
    "text = \"What time does the Italian restaurant open tomorrow?\"\n",
    "\n",
    "# inputs = tokenizer.encode_plus(text, padding=True, truncation=True, return_tensors=\"pt\")\n",
    "# outputs = model(inputs[\"input_ids\"], attention_mask=inputs[\"attention_mask\"])\n",
    "# predicted_label = torch.argmax(outputs.logits).item()\n",
    "# predicted_intent = [k for k, v in label_map.items() if v == predicted_label][0]\n",
    "# print(predicted_intent)\n",
    "\n",
    "def predict_intent(text):\n",
    "    inputs = tokenizer.encode_plus(text, padding=True, truncation=True, return_tensors=\"pt\")\n",
    "    outputs = model(inputs[\"input_ids\"], attention_mask=inputs[\"attention_mask\"])\n",
    "    predicted_label = torch.argmax(outputs.logits).item()\n",
    "    predicted_intent = [k for k, v in label_map.items() if v == predicted_label][0]\n",
    "    \n",
    "    return predicted_intent\n",
    "\n",
    "predict_intent(text)"
   ]
  },
  {
   "cell_type": "code",
   "execution_count": 44,
   "metadata": {},
   "outputs": [
    {
     "name": "stdout",
     "output_type": "stream",
     "text": [
      "Running on local URL:  http://127.0.0.1:7865\n",
      "\n",
      "To create a public link, set `share=True` in `launch()`.\n"
     ]
    },
    {
     "data": {
      "text/html": [
       "<div><iframe src=\"http://127.0.0.1:7865/\" width=\"100%\" height=\"500\" allow=\"autoplay; camera; microphone; clipboard-read; clipboard-write;\" frameborder=\"0\" allowfullscreen></iframe></div>"
      ],
      "text/plain": [
       "<IPython.core.display.HTML object>"
      ]
     },
     "metadata": {},
     "output_type": "display_data"
    },
    {
     "data": {
      "text/plain": []
     },
     "execution_count": 44,
     "metadata": {},
     "output_type": "execute_result"
    }
   ],
   "source": [
    "import gradio as gr\n",
    "import time\n",
    "\n",
    "# load the pre-trained intent analysis model\n",
    "# nlp = spacy.load(\"en_trf_bertbaseuncased_lg\")\n",
    "\n",
    "response_map = {\n",
    "    \"book_table\": [\"Your table has been booked.\", \"Reservation confirmed.\"],\n",
    "    \"order_food\": [\"Your pizza is on the way.\", \"Delivery confirmed.\"],\n",
    "    \"store_hours\": [\"We are open from 9am to 10pm.\", \"Our hours are 9am-10pm, 7 days a week.\"],\n",
    "    \"find_hotel\": [\"There are several hotels near the airport.\", \"Here are some hotels near the airport: ...\"]\n",
    "}\n",
    "\n",
    "\n",
    "with gr.Blocks() as demo:\n",
    "    chatbot = gr.Chatbot()\n",
    "    msg = gr.Textbox()\n",
    "    clear = gr.Button(\"Clear\")\n",
    "\n",
    "    def user(user_message, history):\n",
    "        return \"\", history + [[user_message, None]]\n",
    "\n",
    "    def bot(history):\n",
    "        user_message = history[-1][0]\n",
    "        predicted_intent = predict_intent(user_message)\n",
    "        response = random.choice(response_map[predicted_intent])\n",
    "        history[-1][1] = response\n",
    "        time.sleep(1)\n",
    "        return history\n",
    "\n",
    "\n",
    "\n",
    "    msg.submit(user, [msg, chatbot], [msg, chatbot], queue=False).then(\n",
    "        bot, chatbot, chatbot\n",
    "    )\n",
    "    clear.click(lambda: None, None, chatbot, queue=False)\n",
    "\n",
    "demo.launch()\n"
   ]
  },
  {
   "attachments": {},
   "cell_type": "markdown",
   "metadata": {},
   "source": [
    "a\n",
    "\n",
    "#### Source:\n",
    "\n",
    " https://www.section.io/engineering-education/intent-classification-with-rasa-and-spacy/"
   ]
  }
 ],
 "metadata": {
  "kernelspec": {
   "display_name": "Python 3",
   "language": "python",
   "name": "python3"
  },
  "language_info": {
   "codemirror_mode": {
    "name": "ipython",
    "version": 3
   },
   "file_extension": ".py",
   "mimetype": "text/x-python",
   "name": "python",
   "nbconvert_exporter": "python",
   "pygments_lexer": "ipython3",
   "version": "3.8.0"
  },
  "orig_nbformat": 4
 },
 "nbformat": 4,
 "nbformat_minor": 2
}
